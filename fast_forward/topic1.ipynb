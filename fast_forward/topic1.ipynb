{
 "cells": [
  {
   "cell_type": "code",
   "execution_count": 9,
   "metadata": {},
   "outputs": [],
   "source": [
    "import csv\n",
    "from pathlib import Path\n",
    "import numpy as np\n",
    "from ranking import Ranking\n",
    "from index import Mode, InMemoryIndex\n",
    "from encoder import TCTColBERTQueryEncoder as TCTColBERTQueryEncoderFF\n",
    "# from pyserini.search.faiss import FaissSearcher, TctColBertQueryEncoder\n",
    "from ir_measures import read_trec_qrels, calc_aggregate, nDCG, RR, P, R\n",
    "import sys\n",
    "\n",
    "# define values of eta to test\n",
    "etas = [0,10,20,30,40,50,60,70,80,90,100,500]\n",
    "\n",
    "# define values of alpha to test\n",
    "alphas = [0,0.1,0.2,0.3,0.4,0.5,0.6,0.7,0.8,0.9,1,-1]"
   ]
  },
  {
   "cell_type": "code",
   "execution_count": 4,
   "metadata": {},
   "outputs": [
    {
     "name": "stderr",
     "output_type": "stream",
     "text": [
      "Some weights of the model checkpoint at castorini/tct_colbert-msmarco were not used when initializing BertModel: ['cls.predictions.transform.dense.bias', 'cls.predictions.transform.LayerNorm.weight', 'cls.predictions.bias', 'cls.predictions.transform.dense.weight', 'cls.seq_relationship.weight', 'cls.seq_relationship.bias', 'cls.predictions.decoder.weight', 'cls.predictions.transform.LayerNorm.bias', 'cls.predictions.decoder.bias']\n",
      "- This IS expected if you are initializing BertModel from the checkpoint of a model trained on another task or with another architecture (e.g. initializing a BertForSequenceClassification model from a BertForPreTraining model).\n",
      "- This IS NOT expected if you are initializing BertModel from the checkpoint of a model that you expect to be exactly identical (initializing a BertForSequenceClassification model from a BertForSequenceClassification model).\n"
     ]
    }
   ],
   "source": [
    "# in_memory_index = InMemoryIndex(mode=Mode.PASSAGE, encoder=TCTColBERTQueryEncoderFF(\"castorini/tct_colbert-msmarco\"))\n",
    "in_memory_index = InMemoryIndex.from_disk('../../dev/testing/ffindex_passage_2019_2020.pkl')\n",
    "in_memory_index.encoder = TCTColBERTQueryEncoderFF(\"castorini/tct_colbert-msmarco\")"
   ]
  },
  {
   "cell_type": "code",
   "execution_count": 5,
   "metadata": {},
   "outputs": [
    {
     "name": "stdout",
     "output_type": "stream",
     "text": [
      "indexing 440079 documents or passages\n"
     ]
    }
   ],
   "source": [
    "sparse_ranking_2019 = Ranking.from_file(Path(\"../../dev/testing/msmarco-passage-test2019-sparse10000.txt\"))\n",
    "sparse_ranking_2019.cut(5000)\n",
    "sparse_ranking_2019.name = \"sparse_ranking_2019\"\n",
    "sparse_ranking_2020 = Ranking.from_file(Path(\"../../dev/testing/msmarco-passage-test2020-sparse10000.txt\"))\n",
    "sparse_ranking_2020.cut(5000)\n",
    "sparse_ranking_2020.name = \"sparse_ranking_2020\"\n",
    "all_ids = set.union(\n",
    "    *[set(sparse_ranking_2019[q_id].keys()) for q_id in sparse_ranking_2019.q_ids],\n",
    "    *[set(sparse_ranking_2020[q_id].keys()) for q_id in sparse_ranking_2020.q_ids]\n",
    ")\n",
    "print(f\"indexing {len(all_ids)} documents or passages\")"
   ]
  },
  {
   "cell_type": "code",
   "execution_count": 15,
   "metadata": {},
   "outputs": [
    {
     "name": "stdout",
     "output_type": "stream",
     "text": [
      "loaded 200 queries\n",
      "Encoding queries for interpolation...\n"
     ]
    },
    {
     "name": "stderr",
     "output_type": "stream",
     "text": [
      "100%|██████████| 43/43 [00:00<00:00, 66.25it/s]\n"
     ]
    },
    {
     "name": "stdout",
     "output_type": "stream",
     "text": [
      "sparse_ranking_2019 None\n",
      "Encoding queries for RRF...\n"
     ]
    },
    {
     "name": "stderr",
     "output_type": "stream",
     "text": [
      "100%|██████████| 43/43 [00:00<00:00, 68.16it/s]\n"
     ]
    },
    {
     "name": "stdout",
     "output_type": "stream",
     "text": [
      "sparse_ranking_2019 None\n",
      "Encoding queries for interpolation...\n"
     ]
    },
    {
     "name": "stderr",
     "output_type": "stream",
     "text": [
      "100%|██████████| 43/43 [00:00<00:00, 70.20it/s]\n"
     ]
    },
    {
     "name": "stdout",
     "output_type": "stream",
     "text": [
      "sparse_ranking_2019 None\n",
      "P@10\n",
      "BM25 {P@10: 0.6186046511627907, R@10: 0.12847703679948552, nDCG@10: 0.5058310024399072, RR(rel=2)@10: 0.7024178663713547} f-score:0.2127652004121614\n",
      "Interpolation {P@10: 0.8069767441860466, R@10: 0.17310336499562765, nDCG@10: 0.7158066715626032, RR(rel=2)@10: 0.901937984496124} f-score:0.28505912645948106\n",
      "RRF {P@10: 0.7767441860465117, R@10: 0.16565014746118, nDCG@10: 0.6816417471378419, RR(rel=2)@10: 0.8775193798449613} f-score:0.27306571014556874\n",
      "Interpolation w/ minimax {P@10: 0.8162790697674419, R@10: 0.17355258664965964, nDCG@10: 0.7229942609361284, RR(rel=2)@10: 0.8949612403100775} f-score:0.2862453288247246\n"
     ]
    }
   ],
   "source": [
    "with open(\n",
    "    \"../../dev/testing/msmarco-test2019-queries.tsv\",\n",
    "    encoding=\"utf-8\",\n",
    "    newline=\"\"\n",
    ") as fp:\n",
    "    queries = {q_id: q for q_id, q in csv.reader(fp, delimiter=\"\\t\")}\n",
    "print(f\"loaded {len(queries)} queries\")\n",
    "\n",
    "# define dictionary to keep track of best results for tested hyperparameters\n",
    "bestHyperparams2019 = {\n",
    "    'ccUnnormalized': {'precision': {'value': -1, 'alpha': 0}, 'recall': {'value': -1, 'alpha': 0}, 'fscore': {'value': -1, 'alpha': 0}, 'rr': {'value': -1, 'alpha': 0}, 'ndcg': {'value': -1, 'alpha': 0}},\n",
    "    'rrf': {'precision': {'value': -1, 'eta': 0}, 'recall': {'value': -1, 'eta': 0}, 'fscore': {'value': -1, 'eta': 0}, 'rr': {'value': -1, 'eta': 0}, 'ndcg': {'value': -1, 'eta': 0}},\n",
    "    'ccNormalized': {'precision': {'value': -1, 'alpha': 0}, 'recall': {'value': -1, 'alpha': 0}, 'fscore': {'value': -1, 'alpha': 0}, 'rr': {'value': -1, 'alpha': 0}, 'ndcg': {'value': -1, 'alpha': 0}},\n",
    "}\n",
    "\n",
    "\n",
    "for i in range(len(etas)):\n",
    "    if alphas[i] == -1:\n",
    "        alpha = 1\n",
    "    eta = etas[i]\n",
    "\n",
    "    result = in_memory_index.get_scores(\n",
    "        sparse_ranking_2019,\n",
    "        queries,\n",
    "        alpha=alpha,\n",
    "        cutoff=None,\n",
    "        early_stopping=False,\n",
    "        normalise=False\n",
    "    )\n",
    "    result2 = in_memory_index.get_scores_rrf(\n",
    "        sparse_ranking_2019,\n",
    "        queries,\n",
    "        alpha=alpha,\n",
    "        cutoff=None,\n",
    "        early_stopping=False\n",
    "        eta = eta\n",
    "    )\n",
    "    result3 = in_memory_index.get_scores(\n",
    "        sparse_ranking_2019,\n",
    "        queries,\n",
    "        alpha=alpha,\n",
    "        cutoff=None,\n",
    "        early_stopping=False,\n",
    "        normalise=True\n",
    "    )\n",
    "    qrels = list(read_trec_qrels(\"../../dev/testing/2019qrels-pass.txt\"))\n",
    "    bm25Res = calc_aggregate([nDCG@10, RR(rel=2)@10,P@10,R@10], qrels, sparse_ranking_2019.run)\n",
    "    fscoreBM25Res = (2*bm25Res[P@10]*bm25Res[R@10])/(bm25Res[P@10]+bm25Res[R@10])\n",
    "    print(list(bm25Res.keys())[0])\n",
    "    print(\n",
    "        \"BM25\",\n",
    "        bm25Res,\n",
    "        'f-score:{}'.format()\n",
    "    )\n",
    "\n",
    "    interpolationRes = calc_aggregate([nDCG@10, RR(rel=2)@10,P@10,R@10], qrels, result[alpha].run)\n",
    "    fscoreInterpolationRes = (2*interpolationRes[P@10]*interpolationRes[R@10])/(interpolationRes[P@10]+interpolationRes[R@10])\n",
    "    print(\n",
    "        f\"Interpolation\",\n",
    "        interpolationRes,\n",
    "        'f-score:{}'.format(fscoreInterpolationRes)\n",
    "    )\n",
    "\n",
    "    rrfRes = calc_aggregate([nDCG@10, RR(rel=2)@10,P@10,R@10], qrels, result2[alpha].run)\n",
    "    fscoreRRRes = (2*rrfRes[P@10]*rrfRes[R@10])/(rrfRes[P@10]+rrfRes[R@10])\n",
    "    print(\n",
    "        f\"RRF\",\n",
    "        rrfRes,\n",
    "        'f-score:{}'.format()\n",
    "    )\n",
    "\n",
    "    interpolationMinMax = calc_aggregate([nDCG@10, RR(rel=2)@10,P@10,R@10], qrels, result3[alpha].run)\n",
    "    fscoreInterpolationMinMax = (2*interpolationMinMax[P@10]*interpolationMinMax[R@10])/(interpolationMinMax[P@10]+interpolationMinMax[R@10])\n",
    "    print(\n",
    "        f\"Interpolation w/ minimax\",\n",
    "        interpolationMinMax,\n",
    "        'f-score:{}'.format(fscoreInterpolationMinMax)\n",
    "    )\n",
    "\n",
    "    # update dictionary of best parameters per method\n",
    "    if interpolationRes[P@10] > bestHyperparams2019['ccUnnormalized']['precision']:\n",
    "        bestHyperparams2019['ccUnnormalized']['precision']['value'] = interpolationRes[P@10]\n",
    "        bestHyperparams2019['ccUnnormalized']['precision']['alpha'] = alpha\n",
    "\n",
    "    if interpolationRes[R@10] > bestHyperparams2019['ccUnnormalized']['recall']:\n",
    "        bestHyperparams2019['ccUnnormalized']['recall']['value'] = interpolationRes[R@10]\n",
    "        bestHyperparams2019['ccUnnormalized']['recall']['alpha'] = alpha\n",
    "\n",
    "    if interpolationRes[nDCG@10] > bestHyperparams2019['ccUnnormalized']['ndcg']:\n",
    "        bestHyperparams2019['ccUnnormalized']['ndcg'] = interpolationRes[nDCG@10]\n",
    "        bestHyperparams2019['ccUnnormalized']['recall']['alpha'] = alpha\n",
    "\n",
    "    if interpolationRes[RR(rel=2)@10] > bestHyperparams2019['ccUnnormalized']['rr']:\n",
    "        bestHyperparams2019['ccUnnormalized']['rr']['value'] = interpolationRes[RR(rel=2)@10]\n",
    "        bestHyperparams2019['ccUnnormalized']['recall']['alpha'] = alpha\n",
    "    \n",
    "    if fscoreInterpolationRes > bestHyperparams2019['ccUnnormalized']['fscore']:\n",
    "        bestHyperparams2019['ccUnnormalized']['fscore']['value'] = fscoreInterpolationRes\n",
    "        bestHyperparams2019['ccUnnormalized']['recall']['alpha'] = alpha\n",
    "\n",
    "    if rrfRes[P@10] > bestHyperparams2019['rrf']['precision']:\n",
    "        bestHyperparams2019['rrf']['precision']['value'] = rrfRes[P@10]\n",
    "        bestHyperparams2019['rrf']['precision']['eta'] = eta\n",
    "\n",
    "\n",
    "    if rrfRes[R@10] > bestHyperparams2019['rrf']['recall']:\n",
    "        bestHyperparams2019['rrf']['recall']['value'] = rrfRes[R@10]\n",
    "        bestHyperparams2019['rrf']['recall']['eta'] = eta\n",
    "\n",
    "\n",
    "    if rrfRes[nDCG@10] > bestHyperparams2019['rrf']['ndcg']:\n",
    "        bestHyperparams2019['rrf']['ndcg']['value'] = rrfRes[nDCG@10]\n",
    "        bestHyperparams2019['rrf']['ndcg']['eta'] = eta\n",
    "\n",
    "    if rrfRes[RR(rel=2)@10] > bestHyperparams2019['rrf']['rr']:\n",
    "        bestHyperparams2019['rrf']['rr']['value'] = rrfRes[RR(rel=2)@10]\n",
    "        bestHyperparams2019['rrf']['rr']['eta'] = eta\n",
    "    \n",
    "    if fscoreRRRes > bestHyperparams2019['rrf']['fscore']:\n",
    "        bestHyperparams2019['rrf']['fscore']['value'] = fscoreRRRes\n",
    "        bestHyperparams2019['rrf']['fscore']['eta'] = eta\n",
    "    \n",
    "    if interpolationMinMax[P@10] > bestHyperparams2019['ccNormalized']['precision']:\n",
    "        bestHyperparams2019['ccNormalized']['precision']['value'] = interpolationMinMax[P@10]\n",
    "        bestHyperparams2019['ccNormalized']['precision']['alpha'] = alpha\n",
    "\n",
    "    if interpolationMinMax[R@10] > bestHyperparams2019['ccNormalized']['recall']:\n",
    "        bestHyperparams2019['ccNormalized']['recall']['value'] = interpolationMinMax[R@10]\n",
    "        bestHyperparams2019['ccNormalized']['recall']['alpha'] = alpha\n",
    "\n",
    "    if interpolationMinMax[nDCG@10] > bestHyperparams2019['ccNormalized']['ndcg']:\n",
    "        bestHyperparams2019['ccNormalized']['ndcg']['value'] = interpolationMinMax[nDCG@10]\n",
    "        bestHyperparams2019['ccNormalized']['ndcg']['alpha'] = alpha\n",
    "\n",
    "    if interpolationMinMax[RR(rel=2)@10] > bestHyperparams2019['ccNormalized']['rr']:\n",
    "        bestHyperparams2019['ccNormalized']['rr']['value'] = interpolationMinMax[RR(rel=2)@10]\n",
    "        bestHyperparams2019['ccNormalized']['rr']['alpha'] = alpha\n",
    "    \n",
    "    if fscoreInterpolationMinMax > bestHyperparams2019['ccNormalized']['fscore']:\n",
    "        bestHyperparams2019['ccNormalized']['fscore']['value'] = fscoreInterpolationMinMax\n",
    "        bestHyperparams2019['ccNormalized']['fscore']['alpha'] = alpha"
   ]
  },
  {
   "cell_type": "code",
   "execution_count": 17,
   "metadata": {},
   "outputs": [
    {
     "name": "stdout",
     "output_type": "stream",
     "text": [
      "loaded 200 queries\n",
      "Encoding queries for interpolation...\n"
     ]
    },
    {
     "name": "stderr",
     "output_type": "stream",
     "text": [
      "100%|██████████| 54/54 [00:01<00:00, 45.76it/s]\n"
     ]
    },
    {
     "name": "stdout",
     "output_type": "stream",
     "text": [
      "sparse_ranking_2020 None\n",
      "Encoding queries for RRF...\n"
     ]
    },
    {
     "name": "stderr",
     "output_type": "stream",
     "text": [
      "100%|██████████| 54/54 [00:00<00:00, 60.40it/s]\n"
     ]
    },
    {
     "name": "stdout",
     "output_type": "stream",
     "text": [
      "sparse_ranking_2020 None\n",
      "Encoding queries for interpolation...\n"
     ]
    },
    {
     "name": "stderr",
     "output_type": "stream",
     "text": [
      "100%|██████████| 54/54 [00:00<00:00, 68.46it/s]\n"
     ]
    },
    {
     "name": "stdout",
     "output_type": "stream",
     "text": [
      "sparse_ranking_2020 None\n",
      "BM25 {P@10: 0.5425925925925926, R@10: 0.16942969387735296, nDCG@10: 0.4875508583120806, RR(rel=2)@10: 0.6554012345679013} f-score:0.25822589716638783\n",
      "Interpolation {P@10: 0.7166666666666665, R@10: 0.22541387306514282, nDCG@10: 0.6714497182268858, RR(rel=2)@10: 0.7975308641975309} f-score:0.3429571086905328\n",
      "RRF {P@10: 0.6574074074074073, R@10: 0.20925932337121278, nDCG@10: 0.628069774120618, RR(rel=2)@10: 0.8151455026455026} f-score:0.3174660440229534\n",
      "Interpolation w/ minimax {P@10: 0.7166666666666663, R@10: 0.22401114929417368, nDCG@10: 0.6727571514417631, RR(rel=2)@10: 0.8021604938271606} f-score:0.34133115703774114\n"
     ]
    }
   ],
   "source": [
    "with open(\n",
    "    \"../../dev/testing/msmarco-test2020-queries.tsv\",\n",
    "    encoding=\"utf-8\",\n",
    "    newline=\"\"\n",
    ") as fp:\n",
    "    queries = {q_id: q for q_id, q in csv.reader(fp, delimiter=\"\\t\")}\n",
    "print(f\"loaded {len(queries)} queries\")\n",
    "\n",
    "# define dictionary to keep track of best results for tested hyperparameters\n",
    "bestHyperparams2020 = {\n",
    "    'ccUnnormalized': {'precision': -1, 'recall': -1, 'fscore': -1, 'rr': -1, 'ndcg': -1},\n",
    "    'rrf': {'precision': -1, 'recall': -1, 'fscore': -1, 'rr': -1, 'ndcg': -1},\n",
    "    'ccNormalized': {'precision': -1, 'recall': -1, 'fscore': -1, 'rr': -1, 'ndcg': -1}\n",
    "}\n",
    "\n",
    "alpha = 0.2\n",
    "eta = 60\n",
    "# for i in range(len(etas)):\n",
    "#     if alphas[i] == -1:\n",
    "#         alpha = 1\n",
    "#     eta = etas[i]\n",
    "\n",
    "result = in_memory_index.get_scores(\n",
    "    sparse_ranking_2020,\n",
    "    queries,\n",
    "    alpha=alpha,\n",
    "    cutoff=None,\n",
    "    early_stopping=False,\n",
    "    normalise=False\n",
    ")\n",
    "result2 = in_memory_index.get_scores_rrf(\n",
    "    sparse_ranking_2020,\n",
    "    queries,\n",
    "    alpha=alpha,\n",
    "    cutoff=None,\n",
    "    early_stopping=False\n",
    "    eta = eta\n",
    ")\n",
    "result3 = in_memory_index.get_scores(\n",
    "    sparse_ranking_2020,\n",
    "    queries,\n",
    "    alpha=alpha,\n",
    "    cutoff=None,\n",
    "    early_stopping=False,\n",
    "    normalise=True\n",
    ")\n",
    "qrels = list(read_trec_qrels(\"../../dev/testing/2020qrels-pass.txt\"))\n",
    "bm25Res2 = calc_aggregate([nDCG@10, RR(rel=2)@10,P@10,R@10], qrels, sparse_ranking_2020.run)\n",
    "fscoreBM25Res2 = (2*bm25Res2[P@10]*bm25Res2[R@10])/(bm25Res2[P@10]+bm25Res2[R@10])\n",
    "print(\n",
    "    \"BM25\",\n",
    "    bm25Res2,\n",
    "    'f-score:{}'.format(fscoreBM25Res2)\n",
    ")\n",
    "\n",
    "\n",
    "interpolation2 = calc_aggregate([nDCG@10, RR(rel=2)@10,P@10,R@10], qrels, result[alpha].run)\n",
    "fscoreInterpolation2 = (2*interpolation2[P@10]*interpolation2[R@10])/(interpolation2[P@10]+interpolation2[R@10])\n",
    "print(\n",
    "    f\"Interpolation\",\n",
    "    interpolation2,\n",
    "    'f-score:{}'.format(fscoreInterpolation2)\n",
    ")\n",
    "\n",
    "rrf2 = calc_aggregate([nDCG@10, RR(rel=2)@10,P@10,R@10], qrels, result2[alpha].run)\n",
    "fscoreRRF2 = (2*rrf2[P@10]*rrf2[R@10])/(rrf2[P@10]+rrf2[R@10])\n",
    "print(\n",
    "    f\"RRF\",\n",
    "    rrf2,\n",
    "    'f-score:{}'.format(fscoreRRF2)\n",
    ")\n",
    "\n",
    "\n",
    "interpolationMinmax2 = calc_aggregate([nDCG@10, RR(rel=2)@10,P@10,R@10], qrels, result3[alpha].run)\n",
    "fscoreInterpolationMinMax2 = (2*interpolationMinmax2[P@10]*interpolationMinmax2[R@10])/(interpolationMinmax2[P@10]+interpolationMinmax2[R@10])\n",
    "print(\n",
    "    f\"Interpolation w/ minimax\",\n",
    "    interpolationMinmax2,\n",
    "    'f-score:{}'.format(fscoreInterpolationMinMax2)\n",
    ")\n",
    "\n",
    "   # update dictionary of best parameters per method\n",
    "    # if interpolation2[P@10] > bestHyperparams2020['ccUnnormalized']['precision']:\n",
    "    #     bestHyperparams2020['ccUnnormalized']['precision'] = interpolation2[P@10]\n",
    "\n",
    "    # if interpolation2[R@10] > bestHyperparams2020['ccUnnormalized']['recall']:\n",
    "    #     bestHyperparams2020['ccUnnormalized']['recall'] = interpolation2[R@10]\n",
    "\n",
    "    # if interpolation2[nDCG@10] > bestHyperparams2020['ccUnnormalized']['ndcg']:\n",
    "    #     bestHyperparams2020['ccUnnormalized']['ndcg'] = interpolation2[nDCG@10]\n",
    "\n",
    "    # if interpolation2[RR(rel=2)@10] > bestHyperparams2020['ccUnnormalized']['rr']:\n",
    "    #     bestHyperparams2020['ccUnnormalized']['rr'] = interpolation2[RR(rel=2)@10]\n",
    "    \n",
    "    # if fscoreInterpolation2 > bestHyperparams2020['ccUnnormalized']['fscore']:\n",
    "    #     bestHyperparams2020['ccUnnormalized']['fscore'] = fscoreInterpolation2\n",
    "\n",
    "    # if rrf2[P@10] > bestHyperparams2020['rrf']['precision']:\n",
    "    #     bestHyperparams2020['rrf']['precision'] = rrf2[P@10]\n",
    "\n",
    "    # if rrf2[R@10] > bestHyperparams2020['rrf']['recall']:\n",
    "    #     bestHyperparams2020['rrf']['recall'] = rrf2[R@10]\n",
    "\n",
    "    # if rrf2[nDCG@10] > bestHyperparams2020['rrf']['ndcg']:\n",
    "    #     bestHyperparams2020['rrf']['ndcg'] = rrf2[nDCG@10]\n",
    "\n",
    "    # if rrf2[RR(rel=2)@10] > bestHyperparams2020['rrf']['rr']:\n",
    "    #     bestHyperparams2020['rrf']['rr'] = rrf2[RR(rel=2)@10]\n",
    "    \n",
    "    # if fscoreRRF2 > bestHyperparams2020['rrf']['fscore']:\n",
    "    #     bestHyperparams2020['rrf']['fscore'] = fscoreRRF2\n",
    "    \n",
    "    # if interpolationMinmax2[P@10] > bestHyperparams2020['ccNormalized']['precision']:\n",
    "    #     bestHyperparams2020['ccNormalized']['precision'] = interpolationMinmax2[P@10]\n",
    "\n",
    "    # if interpolationMinmax2[R@10] > bestHyperparams2020['ccNormalized']['recall']:\n",
    "    #     bestHyperparams2020['ccNormalized']['recall'] = interpolationMinmax2[R@10]\n",
    "\n",
    "    # if interpolationMinmax2[nDCG@10] > bestHyperparams2020['ccNormalized']['ndcg']:\n",
    "    #     bestHyperparams2020['ccNormalized']['ndcg'] = interpolationMinmax2[nDCG@10]\n",
    "\n",
    "    # if interpolationMinmax2[RR(rel=2)@10] > bestHyperparams2020['ccNormalized']['rr']:\n",
    "    #     bestHyperparams2020['ccNormalized']['rr'] = interpolationMinmax2[RR(rel=2)@10]\n",
    "    \n",
    "    # if fscoreInterpolationMinMax2 > bestHyperparams2020['ccNormalized']['fscore']:\n",
    "    #     bestHyperparams2020['ccNormalized']['fscore'] = fscoreInterpolationMinMax2\n",
    "\n",
    "    "
   ]
  }
 ],
 "metadata": {
  "kernelspec": {
   "display_name": "Python 3",
   "language": "python",
   "name": "python3"
  },
  "language_info": {
   "codemirror_mode": {
    "name": "ipython",
    "version": 3
   },
   "file_extension": ".py",
   "mimetype": "text/x-python",
   "name": "python",
   "nbconvert_exporter": "python",
   "pygments_lexer": "ipython3",
   "version": "3.8.5"
  },
  "orig_nbformat": 4
 },
 "nbformat": 4,
 "nbformat_minor": 2
}
