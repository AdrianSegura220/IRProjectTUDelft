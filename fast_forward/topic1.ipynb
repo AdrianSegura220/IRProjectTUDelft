{
 "cells": [
  {
   "attachments": {},
   "cell_type": "markdown",
   "metadata": {},
   "source": [
    "# Initialising the code"
   ]
  },
  {
   "cell_type": "code",
   "execution_count": 2,
   "metadata": {},
   "outputs": [
    {
     "name": "stderr",
     "output_type": "stream",
     "text": [
      "/opt/homebrew/lib/python3.11/site-packages/tqdm/auto.py:21: TqdmWarning: IProgress not found. Please update jupyter and ipywidgets. See https://ipywidgets.readthedocs.io/en/stable/user_install.html\n",
      "  from .autonotebook import tqdm as notebook_tqdm\n"
     ]
    }
   ],
   "source": [
    "import csv\n",
    "from pathlib import Path\n",
    "import numpy as np\n",
    "from ranking import Ranking\n",
    "from index import Mode, InMemoryIndex\n",
    "from encoder import TCTColBERTQueryEncoder as TCTColBERTQueryEncoderFF\n",
    "# from pyserini.search.faiss import FaissSearcher, TctColBertQueryEncoder\n",
    "from ir_measures import read_trec_qrels, calc_aggregate, nDCG, RR, P, R, AP, MAP\n",
    "import sys\n",
    "from tqdm import tqdm\n",
    "\n",
    "# define values of eta to test\n",
    "etas = [10,20,30,40,50,60,70,80,90,100,500]\n",
    "\n",
    "# define values of alpha to test\n",
    "alphas = [0.0,0.1,0.2,0.3,0.4,0.5,0.6,0.7,0.8,0.9,1.0,-1.0]"
   ]
  },
  {
   "cell_type": "code",
   "execution_count": 3,
   "metadata": {},
   "outputs": [
    {
     "name": "stderr",
     "output_type": "stream",
     "text": [
<<<<<<< HEAD
      "Some weights of the model checkpoint at castorini/tct_colbert-msmarco were not used when initializing BertModel: ['cls.predictions.transform.dense.bias', 'cls.predictions.transform.LayerNorm.bias', 'cls.seq_relationship.weight', 'cls.predictions.bias', 'cls.predictions.transform.LayerNorm.weight', 'cls.predictions.decoder.bias', 'cls.seq_relationship.bias', 'cls.predictions.transform.dense.weight', 'cls.predictions.decoder.weight']\n",
=======
      "Some weights of the model checkpoint at castorini/tct_colbert-msmarco were not used when initializing BertModel: ['cls.predictions.bias', 'cls.predictions.decoder.bias', 'cls.predictions.decoder.weight', 'cls.seq_relationship.bias', 'cls.seq_relationship.weight', 'cls.predictions.transform.dense.bias', 'cls.predictions.transform.dense.weight', 'cls.predictions.transform.LayerNorm.weight', 'cls.predictions.transform.LayerNorm.bias']\n",
>>>>>>> main
      "- This IS expected if you are initializing BertModel from the checkpoint of a model trained on another task or with another architecture (e.g. initializing a BertForSequenceClassification model from a BertForPreTraining model).\n",
      "- This IS NOT expected if you are initializing BertModel from the checkpoint of a model that you expect to be exactly identical (initializing a BertForSequenceClassification model from a BertForSequenceClassification model).\n"
     ]
    }
   ],
   "source": [
    "# in_memory_index = InMemoryIndex(mode=Mode.PASSAGE, encoder=TCTColBERTQueryEncoderFF(\"castorini/tct_colbert-msmarco\"))\n",
    "in_memory_index = InMemoryIndex.from_disk('../testing/ffindex_passage_2019_2020.pkl')\n",
    "in_memory_index.encoder = TCTColBERTQueryEncoderFF(\"castorini/tct_colbert-msmarco\")"
   ]
  },
  {
   "cell_type": "code",
   "execution_count": 4,
   "metadata": {},
   "outputs": [
    {
     "name": "stdout",
     "output_type": "stream",
     "text": [
      "indexing 440079 documents or passages\n"
     ]
    }
   ],
   "source": [
    "sparse_ranking_2019 = Ranking.from_file(Path(\"../testing/msmarco-passage-test2019-sparse10000.txt\"))\n",
    "sparse_ranking_2019.cut(5000)\n",
    "sparse_ranking_2019.name = \"sparse_ranking_2019\"\n",
    "sparse_ranking_2020 = Ranking.from_file(Path(\"../testing/msmarco-passage-test2020-sparse10000.txt\"))\n",
    "sparse_ranking_2020.cut(5000)\n",
    "sparse_ranking_2020.name = \"sparse_ranking_2020\"\n",
    "all_ids = set.union(\n",
    "    *[set(sparse_ranking_2019[q_id].keys()) for q_id in sparse_ranking_2019.q_ids],\n",
    "    *[set(sparse_ranking_2020[q_id].keys()) for q_id in sparse_ranking_2020.q_ids]\n",
    ")\n",
    "print(f\"indexing {len(all_ids)} documents or passages\")"
   ]
  },
  {
   "cell_type": "code",
   "execution_count": 5,
   "metadata": {},
   "outputs": [
    {
     "name": "stdout",
     "output_type": "stream",
     "text": [
      "loaded 200 queries\n",
      "Encoding queries for interpolation...\n"
     ]
    },
    {
     "name": "stderr",
     "output_type": "stream",
     "text": [
<<<<<<< HEAD
      "100%|██████████| 43/43 [00:01<00:00, 37.61it/s]\n"
=======
      "100%|██████████| 43/43 [00:00<00:00, 52.83it/s]\n"
>>>>>>> main
     ]
    },
    {
     "name": "stdout",
     "output_type": "stream",
     "text": [
      "sparse_ranking_2019 None\n",
      "Encoding queries for RRF...\n"
     ]
    },
    {
     "name": "stderr",
     "output_type": "stream",
     "text": [
<<<<<<< HEAD
      "100%|██████████| 43/43 [00:00<00:00, 79.21it/s]\n"
=======
      "100%|██████████| 43/43 [00:00<00:00, 76.90it/s]\n"
>>>>>>> main
     ]
    },
    {
     "name": "stdout",
     "output_type": "stream",
     "text": [
      "Encoding queries for RRF...\n"
     ]
    },
    {
     "name": "stderr",
     "output_type": "stream",
     "text": [
<<<<<<< HEAD
      "100%|██████████| 43/43 [00:00<00:00, 85.14it/s]\n"
=======
      "100%|██████████| 43/43 [00:00<00:00, 83.64it/s]\n"
>>>>>>> main
     ]
    },
    {
     "name": "stdout",
     "output_type": "stream",
     "text": [
      "BM25 {RR(rel=2)@10: 0.7024178663713547, nDCG@10: 0.5058310024399072}\n",
<<<<<<< HEAD
      "Interpolation {RR(rel=2)@10: 0.9019379844961242, nDCG@10: 0.7158066715626032}\n",
      "RRF {RR(rel=2)@10: 0.8775193798449613, nDCG@10: 0.6816417471378418}\n",
      "rrf with eta_lex = 60 and eta_sem = 10 {RR(rel=2)@10: 0.8418604651162791, nDCG@10: 0.6989395186704048}\n"
=======
      "Interpolation {RR(rel=2)@10: 0.901937984496124, nDCG@10: 0.7158066715626034}\n",
      "RRF {RR(rel=2)@10: 0.8775193798449613, nDCG@10: 0.681641747137842}\n",
      "Interpolation w/ minimax {RR(rel=2)@10: 0.8949612403100775, nDCG@10: 0.7229942609361283}\n"
>>>>>>> main
     ]
    }
   ],
   "source": [
    "with open(\n",
    "    \"../testing/msmarco-test2019-queries.tsv\",\n",
    "    encoding=\"utf-8\",\n",
    "    newline=\"\"\n",
    ") as fp:\n",
    "    queries = {q_id: q for q_id, q in csv.reader(fp, delimiter=\"\\t\")}\n",
    "print(f\"loaded {len(queries)} queries\")\n",
    "\n",
    "alpha = 0.2\n",
    "result = in_memory_index.get_scores(\n",
    "    sparse_ranking_2019,\n",
    "    queries,\n",
    "    alpha=alpha,\n",
    "    cutoff=None,\n",
    "    early_stopping=False,\n",
    "    normalise=False\n",
    ")\n",
    "result2 = in_memory_index.get_scores_rrf(\n",
    "    sparse_ranking_2019,\n",
    "    queries,\n",
    "    alpha=alpha,\n",
    "    cutoff=None,\n",
    "    early_stopping=False,\n",
    ")\n",
    "result3 = in_memory_index.get_scores_rrf(\n",
    "    sparse_ranking_2019,\n",
    "    queries,\n",
    "    alpha=alpha,\n",
    "    cutoff=None,\n",
    "    early_stopping=False,\n",
    "    eta=60,\n",
    "    eta2=10,\n",
    ")\n",
    "qrels = list(read_trec_qrels(\"../testing/2019qrels-pass.txt\"))\n",
    "print(\n",
    "    \"BM25\",\n",
    "    calc_aggregate([nDCG@10, RR(rel=2)@10], qrels, sparse_ranking_2019.run)\n",
    ")\n",
    "print(\n",
    "    f\"Interpolation\",\n",
    "    calc_aggregate([nDCG@10, RR(rel=2)@10], qrels, result[alpha].run)\n",
    ")\n",
    "print(\n",
    "    f\"RRF\",\n",
    "    calc_aggregate([nDCG@10, RR(rel=2)@10], qrels, result2[alpha].run)\n",
    ")\n",
    "print(\n",
    "    f\"rrf with eta_lex = 60 and eta_sem = 10\",\n",
    "    calc_aggregate([nDCG@10, RR(rel=2)@10], qrels, result3[alpha].run)\n",
    ")"
   ]
  },
  {
   "attachments": {},
   "cell_type": "markdown",
   "metadata": {},
   "source": [
    "# Validation on 2019 set"
   ]
  },
  {
   "attachments": {},
   "cell_type": "markdown",
   "metadata": {},
   "source": [
    "## Validation on the convex combination with two types of normalisation"
   ]
  },
  {
   "cell_type": "code",
<<<<<<< HEAD
   "execution_count": 17,
=======
   "execution_count": null,
>>>>>>> main
   "metadata": {},
   "outputs": [
    {
     "name": "stdout",
     "output_type": "stream",
     "text": [
      "loaded 200 queries\n"
     ]
    },
    {
     "name": "stderr",
     "output_type": "stream",
     "text": [
      "  0%|          | 0/11 [00:00<?, ?it/s]"
     ]
    },
    {
     "name": "stdout",
     "output_type": "stream",
     "text": [
      "Encoding queries for interpolation...\n"
     ]
    },
    {
     "name": "stderr",
     "output_type": "stream",
     "text": [
<<<<<<< HEAD
      "100%|██████████| 43/43 [00:00<00:00, 43.74it/s]\n"
     ]
    },
    {
     "name": "stdout",
     "output_type": "stream",
     "text": [
      "sparse_ranking_2019 None\n",
      "Encoding queries for interpolation...\n"
     ]
    },
    {
     "name": "stderr",
     "output_type": "stream",
     "text": [
      "100%|██████████| 43/43 [00:00<00:00, 96.99it/s]\n"
     ]
    },
    {
     "name": "stdout",
     "output_type": "stream",
     "text": [
      "minimax normalization done\n",
      "minimax normalization done\n",
      "sparse_ranking_2019 None\n",
      "Encoding queries for interpolation...\n"
     ]
    },
    {
     "name": "stderr",
     "output_type": "stream",
     "text": [
      "100%|██████████| 43/43 [00:00<00:00, 72.26it/s]\n"
     ]
    },
    {
     "name": "stdout",
     "output_type": "stream",
     "text": [
      "z-score normalization done\n",
      "z-score normalization done\n",
      "sparse_ranking_2019 None\n"
     ]
    },
    {
     "name": "stderr",
     "output_type": "stream",
     "text": [
      "  9%|▉         | 1/11 [00:06<01:07,  6.75s/it]"
     ]
    },
    {
     "name": "stdout",
     "output_type": "stream",
     "text": [
      "Encoding queries for interpolation...\n"
     ]
    },
    {
     "name": "stderr",
     "output_type": "stream",
     "text": [
      "100%|██████████| 43/43 [00:00<00:00, 68.33it/s]\n"
     ]
    },
    {
     "name": "stdout",
     "output_type": "stream",
     "text": [
      "sparse_ranking_2019 None\n",
      "Encoding queries for interpolation...\n"
     ]
    },
    {
     "name": "stderr",
     "output_type": "stream",
     "text": [
      "100%|██████████| 43/43 [00:00<00:00, 76.94it/s]\n"
     ]
    },
    {
     "name": "stdout",
     "output_type": "stream",
     "text": [
      "minimax normalization done\n",
      "minimax normalization done\n",
      "sparse_ranking_2019 None\n",
      "Encoding queries for interpolation...\n"
     ]
    },
    {
     "name": "stderr",
     "output_type": "stream",
     "text": [
      "100%|██████████| 43/43 [00:00<00:00, 73.41it/s]\n"
     ]
    },
    {
     "name": "stdout",
     "output_type": "stream",
     "text": [
      "z-score normalization done\n",
      "z-score normalization done\n",
      "sparse_ranking_2019 None\n"
     ]
    },
    {
     "name": "stderr",
     "output_type": "stream",
     "text": [
      " 18%|█▊        | 2/11 [00:12<00:58,  6.45s/it]"
     ]
    },
    {
     "name": "stdout",
     "output_type": "stream",
     "text": [
      "Encoding queries for interpolation...\n"
     ]
    },
    {
     "name": "stderr",
     "output_type": "stream",
     "text": [
      "100%|██████████| 43/43 [00:00<00:00, 84.84it/s]\n"
     ]
    },
    {
     "name": "stdout",
     "output_type": "stream",
     "text": [
      "sparse_ranking_2019 None\n",
      "Encoding queries for interpolation...\n"
     ]
    },
    {
     "name": "stderr",
     "output_type": "stream",
     "text": [
      "100%|██████████| 43/43 [00:00<00:00, 61.05it/s]\n"
     ]
    },
    {
     "name": "stdout",
     "output_type": "stream",
     "text": [
      "minimax normalization done\n",
      "minimax normalization done\n",
      "sparse_ranking_2019 None\n",
      "Encoding queries for interpolation...\n"
     ]
    },
    {
     "name": "stderr",
     "output_type": "stream",
     "text": [
      "100%|██████████| 43/43 [00:00<00:00, 72.49it/s]\n"
     ]
    },
    {
     "name": "stdout",
     "output_type": "stream",
     "text": [
      "z-score normalization done\n",
      "z-score normalization done\n",
      "sparse_ranking_2019 None\n"
     ]
    },
    {
     "name": "stderr",
     "output_type": "stream",
     "text": [
      " 27%|██▋       | 3/11 [00:19<00:50,  6.33s/it]"
     ]
    },
    {
     "name": "stdout",
     "output_type": "stream",
     "text": [
      "Encoding queries for interpolation...\n"
     ]
    },
    {
     "name": "stderr",
     "output_type": "stream",
     "text": [
      "100%|██████████| 43/43 [00:00<00:00, 82.34it/s]\n"
     ]
    },
    {
     "name": "stdout",
     "output_type": "stream",
     "text": [
      "sparse_ranking_2019 None\n",
      "Encoding queries for interpolation...\n"
     ]
    },
    {
     "name": "stderr",
     "output_type": "stream",
     "text": [
      "100%|██████████| 43/43 [00:00<00:00, 86.65it/s]\n"
     ]
    },
    {
     "name": "stdout",
     "output_type": "stream",
     "text": [
      "minimax normalization done\n",
      "minimax normalization done\n",
      "sparse_ranking_2019 None\n",
      "Encoding queries for interpolation...\n"
     ]
    },
    {
     "name": "stderr",
     "output_type": "stream",
     "text": [
      "100%|██████████| 43/43 [00:00<00:00, 94.82it/s]\n"
     ]
    },
    {
     "name": "stdout",
     "output_type": "stream",
     "text": [
      "z-score normalization done\n",
      "z-score normalization done\n",
      "sparse_ranking_2019 None\n"
     ]
    },
    {
     "name": "stderr",
     "output_type": "stream",
     "text": [
      " 36%|███▋      | 4/11 [00:25<00:43,  6.15s/it]"
     ]
    },
    {
     "name": "stdout",
     "output_type": "stream",
     "text": [
      "Encoding queries for interpolation...\n"
     ]
    },
    {
     "name": "stderr",
     "output_type": "stream",
     "text": [
      "100%|██████████| 43/43 [00:00<00:00, 99.53it/s]\n"
     ]
    },
    {
     "name": "stdout",
     "output_type": "stream",
     "text": [
      "sparse_ranking_2019 None\n",
      "Encoding queries for interpolation...\n"
     ]
    },
    {
     "name": "stderr",
     "output_type": "stream",
     "text": [
      "100%|██████████| 43/43 [00:00<00:00, 86.11it/s]\n"
     ]
    },
    {
     "name": "stdout",
     "output_type": "stream",
     "text": [
      "minimax normalization done\n",
      "minimax normalization done\n",
      "sparse_ranking_2019 None\n",
      "Encoding queries for interpolation...\n"
     ]
    },
    {
     "name": "stderr",
     "output_type": "stream",
     "text": [
      "100%|██████████| 43/43 [00:00<00:00, 87.00it/s]\n"
     ]
    },
    {
     "name": "stdout",
     "output_type": "stream",
     "text": [
      "z-score normalization done\n",
      "z-score normalization done\n",
      "sparse_ranking_2019 None\n"
     ]
    },
    {
     "name": "stderr",
     "output_type": "stream",
     "text": [
      " 45%|████▌     | 5/11 [00:30<00:35,  5.98s/it]"
     ]
    },
    {
     "name": "stdout",
     "output_type": "stream",
     "text": [
      "Encoding queries for interpolation...\n"
     ]
    },
    {
     "name": "stderr",
     "output_type": "stream",
     "text": [
      "100%|██████████| 43/43 [00:00<00:00, 75.85it/s]\n"
     ]
    },
    {
     "name": "stdout",
     "output_type": "stream",
     "text": [
      "sparse_ranking_2019 None\n",
      "Encoding queries for interpolation...\n"
     ]
    },
    {
     "name": "stderr",
     "output_type": "stream",
     "text": [
      "100%|██████████| 43/43 [00:00<00:00, 104.48it/s]\n"
     ]
    },
    {
     "name": "stdout",
     "output_type": "stream",
     "text": [
      "minimax normalization done\n",
      "minimax normalization done\n",
      "sparse_ranking_2019 None\n",
      "Encoding queries for interpolation...\n"
     ]
    },
    {
     "name": "stderr",
     "output_type": "stream",
     "text": [
      "100%|██████████| 43/43 [00:00<00:00, 93.56it/s]\n"
     ]
    },
    {
     "name": "stdout",
     "output_type": "stream",
     "text": [
      "z-score normalization done\n",
      "z-score normalization done\n",
      "sparse_ranking_2019 None\n"
     ]
    },
    {
     "name": "stderr",
     "output_type": "stream",
     "text": [
      " 55%|█████▍    | 6/11 [00:36<00:29,  5.91s/it]"
     ]
    },
    {
     "name": "stdout",
     "output_type": "stream",
     "text": [
      "Encoding queries for interpolation...\n"
     ]
    },
    {
     "name": "stderr",
     "output_type": "stream",
     "text": [
      "100%|██████████| 43/43 [00:00<00:00, 98.34it/s] \n"
     ]
    },
    {
     "name": "stdout",
     "output_type": "stream",
     "text": [
      "sparse_ranking_2019 None\n",
      "Encoding queries for interpolation...\n"
     ]
    },
    {
     "name": "stderr",
     "output_type": "stream",
     "text": [
      "100%|██████████| 43/43 [00:00<00:00, 95.11it/s]\n"
     ]
    },
    {
     "name": "stdout",
     "output_type": "stream",
     "text": [
      "minimax normalization done\n",
      "minimax normalization done\n",
      "sparse_ranking_2019 None\n",
      "Encoding queries for interpolation...\n"
     ]
    },
    {
     "name": "stderr",
     "output_type": "stream",
     "text": [
      "100%|██████████| 43/43 [00:00<00:00, 102.31it/s]\n"
     ]
    },
    {
     "name": "stdout",
     "output_type": "stream",
     "text": [
      "z-score normalization done\n",
      "z-score normalization done\n",
      "sparse_ranking_2019 None\n"
     ]
    },
    {
     "name": "stderr",
     "output_type": "stream",
     "text": [
      " 64%|██████▎   | 7/11 [00:42<00:23,  5.81s/it]"
     ]
    },
    {
     "name": "stdout",
     "output_type": "stream",
     "text": [
      "Encoding queries for interpolation...\n"
     ]
    },
    {
     "name": "stderr",
     "output_type": "stream",
     "text": [
      "100%|██████████| 43/43 [00:00<00:00, 100.02it/s]\n"
     ]
    },
    {
     "name": "stdout",
     "output_type": "stream",
     "text": [
      "sparse_ranking_2019 None\n",
      "Encoding queries for interpolation...\n"
     ]
    },
    {
     "name": "stderr",
     "output_type": "stream",
     "text": [
      "100%|██████████| 43/43 [00:00<00:00, 100.49it/s]\n"
     ]
    },
    {
     "name": "stdout",
     "output_type": "stream",
     "text": [
      "minimax normalization done\n",
      "minimax normalization done\n",
      "sparse_ranking_2019 None\n",
      "Encoding queries for interpolation...\n"
     ]
    },
    {
     "name": "stderr",
     "output_type": "stream",
     "text": [
      "100%|██████████| 43/43 [00:00<00:00, 92.22it/s]\n"
     ]
    },
    {
     "name": "stdout",
     "output_type": "stream",
     "text": [
      "z-score normalization done\n",
      "z-score normalization done\n",
      "sparse_ranking_2019 None\n"
     ]
    },
    {
     "name": "stderr",
     "output_type": "stream",
     "text": [
      " 73%|███████▎  | 8/11 [00:47<00:17,  5.72s/it]"
     ]
    },
    {
     "name": "stdout",
     "output_type": "stream",
     "text": [
      "Encoding queries for interpolation...\n"
     ]
    },
    {
     "name": "stderr",
     "output_type": "stream",
     "text": [
      "100%|██████████| 43/43 [00:00<00:00, 83.95it/s]\n"
     ]
    },
    {
     "name": "stdout",
     "output_type": "stream",
     "text": [
      "sparse_ranking_2019 None\n",
      "Encoding queries for interpolation...\n"
     ]
    },
    {
     "name": "stderr",
     "output_type": "stream",
     "text": [
      "100%|██████████| 43/43 [00:00<00:00, 75.96it/s]\n"
     ]
    },
    {
     "name": "stdout",
     "output_type": "stream",
     "text": [
      "minimax normalization done\n",
      "minimax normalization done\n",
      "sparse_ranking_2019 None\n",
      "Encoding queries for interpolation...\n"
     ]
    },
    {
     "name": "stderr",
     "output_type": "stream",
     "text": [
      "100%|██████████| 43/43 [00:00<00:00, 95.98it/s] \n"
     ]
    },
    {
     "name": "stdout",
     "output_type": "stream",
     "text": [
      "z-score normalization done\n",
      "z-score normalization done\n",
      "sparse_ranking_2019 None\n"
     ]
    },
    {
     "name": "stderr",
     "output_type": "stream",
     "text": [
      " 82%|████████▏ | 9/11 [00:53<00:11,  5.73s/it]"
     ]
    },
    {
     "name": "stdout",
     "output_type": "stream",
     "text": [
      "Encoding queries for interpolation...\n"
     ]
    },
    {
     "name": "stderr",
     "output_type": "stream",
     "text": [
      "100%|██████████| 43/43 [00:00<00:00, 101.01it/s]\n"
     ]
    },
    {
     "name": "stdout",
     "output_type": "stream",
     "text": [
      "sparse_ranking_2019 None\n",
      "Encoding queries for interpolation...\n"
     ]
    },
    {
     "name": "stderr",
     "output_type": "stream",
     "text": [
      "100%|██████████| 43/43 [00:00<00:00, 92.93it/s]\n"
     ]
    },
    {
     "name": "stdout",
     "output_type": "stream",
     "text": [
      "minimax normalization done\n",
      "minimax normalization done\n",
      "sparse_ranking_2019 None\n",
      "Encoding queries for interpolation...\n"
     ]
    },
    {
     "name": "stderr",
     "output_type": "stream",
     "text": [
      "100%|██████████| 43/43 [00:00<00:00, 85.68it/s]\n"
     ]
    },
    {
     "name": "stdout",
     "output_type": "stream",
     "text": [
      "z-score normalization done\n",
      "z-score normalization done\n",
      "sparse_ranking_2019 None\n"
     ]
    },
    {
     "name": "stderr",
     "output_type": "stream",
     "text": [
      " 91%|█████████ | 10/11 [00:58<00:05,  5.69s/it]"
     ]
    },
    {
     "name": "stdout",
     "output_type": "stream",
     "text": [
      "Encoding queries for interpolation...\n"
     ]
    },
    {
     "name": "stderr",
     "output_type": "stream",
     "text": [
      "100%|██████████| 43/43 [00:00<00:00, 94.28it/s]\n"
     ]
    },
    {
     "name": "stdout",
     "output_type": "stream",
     "text": [
      "sparse_ranking_2019 None\n",
      "Encoding queries for interpolation...\n"
     ]
    },
    {
     "name": "stderr",
     "output_type": "stream",
     "text": [
      "100%|██████████| 43/43 [00:00<00:00, 99.95it/s]\n"
     ]
    },
    {
     "name": "stdout",
     "output_type": "stream",
     "text": [
      "minimax normalization done\n",
      "minimax normalization done\n",
      "sparse_ranking_2019 None\n",
      "Encoding queries for interpolation...\n"
     ]
    },
    {
     "name": "stderr",
     "output_type": "stream",
     "text": [
      "100%|██████████| 43/43 [00:00<00:00, 72.73it/s]\n"
     ]
    },
    {
     "name": "stdout",
     "output_type": "stream",
     "text": [
      "z-score normalization done\n",
      "z-score normalization done\n",
      "sparse_ranking_2019 None\n"
     ]
    },
    {
     "name": "stderr",
     "output_type": "stream",
     "text": [
      "100%|██████████| 11/11 [01:04<00:00,  5.89s/it]\n"
     ]
    }
   ],
   "source": [
    "with open(\n",
    "    \"../testing/msmarco-test2019-queries.tsv\",\n",
    "    encoding=\"utf-8\",\n",
    "    newline=\"\"\n",
    ") as fp:\n",
    "    queries = {q_id: q for q_id, q in csv.reader(fp, delimiter=\"\\t\")}\n",
    "print(f\"loaded {len(queries)} queries\")\n",
    "\n",
    "# define dictionary to keep track of best results for tested hyperparameters\n",
    "bestHyperparams2019 = {\n",
    "    'ccUnnormalized': {'precision': {'value': -1, 'alpha': 0}, 'recall': {'value': -1, 'alpha': 0}, 'fscore': {'value': -1, 'alpha': 0}, 'rr': {'value': -1, \n",
    "'alpha': 0}, 'ndcg': {'value': -1, 'alpha': 0}, 'map': {'value': -1, 'alpha': 0}},\n",
    "    'ccNormalized_minimax': {'precision': {'value': -1, 'alpha': 0}, 'recall': {'value': -1, 'alpha': 0}, 'fscore': {'value': -1, 'alpha': 0}, 'rr': {'value': -1, \n",
    "'alpha': 0}, 'ndcg': {'value': -1, 'alpha': 0}, 'map': {'value': -1, 'alpha': 0}},\n",
    "'ccNormalized_zscore': {'precision': {'value': -1, 'alpha': 0}, 'recall': {'value': -1, 'alpha': 0}, 'fscore': {'value': -1, 'alpha': 0}, 'rr': {'value': -1, \n",
    "'alpha': 0}, 'ndcg': {'value': -1, 'alpha': 0}, 'map': {'value': -1, 'alpha': 0}},\n",
    "}\n",
    "\n",
    "\n",
    "for i in tqdm(range(len(etas))):\n",
    "    alpha = alphas[i]\n",
    "    eta = etas[i]\n",
    "\n",
    "    result = in_memory_index.get_scores(\n",
    "        sparse_ranking_2019,\n",
    "        queries,\n",
    "        alpha=alpha,\n",
    "        cutoff=None,\n",
    "        early_stopping=False,\n",
    "        normalise=\"none\"\n",
    "    )\n",
    "    result2 = in_memory_index.get_scores(\n",
    "        sparse_ranking_2019,\n",
    "        queries,\n",
    "        alpha=alpha,\n",
    "        cutoff=None,\n",
    "        early_stopping=False,\n",
    "        normalise=\"minimax\"\n",
    "    )\n",
    "    result3 = in_memory_index.get_scores(\n",
    "        sparse_ranking_2019,\n",
    "        queries,\n",
    "        alpha=alpha,\n",
    "        cutoff=None,\n",
    "        early_stopping=False,\n",
    "        normalise=\"zscore\"\n",
    "    )\n",
    "    qrels = list(read_trec_qrels(\"../testing/2019qrels-pass.txt\"))\n",
    "\n",
    "    interpolationRes = calc_aggregate([nDCG@10, RR(rel=2)@10,P(rel=2)@10,R(rel=2)@10, AP(rel=2)@10], qrels, result[alpha].run)\n",
    "    fscoreInterpolationRes = (2*interpolationRes[P(rel=2)@10]*interpolationRes[R(rel=2)@10])/(interpolationRes[P(rel=2)@10]+interpolationRes[R(rel=2)@10])\n",
    "\n",
    "    interpolationMinMax = calc_aggregate([nDCG@10, RR(rel=2)@10,P(rel=2)@10,R(rel=2)@10, AP(rel=2)@10], qrels, result2[alpha].run)\n",
    "    fscoreInterpolationMinMax = (2*interpolationMinMax[P(rel=2)@10]*interpolationMinMax[R(rel=2)@10])/(interpolationMinMax[P(rel=2)@10]+interpolationMinMax[R(rel=2)@10])\n",
    "\n",
    "    interpolationZscore = calc_aggregate([nDCG@10, RR(rel=2)@10,P(rel=2)@10,R(rel=2)@10, AP(rel=2)@10], qrels, result3[alpha].run)\n",
    "    fscoreInterpolationZscore = (2*interpolationZscore[P(rel=2)@10]*interpolationZscore[R(rel=2)@10])/(interpolationZscore[P(rel=2)@10]+interpolationZscore[R(rel=2)@10])\n",
    "\n",
    "    # update dictionary of best parameters per method\n",
    "    if interpolationRes[P(rel=2)@10] > bestHyperparams2019['ccUnnormalized']['precision']['value']:\n",
    "        bestHyperparams2019['ccUnnormalized']['precision']['value'] = interpolationRes[P(rel=2)@10]\n",
    "        bestHyperparams2019['ccUnnormalized']['precision']['alpha'] = alpha\n",
    "\n",
    "    if interpolationRes[R(rel=2)@10] > bestHyperparams2019['ccUnnormalized']['recall']['value']:\n",
    "        bestHyperparams2019['ccUnnormalized']['recall']['value'] = interpolationRes[R(rel=2)@10]\n",
    "        bestHyperparams2019['ccUnnormalized']['recall']['alpha'] = alpha\n",
    "\n",
    "    if interpolationRes[nDCG@10] > bestHyperparams2019['ccUnnormalized']['ndcg']['value']:\n",
    "        bestHyperparams2019['ccUnnormalized']['ndcg']['value'] = interpolationRes[nDCG@10]\n",
    "        bestHyperparams2019['ccUnnormalized']['ndcg']['alpha'] = alpha\n",
    "\n",
    "    if interpolationRes[RR(rel=2)@10] > bestHyperparams2019['ccUnnormalized']['rr']['value']:\n",
    "        bestHyperparams2019['ccUnnormalized']['rr']['value'] = interpolationRes[RR(rel=2)@10]\n",
    "        bestHyperparams2019['ccUnnormalized']['rr']['alpha'] = alpha\n",
    "\n",
    "    if interpolationRes[AP(rel=2)@10] > bestHyperparams2019['ccUnnormalized']['map']['value']:\n",
    "        bestHyperparams2019['ccUnnormalized']['map']['value'] = interpolationRes[AP(rel=2)@10]\n",
    "        bestHyperparams2019['ccUnnormalized']['map']['alpha'] = alpha\n",
    "    \n",
    "    if fscoreInterpolationRes > bestHyperparams2019['ccUnnormalized']['fscore']['value']:\n",
    "        bestHyperparams2019['ccUnnormalized']['fscore']['value'] = fscoreInterpolationRes\n",
    "        bestHyperparams2019['ccUnnormalized']['fscore']['alpha'] = alpha\n",
    "    \n",
    "    if interpolationMinMax[P(rel=2)@10] > bestHyperparams2019['ccNormalized_minimax']['precision']['value']:\n",
    "        bestHyperparams2019['ccNormalized_minimax']['precision']['value'] = interpolationMinMax[P(rel=2)@10]\n",
    "        bestHyperparams2019['ccNormalized_minimax']['precision']['alpha'] = alpha\n",
    "\n",
    "    if interpolationMinMax[R(rel=2)@10] > bestHyperparams2019['ccNormalized_minimax']['recall']['value']:\n",
    "        bestHyperparams2019['ccNormalized_minimax']['recall']['value'] = interpolationMinMax[R(rel=2)@10]\n",
    "        bestHyperparams2019['ccNormalized_minimax']['recall']['alpha'] = alpha\n",
    "\n",
    "    if interpolationMinMax[nDCG@10] > bestHyperparams2019['ccNormalized_minimax']['ndcg']['value']:\n",
    "        bestHyperparams2019['ccNormalized_minimax']['ndcg']['value'] = interpolationMinMax[nDCG@10]\n",
    "        bestHyperparams2019['ccNormalized_minimax']['ndcg']['alpha'] = alpha\n",
    "\n",
    "    if interpolationMinMax[RR(rel=2)@10] > bestHyperparams2019['ccNormalized_minimax']['rr']['value']:\n",
    "        bestHyperparams2019['ccNormalized_minimax']['rr']['value'] = interpolationMinMax[RR(rel=2)@10]\n",
    "        bestHyperparams2019['ccNormalized_minimax']['rr']['alpha'] = alpha\n",
    "    \n",
    "    if fscoreInterpolationMinMax > bestHyperparams2019['ccNormalized_minimax']['fscore']['value']:\n",
    "        bestHyperparams2019['ccNormalized_minimax']['fscore']['value'] = fscoreInterpolationMinMax\n",
    "        bestHyperparams2019['ccNormalized_minimax']['fscore']['alpha'] = alpha\n",
    "    \n",
    "    if interpolationMinMax[AP(rel=2)@10] > bestHyperparams2019['ccNormalized_minimax']['map']['value']:\n",
    "        bestHyperparams2019['ccNormalized_minimax']['map']['value'] = interpolationMinMax[AP(rel=2)@10]\n",
    "        bestHyperparams2019['ccNormalized_minimax']['map']['alpha'] = alpha\n",
    "\n",
    "    if interpolationMinMax[P(rel=2)@10] > bestHyperparams2019['ccNormalized_zscore']['precision']['value']:\n",
    "        bestHyperparams2019['ccNormalized_zscore']['precision']['value'] = interpolationZscore[P(rel=2)@10]\n",
    "        bestHyperparams2019['ccNormalized_zscore']['precision']['alpha'] = alpha\n",
    "\n",
    "    if interpolationZscore[R(rel=2)@10] > bestHyperparams2019['ccNormalized_zscore']['recall']['value']:\n",
    "        bestHyperparams2019['ccNormalized_zscore']['recall']['value'] =interpolationZscore[R(rel=2)@10]\n",
    "        bestHyperparams2019['ccNormalized_zscore']['recall']['alpha'] = alpha\n",
    "\n",
    "    if interpolationZscore[nDCG@10] > bestHyperparams2019['ccNormalized_zscore']['ndcg']['value']:\n",
    "        bestHyperparams2019['ccNormalized_zscore']['ndcg']['value'] =interpolationZscore[nDCG@10]\n",
    "        bestHyperparams2019['ccNormalized_zscore']['ndcg']['alpha'] = alpha\n",
    "\n",
    "    if interpolationZscore[RR(rel=2)@10] > bestHyperparams2019['ccNormalized_zscore']['rr']['value']:\n",
    "        bestHyperparams2019['ccNormalized_zscore']['rr']['value'] =interpolationZscore[RR(rel=2)@10]\n",
    "        bestHyperparams2019['ccNormalized_zscore']['rr']['alpha'] = alpha\n",
    "    \n",
    "    if fscoreInterpolationZscore > bestHyperparams2019['ccNormalized_zscore']['fscore']['value']:\n",
    "        bestHyperparams2019['ccNormalized_zscore']['fscore']['value'] = fscoreInterpolationZscore\n",
    "        bestHyperparams2019['ccNormalized_zscore']['fscore']['alpha'] = alpha\n",
    "    \n",
    "    if interpolationZscore[AP(rel=2)@10] > bestHyperparams2019['ccNormalized_zscore']['map']['value']:\n",
    "        bestHyperparams2019['ccNormalized_zscore']['map']['value'] =interpolationZscore[AP(rel=2)@10]\n",
    "        bestHyperparams2019['ccNormalized_zscore']['map']['alpha'] = alpha\n"
   ]
  },
  {
   "cell_type": "code",
   "execution_count": 21,
   "metadata": {},
   "outputs": [
    {
     "name": "stdout",
     "output_type": "stream",
     "text": [
      "{'precision': {'value': 0.627906976744186, 'alpha': 0.1}, 'recall': {'value': 0.273006628369977, 'alpha': 0.2}, 'fscore': {'value': 0.3796945188026043, 'alpha': 0.2}, 'rr': {'value': 0.9019379844961242, 'alpha': 0.2}, 'ndcg': {'value': 0.7165204423861106, 'alpha': 0.1}, 'map': {'value': 0.21189662633253073, 'alpha': 0.1}}\n",
      "{'precision': {'value': 0.6348837209302325, 'alpha': 0.2}, 'recall': {'value': 0.2719114158943346, 'alpha': 0.1}, 'fscore': {'value': 0.3803329328753214, 'alpha': 0.1}, 'rr': {'value': 0.9085271317829459, 'alpha': 0.3}, 'ndcg': {'value': 0.7229942609361281, 'alpha': 0.2}, 'map': {'value': 0.21306995775647664, 'alpha': 0.2}}\n",
      "{'precision': {'value': 0.6372093023255815, 'alpha': 0.1}, 'recall': {'value': 0.27301821001485344, 'alpha': 0.1}, 'fscore': {'value': 0.3822555147304255, 'alpha': 0.1}, 'rr': {'value': 0.8988372093023256, 'alpha': 0.3}, 'ndcg': {'value': 0.7209484744376639, 'alpha': 0.2}, 'map': {'value': 0.21554059831137443, 'alpha': 0.1}}\n"
     ]
    }
   ],
   "source": [
    "print(bestHyperparams2019['ccUnnormalized'])\n",
    "print(bestHyperparams2019['ccNormalized_minimax'])\n",
    "print(bestHyperparams2019['ccNormalized_zscore'])"
   ]
  },
  {
   "attachments": {},
   "cell_type": "markdown",
   "metadata": {},
   "source": [
    "## Validation of the RRF "
   ]
  },
  {
   "cell_type": "code",
   "execution_count": 14,
   "metadata": {},
   "outputs": [
    {
     "name": "stdout",
     "output_type": "stream",
     "text": [
      "loaded 200 queries\n"
     ]
    },
    {
     "name": "stderr",
     "output_type": "stream",
     "text": [
      "  0%|          | 0/11 [00:00<?, ?it/s]"
=======
      "100%|██████████| 54/54 [00:01<00:00, 38.70it/s]\n"
>>>>>>> main
     ]
    },
    {
     "name": "stdout",
     "output_type": "stream",
     "text": [
      "Encoding queries for RRF...\n"
     ]
    },
    {
     "name": "stderr",
     "output_type": "stream",
     "text": [
<<<<<<< HEAD
      "100%|██████████| 43/43 [00:01<00:00, 28.53it/s]\n"
     ]
    },
    {
     "name": "stdout",
     "output_type": "stream",
     "text": [
      "Encoding queries for RRF...\n"
     ]
    },
    {
     "name": "stderr",
     "output_type": "stream",
     "text": [
      "100%|██████████| 43/43 [00:00<00:00, 70.13it/s]\n"
     ]
    },
    {
     "name": "stdout",
     "output_type": "stream",
     "text": [
      "Encoding queries for RRF...\n"
     ]
    },
    {
     "name": "stderr",
     "output_type": "stream",
     "text": [
      "100%|██████████| 43/43 [00:00<00:00, 94.31it/s]\n"
     ]
    },
    {
     "name": "stdout",
     "output_type": "stream",
     "text": [
      "Encoding queries for RRF...\n"
     ]
    },
    {
     "name": "stderr",
     "output_type": "stream",
     "text": [
      "100%|██████████| 43/43 [00:00<00:00, 64.69it/s]\n"
     ]
    },
    {
     "name": "stdout",
     "output_type": "stream",
     "text": [
      "Encoding queries for RRF...\n"
     ]
    },
    {
     "name": "stderr",
     "output_type": "stream",
     "text": [
      "100%|██████████| 43/43 [00:00<00:00, 43.51it/s]\n"
     ]
    },
    {
     "name": "stdout",
     "output_type": "stream",
     "text": [
      "Encoding queries for RRF...\n"
     ]
    },
    {
     "name": "stderr",
     "output_type": "stream",
     "text": [
      "100%|██████████| 43/43 [00:00<00:00, 69.23it/s]\n"
     ]
    },
    {
     "name": "stdout",
     "output_type": "stream",
     "text": [
      "Encoding queries for RRF...\n"
     ]
    },
    {
     "name": "stderr",
     "output_type": "stream",
     "text": [
      "100%|██████████| 43/43 [00:00<00:00, 75.78it/s]\n"
     ]
    },
    {
     "name": "stdout",
     "output_type": "stream",
     "text": [
      "Encoding queries for RRF...\n"
     ]
    },
    {
     "name": "stderr",
     "output_type": "stream",
     "text": [
      "100%|██████████| 43/43 [00:00<00:00, 81.53it/s]\n"
     ]
    },
    {
     "name": "stdout",
     "output_type": "stream",
     "text": [
      "Encoding queries for RRF...\n"
     ]
    },
    {
     "name": "stderr",
     "output_type": "stream",
     "text": [
      "100%|██████████| 43/43 [00:00<00:00, 76.24it/s]\n"
     ]
    },
    {
     "name": "stdout",
     "output_type": "stream",
     "text": [
      "Encoding queries for RRF...\n"
     ]
    },
    {
     "name": "stderr",
     "output_type": "stream",
     "text": [
      "100%|██████████| 43/43 [00:00<00:00, 72.49it/s]\n"
     ]
    },
    {
     "name": "stdout",
     "output_type": "stream",
     "text": [
      "Encoding queries for RRF...\n"
     ]
    },
    {
     "name": "stderr",
     "output_type": "stream",
     "text": [
      "100%|██████████| 43/43 [00:00<00:00, 86.30it/s]\n",
      "  9%|▉         | 1/11 [00:22<03:41, 22.11s/it]"
     ]
    },
    {
     "name": "stdout",
     "output_type": "stream",
     "text": [
      "Encoding queries for RRF...\n"
     ]
    },
    {
     "name": "stderr",
     "output_type": "stream",
     "text": [
      "100%|██████████| 43/43 [00:00<00:00, 88.16it/s]\n"
     ]
    },
    {
     "name": "stdout",
     "output_type": "stream",
     "text": [
      "Encoding queries for RRF...\n"
     ]
    },
    {
     "name": "stderr",
     "output_type": "stream",
     "text": [
      "100%|██████████| 43/43 [00:00<00:00, 76.90it/s]\n"
     ]
    },
    {
     "name": "stdout",
     "output_type": "stream",
     "text": [
      "Encoding queries for RRF...\n"
     ]
    },
    {
     "name": "stderr",
     "output_type": "stream",
     "text": [
      "100%|██████████| 43/43 [00:00<00:00, 49.31it/s]\n"
     ]
    },
    {
     "name": "stdout",
     "output_type": "stream",
     "text": [
      "Encoding queries for RRF...\n"
     ]
    },
    {
     "name": "stderr",
     "output_type": "stream",
     "text": [
      "100%|██████████| 43/43 [00:00<00:00, 68.22it/s]\n"
     ]
    },
    {
     "name": "stdout",
     "output_type": "stream",
     "text": [
      "Encoding queries for RRF...\n"
     ]
    },
    {
     "name": "stderr",
     "output_type": "stream",
     "text": [
      "100%|██████████| 43/43 [00:00<00:00, 81.59it/s]\n"
     ]
    },
    {
     "name": "stdout",
     "output_type": "stream",
     "text": [
      "Encoding queries for RRF...\n"
     ]
    },
    {
     "name": "stderr",
     "output_type": "stream",
     "text": [
      "100%|██████████| 43/43 [00:00<00:00, 64.49it/s]\n"
     ]
    },
    {
     "name": "stdout",
     "output_type": "stream",
     "text": [
      "Encoding queries for RRF...\n"
     ]
    },
    {
     "name": "stderr",
     "output_type": "stream",
     "text": [
      "100%|██████████| 43/43 [00:00<00:00, 83.69it/s]\n"
     ]
    },
    {
     "name": "stdout",
     "output_type": "stream",
     "text": [
      "Encoding queries for RRF...\n"
     ]
    },
    {
     "name": "stderr",
     "output_type": "stream",
     "text": [
      "100%|██████████| 43/43 [00:00<00:00, 78.45it/s]\n"
     ]
    },
    {
     "name": "stdout",
     "output_type": "stream",
     "text": [
      "Encoding queries for RRF...\n"
     ]
    },
    {
     "name": "stderr",
     "output_type": "stream",
     "text": [
      "100%|██████████| 43/43 [00:00<00:00, 88.55it/s]\n"
     ]
    },
    {
     "name": "stdout",
     "output_type": "stream",
     "text": [
      "Encoding queries for RRF...\n"
     ]
    },
    {
     "name": "stderr",
     "output_type": "stream",
     "text": [
      "100%|██████████| 43/43 [00:00<00:00, 86.02it/s]\n"
     ]
    },
    {
     "name": "stdout",
     "output_type": "stream",
     "text": [
      "Encoding queries for RRF...\n"
     ]
    },
    {
     "name": "stderr",
     "output_type": "stream",
     "text": [
      "100%|██████████| 43/43 [00:00<00:00, 91.42it/s]\n",
      " 18%|█▊        | 2/11 [00:42<03:07, 20.83s/it]"
     ]
    },
    {
     "name": "stdout",
     "output_type": "stream",
     "text": [
      "Encoding queries for RRF...\n"
     ]
    },
    {
     "name": "stderr",
     "output_type": "stream",
     "text": [
      "100%|██████████| 43/43 [00:00<00:00, 87.46it/s]\n"
     ]
    },
    {
     "name": "stdout",
     "output_type": "stream",
     "text": [
      "Encoding queries for RRF...\n"
     ]
    },
    {
     "name": "stderr",
     "output_type": "stream",
     "text": [
      "100%|██████████| 43/43 [00:00<00:00, 71.49it/s]\n"
     ]
    },
    {
     "name": "stdout",
     "output_type": "stream",
     "text": [
      "Encoding queries for RRF...\n"
     ]
    },
    {
     "name": "stderr",
     "output_type": "stream",
     "text": [
      "100%|██████████| 43/43 [00:00<00:00, 67.65it/s]\n"
     ]
    },
    {
     "name": "stdout",
     "output_type": "stream",
     "text": [
      "Encoding queries for RRF...\n"
     ]
    },
    {
     "name": "stderr",
     "output_type": "stream",
     "text": [
      "100%|██████████| 43/43 [00:00<00:00, 59.63it/s]\n"
     ]
    },
    {
     "name": "stdout",
     "output_type": "stream",
     "text": [
      "Encoding queries for RRF...\n"
     ]
    },
    {
     "name": "stderr",
     "output_type": "stream",
     "text": [
      "100%|██████████| 43/43 [00:00<00:00, 65.83it/s]\n"
     ]
    },
    {
     "name": "stdout",
     "output_type": "stream",
     "text": [
      "Encoding queries for RRF...\n"
     ]
    },
    {
     "name": "stderr",
     "output_type": "stream",
     "text": [
      "100%|██████████| 43/43 [00:00<00:00, 74.14it/s]\n"
     ]
    },
    {
     "name": "stdout",
     "output_type": "stream",
     "text": [
      "Encoding queries for RRF...\n"
     ]
    },
    {
     "name": "stderr",
     "output_type": "stream",
     "text": [
      "100%|██████████| 43/43 [00:00<00:00, 92.37it/s]\n"
     ]
    },
    {
     "name": "stdout",
     "output_type": "stream",
     "text": [
      "Encoding queries for RRF...\n"
     ]
    },
    {
     "name": "stderr",
     "output_type": "stream",
     "text": [
      "100%|██████████| 43/43 [00:00<00:00, 82.62it/s]\n"
     ]
    },
    {
     "name": "stdout",
     "output_type": "stream",
     "text": [
      "Encoding queries for RRF...\n"
     ]
    },
    {
     "name": "stderr",
     "output_type": "stream",
     "text": [
      "100%|██████████| 43/43 [00:00<00:00, 86.06it/s]\n"
     ]
    },
    {
     "name": "stdout",
     "output_type": "stream",
     "text": [
      "Encoding queries for RRF...\n"
     ]
    },
    {
     "name": "stderr",
     "output_type": "stream",
     "text": [
      "100%|██████████| 43/43 [00:00<00:00, 79.28it/s]\n"
     ]
    },
    {
     "name": "stdout",
     "output_type": "stream",
     "text": [
      "Encoding queries for RRF...\n"
     ]
    },
    {
     "name": "stderr",
     "output_type": "stream",
     "text": [
      "100%|██████████| 43/43 [00:00<00:00, 66.95it/s]\n",
      " 27%|██▋       | 3/11 [01:02<02:46, 20.78s/it]"
     ]
    },
    {
     "name": "stdout",
     "output_type": "stream",
     "text": [
      "Encoding queries for RRF...\n"
     ]
    },
    {
     "name": "stderr",
     "output_type": "stream",
     "text": [
      "100%|██████████| 43/43 [00:00<00:00, 85.74it/s]\n"
     ]
    },
    {
     "name": "stdout",
     "output_type": "stream",
     "text": [
      "Encoding queries for RRF...\n"
     ]
    },
    {
     "name": "stderr",
     "output_type": "stream",
     "text": [
      "100%|██████████| 43/43 [00:00<00:00, 85.15it/s]\n"
     ]
    },
    {
     "name": "stdout",
     "output_type": "stream",
     "text": [
      "Encoding queries for RRF...\n"
     ]
    },
    {
     "name": "stderr",
     "output_type": "stream",
     "text": [
      "100%|██████████| 43/43 [00:00<00:00, 79.40it/s]\n"
     ]
    },
    {
     "name": "stdout",
     "output_type": "stream",
     "text": [
      "Encoding queries for RRF...\n"
     ]
    },
    {
     "name": "stderr",
     "output_type": "stream",
     "text": [
      "100%|██████████| 43/43 [00:00<00:00, 75.56it/s]\n"
     ]
    },
    {
     "name": "stdout",
     "output_type": "stream",
     "text": [
      "Encoding queries for RRF...\n"
     ]
    },
    {
     "name": "stderr",
     "output_type": "stream",
     "text": [
      "100%|██████████| 43/43 [00:00<00:00, 85.70it/s]\n"
     ]
    },
    {
     "name": "stdout",
     "output_type": "stream",
     "text": [
      "Encoding queries for RRF...\n"
     ]
    },
    {
     "name": "stderr",
     "output_type": "stream",
     "text": [
      "100%|██████████| 43/43 [00:00<00:00, 95.25it/s]\n"
     ]
    },
    {
     "name": "stdout",
     "output_type": "stream",
     "text": [
      "Encoding queries for RRF...\n"
     ]
    },
    {
     "name": "stderr",
     "output_type": "stream",
     "text": [
      "100%|██████████| 43/43 [00:00<00:00, 83.32it/s]\n"
     ]
    },
    {
     "name": "stdout",
     "output_type": "stream",
     "text": [
      "Encoding queries for RRF...\n"
     ]
    },
    {
     "name": "stderr",
     "output_type": "stream",
     "text": [
      "100%|██████████| 43/43 [00:00<00:00, 68.52it/s]\n"
     ]
    },
    {
     "name": "stdout",
     "output_type": "stream",
     "text": [
      "Encoding queries for RRF...\n"
     ]
    },
    {
     "name": "stderr",
     "output_type": "stream",
     "text": [
      "100%|██████████| 43/43 [00:00<00:00, 85.15it/s]\n"
     ]
    },
    {
     "name": "stdout",
     "output_type": "stream",
     "text": [
      "Encoding queries for RRF...\n"
     ]
    },
    {
     "name": "stderr",
     "output_type": "stream",
     "text": [
      "100%|██████████| 43/43 [00:00<00:00, 86.94it/s]\n"
     ]
    },
    {
     "name": "stdout",
     "output_type": "stream",
     "text": [
      "Encoding queries for RRF...\n"
     ]
    },
    {
     "name": "stderr",
     "output_type": "stream",
     "text": [
      "100%|██████████| 43/43 [00:00<00:00, 78.68it/s]\n",
      " 36%|███▋      | 4/11 [01:22<02:21, 20.21s/it]"
     ]
    },
    {
     "name": "stdout",
     "output_type": "stream",
     "text": [
      "Encoding queries for RRF...\n"
     ]
    },
    {
     "name": "stderr",
     "output_type": "stream",
     "text": [
      "100%|██████████| 43/43 [00:00<00:00, 75.83it/s]\n"
     ]
    },
    {
     "name": "stdout",
     "output_type": "stream",
     "text": [
      "Encoding queries for RRF...\n"
     ]
    },
    {
     "name": "stderr",
     "output_type": "stream",
     "text": [
      "100%|██████████| 43/43 [00:00<00:00, 68.32it/s]\n"
     ]
    },
    {
     "name": "stdout",
     "output_type": "stream",
     "text": [
      "Encoding queries for RRF...\n"
     ]
    },
    {
     "name": "stderr",
     "output_type": "stream",
     "text": [
      "100%|██████████| 43/43 [00:00<00:00, 64.09it/s]\n"
     ]
    },
    {
     "name": "stdout",
     "output_type": "stream",
     "text": [
      "Encoding queries for RRF...\n"
     ]
    },
    {
     "name": "stderr",
     "output_type": "stream",
     "text": [
      "100%|██████████| 43/43 [00:00<00:00, 90.04it/s]\n"
     ]
    },
    {
     "name": "stdout",
     "output_type": "stream",
     "text": [
      "Encoding queries for RRF...\n"
     ]
    },
    {
     "name": "stderr",
     "output_type": "stream",
     "text": [
      "100%|██████████| 43/43 [00:00<00:00, 68.93it/s]\n"
     ]
    },
    {
     "name": "stdout",
     "output_type": "stream",
     "text": [
      "Encoding queries for RRF...\n"
     ]
    },
    {
     "name": "stderr",
     "output_type": "stream",
     "text": [
      "100%|██████████| 43/43 [00:00<00:00, 83.63it/s]\n"
     ]
    },
    {
     "name": "stdout",
     "output_type": "stream",
     "text": [
      "Encoding queries for RRF...\n"
     ]
    },
    {
     "name": "stderr",
     "output_type": "stream",
     "text": [
      "100%|██████████| 43/43 [00:00<00:00, 64.87it/s]\n"
     ]
    },
    {
     "name": "stdout",
     "output_type": "stream",
     "text": [
      "Encoding queries for RRF...\n"
     ]
    },
    {
     "name": "stderr",
     "output_type": "stream",
     "text": [
      "100%|██████████| 43/43 [00:00<00:00, 74.49it/s]\n"
     ]
    },
    {
     "name": "stdout",
     "output_type": "stream",
     "text": [
      "Encoding queries for RRF...\n"
     ]
    },
    {
     "name": "stderr",
     "output_type": "stream",
     "text": [
      "100%|██████████| 43/43 [00:00<00:00, 92.38it/s]\n"
     ]
    },
    {
     "name": "stdout",
     "output_type": "stream",
     "text": [
      "Encoding queries for RRF...\n"
     ]
    },
    {
     "name": "stderr",
     "output_type": "stream",
     "text": [
      "100%|██████████| 43/43 [00:00<00:00, 79.38it/s]\n"
     ]
    },
    {
     "name": "stdout",
     "output_type": "stream",
     "text": [
      "Encoding queries for RRF...\n"
     ]
    },
    {
     "name": "stderr",
     "output_type": "stream",
     "text": [
      "100%|██████████| 43/43 [00:00<00:00, 55.18it/s]\n",
      " 45%|████▌     | 5/11 [01:42<02:02, 20.36s/it]"
     ]
    },
    {
     "name": "stdout",
     "output_type": "stream",
     "text": [
      "Encoding queries for RRF...\n"
     ]
    },
    {
     "name": "stderr",
     "output_type": "stream",
     "text": [
      "100%|██████████| 43/43 [00:00<00:00, 43.56it/s]\n"
     ]
    },
    {
     "name": "stdout",
     "output_type": "stream",
     "text": [
      "Encoding queries for RRF...\n"
     ]
    },
    {
     "name": "stderr",
     "output_type": "stream",
     "text": [
      "100%|██████████| 43/43 [00:00<00:00, 94.23it/s]\n"
     ]
    },
    {
     "name": "stdout",
     "output_type": "stream",
     "text": [
      "Encoding queries for RRF...\n"
     ]
    },
    {
     "name": "stderr",
     "output_type": "stream",
     "text": [
      "100%|██████████| 43/43 [00:00<00:00, 74.59it/s]\n"
     ]
    },
    {
     "name": "stdout",
     "output_type": "stream",
     "text": [
      "Encoding queries for RRF...\n"
     ]
    },
    {
     "name": "stderr",
     "output_type": "stream",
     "text": [
      "100%|██████████| 43/43 [00:00<00:00, 76.05it/s]\n"
     ]
    },
    {
     "name": "stdout",
     "output_type": "stream",
     "text": [
      "Encoding queries for RRF...\n"
     ]
    },
    {
     "name": "stderr",
     "output_type": "stream",
     "text": [
      "100%|██████████| 43/43 [00:00<00:00, 73.12it/s]\n"
     ]
    },
    {
     "name": "stdout",
     "output_type": "stream",
     "text": [
      "Encoding queries for RRF...\n"
     ]
    },
    {
     "name": "stderr",
     "output_type": "stream",
     "text": [
      "100%|██████████| 43/43 [00:00<00:00, 83.37it/s]\n"
     ]
    },
    {
     "name": "stdout",
     "output_type": "stream",
     "text": [
      "Encoding queries for RRF...\n"
     ]
    },
    {
     "name": "stderr",
     "output_type": "stream",
     "text": [
      "100%|██████████| 43/43 [00:00<00:00, 76.41it/s]\n"
     ]
    },
    {
     "name": "stdout",
     "output_type": "stream",
     "text": [
      "Encoding queries for RRF...\n"
     ]
    },
    {
     "name": "stderr",
     "output_type": "stream",
     "text": [
      "100%|██████████| 43/43 [00:00<00:00, 75.82it/s]\n"
     ]
    },
    {
     "name": "stdout",
     "output_type": "stream",
     "text": [
      "Encoding queries for RRF...\n"
     ]
    },
    {
     "name": "stderr",
     "output_type": "stream",
     "text": [
      "100%|██████████| 43/43 [00:00<00:00, 77.12it/s]\n"
     ]
    },
    {
     "name": "stdout",
     "output_type": "stream",
     "text": [
      "Encoding queries for RRF...\n"
     ]
    },
    {
     "name": "stderr",
     "output_type": "stream",
     "text": [
      "100%|██████████| 43/43 [00:00<00:00, 81.27it/s]\n"
     ]
    },
    {
     "name": "stdout",
     "output_type": "stream",
     "text": [
      "Encoding queries for RRF...\n"
     ]
    },
    {
     "name": "stderr",
     "output_type": "stream",
     "text": [
      "100%|██████████| 43/43 [00:00<00:00, 79.17it/s]\n",
      " 55%|█████▍    | 6/11 [02:03<01:43, 20.62s/it]"
     ]
    },
    {
     "name": "stdout",
     "output_type": "stream",
     "text": [
      "Encoding queries for RRF...\n"
     ]
    },
    {
     "name": "stderr",
     "output_type": "stream",
     "text": [
      "100%|██████████| 43/43 [00:00<00:00, 74.11it/s]\n"
     ]
    },
    {
     "name": "stdout",
     "output_type": "stream",
     "text": [
      "Encoding queries for RRF...\n"
     ]
    },
    {
     "name": "stderr",
     "output_type": "stream",
     "text": [
      "100%|██████████| 43/43 [00:00<00:00, 76.51it/s]\n"
     ]
    },
    {
     "name": "stdout",
     "output_type": "stream",
     "text": [
      "Encoding queries for RRF...\n"
     ]
    },
    {
     "name": "stderr",
     "output_type": "stream",
     "text": [
      "100%|██████████| 43/43 [00:00<00:00, 82.21it/s]\n"
     ]
    },
    {
     "name": "stdout",
     "output_type": "stream",
     "text": [
      "Encoding queries for RRF...\n"
     ]
    },
    {
     "name": "stderr",
     "output_type": "stream",
     "text": [
      "100%|██████████| 43/43 [00:00<00:00, 79.72it/s]\n"
     ]
    },
    {
     "name": "stdout",
     "output_type": "stream",
     "text": [
      "Encoding queries for RRF...\n"
     ]
    },
    {
     "name": "stderr",
     "output_type": "stream",
     "text": [
      "100%|██████████| 43/43 [00:00<00:00, 68.03it/s]\n"
     ]
    },
    {
     "name": "stdout",
     "output_type": "stream",
     "text": [
      "Encoding queries for RRF...\n"
     ]
    },
    {
     "name": "stderr",
     "output_type": "stream",
     "text": [
      "100%|██████████| 43/43 [00:00<00:00, 71.74it/s]\n"
     ]
    },
    {
     "name": "stdout",
     "output_type": "stream",
     "text": [
      "Encoding queries for RRF...\n"
     ]
    },
    {
     "name": "stderr",
     "output_type": "stream",
     "text": [
      "100%|██████████| 43/43 [00:00<00:00, 80.95it/s]\n"
     ]
    },
    {
     "name": "stdout",
     "output_type": "stream",
     "text": [
      "Encoding queries for RRF...\n"
     ]
    },
    {
     "name": "stderr",
     "output_type": "stream",
     "text": [
      "100%|██████████| 43/43 [00:00<00:00, 65.87it/s]\n"
     ]
    },
    {
     "name": "stdout",
     "output_type": "stream",
     "text": [
      "Encoding queries for RRF...\n"
     ]
    },
    {
     "name": "stderr",
     "output_type": "stream",
     "text": [
      "100%|██████████| 43/43 [00:00<00:00, 70.16it/s]\n"
     ]
    },
    {
     "name": "stdout",
     "output_type": "stream",
     "text": [
      "Encoding queries for RRF...\n"
     ]
    },
    {
     "name": "stderr",
     "output_type": "stream",
     "text": [
      "100%|██████████| 43/43 [00:00<00:00, 67.54it/s]\n"
     ]
    },
    {
     "name": "stdout",
     "output_type": "stream",
     "text": [
      "Encoding queries for RRF...\n"
     ]
    },
    {
     "name": "stderr",
     "output_type": "stream",
     "text": [
      "100%|██████████| 43/43 [00:00<00:00, 56.23it/s]\n",
      " 64%|██████▎   | 7/11 [02:24<01:22, 20.72s/it]"
     ]
    },
    {
     "name": "stdout",
     "output_type": "stream",
     "text": [
      "Encoding queries for RRF...\n"
     ]
    },
    {
     "name": "stderr",
     "output_type": "stream",
     "text": [
      "100%|██████████| 43/43 [00:00<00:00, 53.93it/s]\n"
     ]
    },
    {
     "name": "stdout",
     "output_type": "stream",
     "text": [
      "Encoding queries for RRF...\n"
     ]
    },
    {
     "name": "stderr",
     "output_type": "stream",
     "text": [
      "100%|██████████| 43/43 [00:00<00:00, 60.27it/s]\n"
     ]
    },
    {
     "name": "stdout",
     "output_type": "stream",
     "text": [
      "Encoding queries for RRF...\n"
     ]
    },
    {
     "name": "stderr",
     "output_type": "stream",
     "text": [
      "100%|██████████| 43/43 [00:00<00:00, 71.61it/s]\n"
     ]
    },
    {
     "name": "stdout",
     "output_type": "stream",
     "text": [
      "Encoding queries for RRF...\n"
     ]
    },
    {
     "name": "stderr",
     "output_type": "stream",
     "text": [
      "100%|██████████| 43/43 [00:00<00:00, 65.05it/s]\n"
     ]
    },
    {
     "name": "stdout",
     "output_type": "stream",
     "text": [
      "Encoding queries for RRF...\n"
     ]
    },
    {
     "name": "stderr",
     "output_type": "stream",
     "text": [
      "100%|██████████| 43/43 [00:00<00:00, 73.30it/s]\n"
     ]
    },
    {
     "name": "stdout",
     "output_type": "stream",
     "text": [
      "Encoding queries for RRF...\n"
     ]
    },
    {
     "name": "stderr",
     "output_type": "stream",
     "text": [
      "100%|██████████| 43/43 [00:00<00:00, 53.71it/s]\n"
     ]
    },
    {
     "name": "stdout",
     "output_type": "stream",
     "text": [
      "Encoding queries for RRF...\n"
     ]
    },
    {
     "name": "stderr",
     "output_type": "stream",
     "text": [
      "100%|██████████| 43/43 [00:00<00:00, 60.51it/s]\n"
     ]
    },
    {
     "name": "stdout",
     "output_type": "stream",
     "text": [
      "Encoding queries for RRF...\n"
     ]
    },
    {
     "name": "stderr",
     "output_type": "stream",
     "text": [
      "100%|██████████| 43/43 [00:00<00:00, 61.41it/s]\n"
     ]
    },
    {
     "name": "stdout",
     "output_type": "stream",
     "text": [
      "Encoding queries for RRF...\n"
     ]
    },
    {
     "name": "stderr",
     "output_type": "stream",
     "text": [
      "100%|██████████| 43/43 [00:00<00:00, 59.52it/s]\n"
     ]
    },
    {
     "name": "stdout",
     "output_type": "stream",
     "text": [
      "Encoding queries for RRF...\n"
     ]
    },
    {
     "name": "stderr",
     "output_type": "stream",
     "text": [
      "100%|██████████| 43/43 [00:00<00:00, 67.12it/s]\n"
     ]
    },
    {
     "name": "stdout",
     "output_type": "stream",
     "text": [
      "Encoding queries for RRF...\n"
     ]
    },
    {
     "name": "stderr",
     "output_type": "stream",
     "text": [
      "100%|██████████| 43/43 [00:00<00:00, 63.07it/s]\n",
      " 73%|███████▎  | 8/11 [02:46<01:03, 21.18s/it]"
     ]
    },
    {
     "name": "stdout",
     "output_type": "stream",
     "text": [
      "Encoding queries for RRF...\n"
     ]
    },
    {
     "name": "stderr",
     "output_type": "stream",
     "text": [
      "100%|██████████| 43/43 [00:00<00:00, 75.16it/s]\n"
     ]
    },
    {
     "name": "stdout",
     "output_type": "stream",
     "text": [
      "Encoding queries for RRF...\n"
     ]
    },
    {
     "name": "stderr",
     "output_type": "stream",
     "text": [
      "100%|██████████| 43/43 [00:00<00:00, 66.29it/s]\n"
     ]
    },
    {
     "name": "stdout",
     "output_type": "stream",
     "text": [
      "Encoding queries for RRF...\n"
     ]
    },
    {
     "name": "stderr",
     "output_type": "stream",
     "text": [
      "100%|██████████| 43/43 [00:00<00:00, 72.83it/s]\n"
     ]
    },
    {
     "name": "stdout",
     "output_type": "stream",
     "text": [
      "Encoding queries for RRF...\n"
     ]
    },
    {
     "name": "stderr",
     "output_type": "stream",
     "text": [
      "100%|██████████| 43/43 [00:00<00:00, 57.39it/s]\n"
     ]
    },
    {
     "name": "stdout",
     "output_type": "stream",
     "text": [
      "Encoding queries for RRF...\n"
     ]
    },
    {
     "name": "stderr",
     "output_type": "stream",
     "text": [
      "100%|██████████| 43/43 [00:00<00:00, 67.43it/s]\n"
     ]
    },
    {
     "name": "stdout",
     "output_type": "stream",
     "text": [
      "Encoding queries for RRF...\n"
     ]
    },
    {
     "name": "stderr",
     "output_type": "stream",
     "text": [
      "100%|██████████| 43/43 [00:00<00:00, 60.38it/s]\n"
     ]
    },
    {
     "name": "stdout",
     "output_type": "stream",
     "text": [
      "Encoding queries for RRF...\n"
     ]
    },
    {
     "name": "stderr",
     "output_type": "stream",
     "text": [
      "100%|██████████| 43/43 [00:00<00:00, 72.85it/s]\n"
     ]
    },
    {
     "name": "stdout",
     "output_type": "stream",
     "text": [
      "Encoding queries for RRF...\n"
     ]
    },
    {
     "name": "stderr",
     "output_type": "stream",
     "text": [
      "100%|██████████| 43/43 [00:00<00:00, 46.59it/s]\n"
     ]
    },
    {
     "name": "stdout",
     "output_type": "stream",
     "text": [
      "Encoding queries for RRF...\n"
     ]
    },
    {
     "name": "stderr",
     "output_type": "stream",
     "text": [
      "100%|██████████| 43/43 [00:00<00:00, 56.88it/s]\n"
     ]
    },
    {
     "name": "stdout",
     "output_type": "stream",
     "text": [
      "Encoding queries for RRF...\n"
     ]
    },
    {
     "name": "stderr",
     "output_type": "stream",
     "text": [
      "100%|██████████| 43/43 [00:00<00:00, 74.62it/s]\n"
     ]
    },
    {
     "name": "stdout",
     "output_type": "stream",
     "text": [
      "Encoding queries for RRF...\n"
     ]
    },
    {
     "name": "stderr",
     "output_type": "stream",
     "text": [
      "100%|██████████| 43/43 [00:00<00:00, 80.02it/s]\n",
      " 82%|████████▏ | 9/11 [03:09<00:43, 21.54s/it]"
     ]
    },
    {
     "name": "stdout",
     "output_type": "stream",
     "text": [
      "Encoding queries for RRF...\n"
     ]
    },
    {
     "name": "stderr",
     "output_type": "stream",
     "text": [
      "100%|██████████| 43/43 [00:00<00:00, 81.16it/s]\n"
     ]
    },
    {
     "name": "stdout",
     "output_type": "stream",
     "text": [
      "Encoding queries for RRF...\n"
     ]
    },
    {
     "name": "stderr",
     "output_type": "stream",
     "text": [
      "100%|██████████| 43/43 [00:00<00:00, 81.37it/s]\n"
     ]
    },
    {
     "name": "stdout",
     "output_type": "stream",
     "text": [
      "Encoding queries for RRF...\n"
     ]
    },
    {
     "name": "stderr",
     "output_type": "stream",
     "text": [
      "100%|██████████| 43/43 [00:00<00:00, 78.06it/s]\n"
     ]
    },
    {
     "name": "stdout",
     "output_type": "stream",
     "text": [
      "Encoding queries for RRF...\n"
     ]
    },
    {
     "name": "stderr",
     "output_type": "stream",
     "text": [
      "100%|██████████| 43/43 [00:00<00:00, 66.10it/s]\n"
     ]
    },
    {
     "name": "stdout",
     "output_type": "stream",
     "text": [
      "Encoding queries for RRF...\n"
     ]
    },
    {
     "name": "stderr",
     "output_type": "stream",
     "text": [
      "100%|██████████| 43/43 [00:01<00:00, 38.84it/s]\n"
     ]
    },
    {
     "name": "stdout",
     "output_type": "stream",
     "text": [
      "Encoding queries for RRF...\n"
     ]
    },
    {
     "name": "stderr",
     "output_type": "stream",
     "text": [
      "100%|██████████| 43/43 [00:00<00:00, 68.76it/s]\n"
     ]
    },
    {
     "name": "stdout",
     "output_type": "stream",
     "text": [
      "Encoding queries for RRF...\n"
     ]
    },
    {
     "name": "stderr",
     "output_type": "stream",
     "text": [
      "100%|██████████| 43/43 [00:00<00:00, 77.06it/s]\n"
     ]
    },
    {
     "name": "stdout",
     "output_type": "stream",
     "text": [
      "Encoding queries for RRF...\n"
     ]
    },
    {
     "name": "stderr",
     "output_type": "stream",
     "text": [
      "100%|██████████| 43/43 [00:00<00:00, 69.97it/s]\n"
     ]
    },
    {
     "name": "stdout",
     "output_type": "stream",
     "text": [
      "Encoding queries for RRF...\n"
     ]
    },
    {
     "name": "stderr",
     "output_type": "stream",
     "text": [
      "100%|██████████| 43/43 [00:00<00:00, 77.77it/s]\n"
     ]
    },
    {
     "name": "stdout",
     "output_type": "stream",
     "text": [
      "Encoding queries for RRF...\n"
     ]
    },
    {
     "name": "stderr",
     "output_type": "stream",
     "text": [
      "100%|██████████| 43/43 [00:00<00:00, 69.85it/s]\n"
     ]
    },
    {
     "name": "stdout",
     "output_type": "stream",
     "text": [
      "Encoding queries for RRF...\n"
     ]
    },
    {
     "name": "stderr",
     "output_type": "stream",
     "text": [
      "100%|██████████| 43/43 [00:00<00:00, 68.08it/s]\n",
      " 91%|█████████ | 10/11 [03:30<00:21, 21.34s/it]"
     ]
    },
    {
     "name": "stdout",
     "output_type": "stream",
     "text": [
      "Encoding queries for RRF...\n"
     ]
    },
    {
     "name": "stderr",
     "output_type": "stream",
     "text": [
      "100%|██████████| 43/43 [00:00<00:00, 89.09it/s]\n"
     ]
    },
    {
     "name": "stdout",
     "output_type": "stream",
     "text": [
      "Encoding queries for RRF...\n"
     ]
    },
    {
     "name": "stderr",
     "output_type": "stream",
     "text": [
      "100%|██████████| 43/43 [00:00<00:00, 85.13it/s]\n"
     ]
    },
    {
     "name": "stdout",
     "output_type": "stream",
     "text": [
      "Encoding queries for RRF...\n"
     ]
    },
    {
     "name": "stderr",
     "output_type": "stream",
     "text": [
      "100%|██████████| 43/43 [00:00<00:00, 78.68it/s]\n"
     ]
    },
    {
     "name": "stdout",
     "output_type": "stream",
     "text": [
      "Encoding queries for RRF...\n"
     ]
    },
    {
     "name": "stderr",
     "output_type": "stream",
     "text": [
      "100%|██████████| 43/43 [00:00<00:00, 82.90it/s]\n"
     ]
    },
    {
     "name": "stdout",
     "output_type": "stream",
     "text": [
      "Encoding queries for RRF...\n"
     ]
    },
    {
     "name": "stderr",
     "output_type": "stream",
     "text": [
      "100%|██████████| 43/43 [00:00<00:00, 72.06it/s]\n"
     ]
    },
    {
     "name": "stdout",
     "output_type": "stream",
     "text": [
      "Encoding queries for RRF...\n"
     ]
    },
    {
     "name": "stderr",
     "output_type": "stream",
     "text": [
      "100%|██████████| 43/43 [00:00<00:00, 65.66it/s]\n"
     ]
    },
    {
     "name": "stdout",
     "output_type": "stream",
     "text": [
      "Encoding queries for RRF...\n"
     ]
    },
    {
     "name": "stderr",
     "output_type": "stream",
     "text": [
      "100%|██████████| 43/43 [00:00<00:00, 80.65it/s]\n"
     ]
    },
    {
     "name": "stdout",
     "output_type": "stream",
     "text": [
      "Encoding queries for RRF...\n"
     ]
    },
    {
     "name": "stderr",
     "output_type": "stream",
     "text": [
      "100%|██████████| 43/43 [00:00<00:00, 71.03it/s]\n"
     ]
    },
    {
     "name": "stdout",
     "output_type": "stream",
     "text": [
      "Encoding queries for RRF...\n"
     ]
    },
    {
     "name": "stderr",
     "output_type": "stream",
     "text": [
      "100%|██████████| 43/43 [00:00<00:00, 72.22it/s]\n"
     ]
    },
    {
     "name": "stdout",
     "output_type": "stream",
     "text": [
      "Encoding queries for RRF...\n"
     ]
    },
    {
     "name": "stderr",
     "output_type": "stream",
     "text": [
      "100%|██████████| 43/43 [00:00<00:00, 76.65it/s]\n"
     ]
    },
    {
     "name": "stdout",
     "output_type": "stream",
     "text": [
      "Encoding queries for RRF...\n"
     ]
    },
    {
     "name": "stderr",
     "output_type": "stream",
     "text": [
      "100%|██████████| 43/43 [00:00<00:00, 72.91it/s]\n",
      "100%|██████████| 11/11 [03:50<00:00, 20.93s/it]\n"
     ]
    }
   ],
   "source": [
    "with open(\n",
    "    \"../testing/msmarco-test2019-queries.tsv\",\n",
    "    encoding=\"utf-8\",\n",
    "    newline=\"\"\n",
    ") as fp:\n",
    "    queries = {q_id: q for q_id, q in csv.reader(fp, delimiter=\"\\t\")}\n",
    "print(f\"loaded {len(queries)} queries\")\n",
    "\n",
    "# define dictionary to keep track of best results for tested hyperparameters\n",
    "bestHyperparams2019_rrf = {\n",
    "    'rrf': {'precision': {'value': -1, 'eta1': 0, 'eta2': 0}, \n",
    "            'recall': {'value': -1, 'eta1': 0, 'eta2': 0}, \n",
    "            'fscore': {'value': -1, 'eta1': 0, 'eta2': 0}, \n",
    "            'rr': {'value': -1, 'eta1': 0, 'eta2': 0}, \n",
    "            'ndcg': {'value': -1, 'eta1': 0, 'eta2': 0}, \n",
    "            'map': {'value': -1, 'eta1': 0, 'eta2': 0}},\n",
    "}\n",
    "\n",
    "explored = set()\n",
    "\n",
    "for i in tqdm(range(len(etas))):\n",
    "    for j in range(len(etas)):\n",
    "        if (etas[i],etas[j]) in explored:\n",
    "            continue\n",
    "        else:\n",
    "            explored.add((etas[i],etas[j]))\n",
    "            eta = etas[i]\n",
    "\n",
    "        result2 = in_memory_index.get_scores_rrf(\n",
    "            sparse_ranking_2019,\n",
    "            queries,\n",
    "            alpha=alpha,\n",
    "            cutoff=None,\n",
    "            early_stopping=False,\n",
    "            eta = etas[i],\n",
    "            eta2 = etas[j],\n",
    "        )\n",
    "\n",
    "        qrels = list(read_trec_qrels(\"../testing/2019qrels-pass.txt\"))\n",
    "\n",
    "        rrfRes = calc_aggregate([nDCG@10, RR(rel=2)@10,P(rel=2)@10,R(rel=2)@10,AP(rel=2)@10], qrels, result2[alpha].run)\n",
    "        fscoreRRRes = (2*rrfRes[P(rel=2)@10]*rrfRes[R(rel=2)@10])/(rrfRes[P(rel=2)@10]+rrfRes[R(rel=2)@10])\n",
    "\n",
    "\n",
    "        if rrfRes[P(rel=2)@10] > bestHyperparams2019_rrf['rrf']['precision']['value']:\n",
    "            bestHyperparams2019_rrf['rrf']['precision']['value'] = rrfRes[P(rel=2)@10]\n",
    "            bestHyperparams2019_rrf['rrf']['precision']['eta1'] = etas[i]\n",
    "            bestHyperparams2019_rrf['rrf']['precision']['eta2'] = etas[j]\n",
    "\n",
    "\n",
    "        if rrfRes[R(rel=2)@10] > bestHyperparams2019_rrf['rrf']['recall']['value']:\n",
    "            bestHyperparams2019_rrf['rrf']['recall']['value'] = rrfRes[R(rel=2)@10]\n",
    "            bestHyperparams2019_rrf['rrf']['recall']['eta1'] = etas[i]\n",
    "            bestHyperparams2019_rrf['rrf']['recall']['eta2'] = etas[j]\n",
    "\n",
    "\n",
    "        if rrfRes[nDCG@10] > bestHyperparams2019_rrf['rrf']['ndcg']['value']:\n",
    "            bestHyperparams2019_rrf['rrf']['ndcg']['value'] = rrfRes[nDCG@10]\n",
    "            bestHyperparams2019_rrf['rrf']['ndcg']['eta1'] = etas[i]\n",
    "            bestHyperparams2019_rrf['rrf']['ndcg']['eta2'] = etas[j]\n",
    "\n",
    "        if rrfRes[RR(rel=2)@10] > bestHyperparams2019_rrf['rrf']['rr']['value']:\n",
    "            bestHyperparams2019_rrf['rrf']['rr']['value'] = rrfRes[RR(rel=2)@10]\n",
    "            bestHyperparams2019_rrf['rrf']['rr']['eta1'] = etas[i]\n",
    "            bestHyperparams2019_rrf['rrf']['rr']['eta2'] = etas[j]\n",
    "\n",
    "        if fscoreRRRes > bestHyperparams2019_rrf['rrf']['fscore']['value']:\n",
    "            bestHyperparams2019_rrf['rrf']['fscore']['value'] = fscoreRRRes\n",
    "            bestHyperparams2019_rrf['rrf']['fscore']['eta1'] = etas[i]\n",
    "            bestHyperparams2019_rrf['rrf']['fscore']['eta2'] = etas[j]\n",
    "\n",
    "        if rrfRes[AP(rel=2)@10] > bestHyperparams2019_rrf['rrf']['map']['value']:\n",
    "            bestHyperparams2019_rrf['rrf']['map']['value'] = rrfRes[AP(rel=2)@10]\n",
    "            bestHyperparams2019_rrf['rrf']['map']['eta1'] = etas[i]\n",
    "            bestHyperparams2019_rrf['rrf']['map']['eta2'] = etas[j]"
   ]
  },
  {
   "cell_type": "code",
   "execution_count": 15,
   "metadata": {},
   "outputs": [
    {
     "name": "stdout",
     "output_type": "stream",
     "text": [
      "precision {'value': 0.6348837209302327, 'eta1': 40, 'eta2': 10}\n",
      "recall {'value': 0.26976473421199393, 'eta1': 40, 'eta2': 10}\n",
      "fscore {'value': 0.37864263683585114, 'eta1': 40, 'eta2': 10}\n",
      "rr {'value': 0.8976744186046512, 'eta1': 20, 'eta2': 20}\n",
      "ndcg {'value': 0.7151248552748896, 'eta1': 80, 'eta2': 40}\n",
      "map {'value': 0.20941181623477223, 'eta1': 100, 'eta2': 10}\n"
     ]
    }
   ],
   "source": [
    "for key in bestHyperparams2019_rrf['rrf']:\n",
    "    print(key, bestHyperparams2019_rrf['rrf'][key])"
   ]
  },
  {
   "attachments": {},
   "cell_type": "markdown",
   "metadata": {},
   "source": [
    "# Testing hyperparameters found from validation on 2020 set"
   ]
  },
  {
   "attachments": {},
   "cell_type": "markdown",
   "metadata": {},
   "source": [
    "## Testing the convex combination parameters"
   ]
  },
  {
   "cell_type": "code",
   "execution_count": 23,
   "metadata": {},
   "outputs": [
    {
     "name": "stdout",
     "output_type": "stream",
     "text": [
      "loaded 200 queries\n",
      "\n",
      "TESTING RESULTS FOR BEST VALIDATION METRICS FOR ccUnnormalized\n",
      "Encoding queries for interpolation...\n"
     ]
    },
    {
     "name": "stderr",
     "output_type": "stream",
     "text": [
      "100%|██████████| 54/54 [00:00<00:00, 58.72it/s]\n"
=======
      "100%|██████████| 54/54 [00:00<00:00, 70.95it/s]\n"
>>>>>>> main
     ]
    },
    {
     "name": "stdout",
     "output_type": "stream",
     "text": [
      "sparse_ranking_2020 None\n",
<<<<<<< HEAD
      "using best alpha=0.1 for precision\n",
      "Interpolation {RR(rel=2)@10: 0.814814814814815, P(rel=2)@10: 0.5333333333333332, nDCG@10: 0.6939603772252908, AP(rel=2)@10: 0.29804239556403656, R(rel=2)@10: 0.39120794049318314} f-score:0.4513465019601672\n",
=======
>>>>>>> main
      "Encoding queries for interpolation...\n"
     ]
    },
    {
     "name": "stderr",
     "output_type": "stream",
     "text": [
<<<<<<< HEAD
      "100%|██████████| 54/54 [00:00<00:00, 89.94it/s]\n"
=======
      "100%|██████████| 54/54 [00:00<00:00, 76.50it/s]\n"
>>>>>>> main
     ]
    },
    {
     "name": "stdout",
     "output_type": "stream",
     "text": [
      "sparse_ranking_2020 None\n",
<<<<<<< HEAD
      "using best alpha=0.2 for recall\n",
      "Interpolation {RR(rel=2)@10: 0.7975308641975309, P(rel=2)@10: 0.5203703703703704, nDCG@10: 0.6714497182268857, AP(rel=2)@10: 0.2876461836252215, R(rel=2)@10: 0.373499948435731} f-score:0.4348691357386391\n",
      "Encoding queries for interpolation...\n"
     ]
    },
    {
     "name": "stderr",
     "output_type": "stream",
     "text": [
      "100%|██████████| 54/54 [00:00<00:00, 83.10it/s] \n"
     ]
    },
    {
     "name": "stdout",
     "output_type": "stream",
     "text": [
      "sparse_ranking_2020 None\n",
      "using best alpha=0.2 for fscore\n",
      "Interpolation {RR(rel=2)@10: 0.7975308641975309, P(rel=2)@10: 0.5203703703703704, nDCG@10: 0.6714497182268857, AP(rel=2)@10: 0.2876461836252215, R(rel=2)@10: 0.373499948435731} f-score:0.4348691357386391\n",
      "Encoding queries for interpolation...\n"
     ]
    },
    {
     "name": "stderr",
     "output_type": "stream",
     "text": [
      "100%|██████████| 54/54 [00:00<00:00, 76.35it/s]\n"
     ]
    },
    {
     "name": "stdout",
     "output_type": "stream",
     "text": [
      "sparse_ranking_2020 None\n",
      "using best alpha=0.2 for rr\n",
      "Interpolation {RR(rel=2)@10: 0.7975308641975309, P(rel=2)@10: 0.5203703703703704, nDCG@10: 0.6714497182268857, AP(rel=2)@10: 0.2876461836252215, R(rel=2)@10: 0.373499948435731} f-score:0.4348691357386391\n",
      "Encoding queries for interpolation...\n"
     ]
    },
    {
     "name": "stderr",
     "output_type": "stream",
     "text": [
      "100%|██████████| 54/54 [00:00<00:00, 80.22it/s]\n"
     ]
    },
    {
     "name": "stdout",
     "output_type": "stream",
     "text": [
      "sparse_ranking_2020 None\n",
      "using best alpha=0.1 for ndcg\n",
      "Interpolation {RR(rel=2)@10: 0.814814814814815, P(rel=2)@10: 0.5333333333333332, nDCG@10: 0.6939603772252908, AP(rel=2)@10: 0.29804239556403656, R(rel=2)@10: 0.39120794049318314} f-score:0.4513465019601672\n",
      "Encoding queries for interpolation...\n"
     ]
    },
    {
     "name": "stderr",
     "output_type": "stream",
     "text": [
      "100%|██████████| 54/54 [00:00<00:00, 86.28it/s]\n"
     ]
    },
    {
     "name": "stdout",
     "output_type": "stream",
     "text": [
      "sparse_ranking_2020 None\n",
      "using best alpha=0.1 for map\n",
      "Interpolation {RR(rel=2)@10: 0.814814814814815, P(rel=2)@10: 0.5333333333333332, nDCG@10: 0.6939603772252908, AP(rel=2)@10: 0.29804239556403656, R(rel=2)@10: 0.39120794049318314} f-score:0.4513465019601672\n",
      "\n",
      "TESTING RESULTS FOR BEST VALIDATION METRICS FOR ccNormalized_minimax\n",
      "Encoding queries for interpolation...\n"
     ]
    },
    {
     "name": "stderr",
     "output_type": "stream",
     "text": [
      "100%|██████████| 54/54 [00:00<00:00, 80.17it/s]\n"
     ]
    },
    {
     "name": "stdout",
     "output_type": "stream",
     "text": [
      "sparse_ranking_2020 None\n",
      "using best alpha=0.2 for precision\n",
      "Interpolation {RR(rel=2)@10: 0.7975308641975309, P(rel=2)@10: 0.5203703703703704, nDCG@10: 0.6714497182268857, AP(rel=2)@10: 0.2876461836252215, R(rel=2)@10: 0.373499948435731} f-score:0.4348691357386391\n",
      "Encoding queries for interpolation...\n"
     ]
    },
    {
     "name": "stderr",
     "output_type": "stream",
     "text": [
      "100%|██████████| 54/54 [00:00<00:00, 83.31it/s]\n"
     ]
    },
    {
     "name": "stdout",
     "output_type": "stream",
     "text": [
      "sparse_ranking_2020 None\n",
      "using best alpha=0.1 for recall\n",
      "Interpolation {RR(rel=2)@10: 0.814814814814815, P(rel=2)@10: 0.5333333333333332, nDCG@10: 0.6939603772252908, AP(rel=2)@10: 0.29804239556403656, R(rel=2)@10: 0.39120794049318314} f-score:0.4513465019601672\n",
      "Encoding queries for interpolation...\n"
     ]
    },
    {
     "name": "stderr",
     "output_type": "stream",
     "text": [
      "100%|██████████| 54/54 [00:00<00:00, 74.17it/s]\n"
     ]
    },
    {
     "name": "stdout",
     "output_type": "stream",
     "text": [
      "sparse_ranking_2020 None\n",
      "using best alpha=0.1 for fscore\n",
      "Interpolation {RR(rel=2)@10: 0.814814814814815, P(rel=2)@10: 0.5333333333333332, nDCG@10: 0.6939603772252908, AP(rel=2)@10: 0.29804239556403656, R(rel=2)@10: 0.39120794049318314} f-score:0.4513465019601672\n",
      "Encoding queries for interpolation...\n"
     ]
    },
    {
     "name": "stderr",
     "output_type": "stream",
     "text": [
      "100%|██████████| 54/54 [00:00<00:00, 76.73it/s]\n"
     ]
    },
    {
     "name": "stdout",
     "output_type": "stream",
     "text": [
      "sparse_ranking_2020 None\n",
      "using best alpha=0.3 for rr\n",
      "Interpolation {RR(rel=2)@10: 0.7861111111111113, P(rel=2)@10: 0.48703703703703705, nDCG@10: 0.6418605413650978, AP(rel=2)@10: 0.2666838650083592, R(rel=2)@10: 0.3544607245661019} f-score:0.41030531254126534\n",
      "Encoding queries for interpolation...\n"
     ]
    },
    {
     "name": "stderr",
     "output_type": "stream",
     "text": [
      "100%|██████████| 54/54 [00:00<00:00, 69.83it/s]\n"
     ]
    },
    {
     "name": "stdout",
     "output_type": "stream",
     "text": [
      "sparse_ranking_2020 None\n",
      "using best alpha=0.2 for ndcg\n",
      "Interpolation {RR(rel=2)@10: 0.7975308641975309, P(rel=2)@10: 0.5203703703703704, nDCG@10: 0.6714497182268857, AP(rel=2)@10: 0.2876461836252215, R(rel=2)@10: 0.373499948435731} f-score:0.4348691357386391\n",
      "Encoding queries for interpolation...\n"
     ]
    },
    {
     "name": "stderr",
     "output_type": "stream",
     "text": [
      "100%|██████████| 54/54 [00:00<00:00, 89.42it/s] \n"
     ]
    },
    {
     "name": "stdout",
     "output_type": "stream",
     "text": [
      "sparse_ranking_2020 None\n",
      "using best alpha=0.2 for map\n",
      "Interpolation {RR(rel=2)@10: 0.7975308641975309, P(rel=2)@10: 0.5203703703703704, nDCG@10: 0.6714497182268857, AP(rel=2)@10: 0.2876461836252215, R(rel=2)@10: 0.373499948435731} f-score:0.4348691357386391\n",
      "\n",
      "TESTING RESULTS FOR BEST VALIDATION METRICS FOR ccNormalized_zscore\n",
      "Encoding queries for interpolation...\n"
     ]
    },
    {
     "name": "stderr",
     "output_type": "stream",
     "text": [
      "100%|██████████| 54/54 [00:00<00:00, 88.60it/s]\n"
     ]
    },
    {
     "name": "stdout",
     "output_type": "stream",
     "text": [
      "sparse_ranking_2020 None\n",
      "using best alpha=0.1 for precision\n",
      "Interpolation {RR(rel=2)@10: 0.814814814814815, P(rel=2)@10: 0.5333333333333332, nDCG@10: 0.6939603772252908, AP(rel=2)@10: 0.29804239556403656, R(rel=2)@10: 0.39120794049318314} f-score:0.4513465019601672\n",
      "Encoding queries for interpolation...\n"
     ]
    },
    {
     "name": "stderr",
     "output_type": "stream",
     "text": [
      "100%|██████████| 54/54 [00:00<00:00, 86.11it/s]\n"
     ]
    },
    {
     "name": "stdout",
     "output_type": "stream",
     "text": [
      "sparse_ranking_2020 None\n",
      "using best alpha=0.1 for recall\n",
      "Interpolation {RR(rel=2)@10: 0.814814814814815, P(rel=2)@10: 0.5333333333333332, nDCG@10: 0.6939603772252908, AP(rel=2)@10: 0.29804239556403656, R(rel=2)@10: 0.39120794049318314} f-score:0.4513465019601672\n",
      "Encoding queries for interpolation...\n"
     ]
    },
    {
     "name": "stderr",
     "output_type": "stream",
     "text": [
      "100%|██████████| 54/54 [00:00<00:00, 85.71it/s]\n"
     ]
    },
    {
     "name": "stdout",
     "output_type": "stream",
     "text": [
      "sparse_ranking_2020 None\n",
      "using best alpha=0.1 for fscore\n",
      "Interpolation {RR(rel=2)@10: 0.814814814814815, P(rel=2)@10: 0.5333333333333332, nDCG@10: 0.6939603772252908, AP(rel=2)@10: 0.29804239556403656, R(rel=2)@10: 0.39120794049318314} f-score:0.4513465019601672\n",
      "Encoding queries for interpolation...\n"
     ]
    },
    {
     "name": "stderr",
     "output_type": "stream",
     "text": [
      "100%|██████████| 54/54 [00:00<00:00, 90.36it/s]\n"
     ]
    },
    {
     "name": "stdout",
     "output_type": "stream",
     "text": [
      "sparse_ranking_2020 None\n",
      "using best alpha=0.3 for rr\n",
      "Interpolation {RR(rel=2)@10: 0.7861111111111113, P(rel=2)@10: 0.48703703703703705, nDCG@10: 0.6418605413650978, AP(rel=2)@10: 0.2666838650083592, R(rel=2)@10: 0.3544607245661019} f-score:0.41030531254126534\n",
      "Encoding queries for interpolation...\n"
     ]
    },
    {
     "name": "stderr",
     "output_type": "stream",
     "text": [
      "100%|██████████| 54/54 [00:00<00:00, 92.03it/s] \n"
     ]
    },
    {
     "name": "stdout",
     "output_type": "stream",
     "text": [
      "sparse_ranking_2020 None\n",
      "using best alpha=0.2 for ndcg\n",
      "Interpolation {RR(rel=2)@10: 0.7975308641975309, P(rel=2)@10: 0.5203703703703704, nDCG@10: 0.6714497182268857, AP(rel=2)@10: 0.2876461836252215, R(rel=2)@10: 0.373499948435731} f-score:0.4348691357386391\n",
      "Encoding queries for interpolation...\n"
     ]
    },
    {
     "name": "stderr",
     "output_type": "stream",
     "text": [
      "100%|██████████| 54/54 [00:00<00:00, 78.05it/s]\n"
     ]
    },
    {
     "name": "stdout",
     "output_type": "stream",
     "text": [
      "sparse_ranking_2020 None\n",
      "using best alpha=0.1 for map\n",
      "Interpolation {RR(rel=2)@10: 0.814814814814815, P(rel=2)@10: 0.5333333333333332, nDCG@10: 0.6939603772252908, AP(rel=2)@10: 0.29804239556403656, R(rel=2)@10: 0.39120794049318314} f-score:0.4513465019601672\n"
=======
      "BM25 {nDCG@10: 0.4875508583120806, RR(rel=2)@10: 0.6554012345679013}\n",
      "Interpolation {nDCG@10: 0.6714497182268859, RR(rel=2)@10: 0.7975308641975308}\n",
      "RRF {nDCG@10: 0.6280697741206178, RR(rel=2)@10: 0.8151455026455027}\n",
      "Interpolation w/ minimax {nDCG@10: 0.6727571514417631, RR(rel=2)@10: 0.8021604938271604}\n"
>>>>>>> main
     ]
    }
   ],
   "source": [
    "with open(\n",
    "    \"../testing/msmarco-test2020-queries.tsv\",\n",
    "    encoding=\"utf-8\",\n",
    "    newline=\"\"\n",
    ") as fp:\n",
    "    queries = {q_id: q for q_id, q in csv.reader(fp, delimiter=\"\\t\")}\n",
    "print(f\"loaded {len(queries)} queries\")\n",
    "\n",
<<<<<<< HEAD
    "\n",
    "for key in bestHyperparams2019.keys():\n",
    "    print('\\n'+'TESTING RESULTS FOR BEST VALIDATION METRICS FOR {}'.format(key))\n",
    "    for metric in bestHyperparams2019[key].keys():\n",
    "        # print(f\"best {metric} for {key} is {bestHyperparams2019[key][metric]['value']} with alpha {bestHyperparams2019[key][metric]['alpha']}\")\n",
    "    \n",
    "        alpha = bestHyperparams2019[key][metric]['alpha']\n",
    "\n",
    "        result = in_memory_index.get_scores(\n",
    "            sparse_ranking_2020,\n",
    "            queries,\n",
    "            alpha=alpha*1.0,\n",
    "            cutoff=None,\n",
    "            early_stopping=False,\n",
    "            normalise= False if key == 'ccUnnormalized' else True\n",
    "        )\n",
    "        qrels = list(read_trec_qrels(\"../testing/2020qrels-pass.txt\"))\n",
    "        print('using best alpha={} for {}'.format(alpha, metric))\n",
    "        interpolation2 = calc_aggregate([nDCG@10, RR(rel=2)@10,P(rel=2)@10,R(rel=2)@10,AP(rel=2)@10], qrels, result[alpha].run)\n",
    "        fscoreInterpolation2 = (2*interpolation2[P(rel=2)@10]*interpolation2[R(rel=2)@10])/(interpolation2[P(rel=2)@10]+interpolation2[R(rel=2)@10])\n",
    "        print(\n",
    "            f\"Interpolation\",\n",
    "            interpolation2,\n",
    "            'f-score:{}'.format(fscoreInterpolation2)\n",
    "        )"
   ]
  },
  {
   "attachments": {},
   "cell_type": "markdown",
   "metadata": {},
   "source": [
    "## Testing RRF parameters"
   ]
  },
  {
   "cell_type": "code",
   "execution_count": 32,
   "metadata": {},
   "outputs": [
    {
     "name": "stdout",
     "output_type": "stream",
     "text": [
      "loaded 200 queries\n",
      "\n",
      "TESTING RESULTS FOR BEST VALIDATION METRICS FOR unnormalized\n",
      "Encoding queries for RRF...\n"
     ]
    },
    {
     "name": "stderr",
     "output_type": "stream",
     "text": [
      "100%|██████████| 54/54 [00:01<00:00, 53.33it/s]\n"
     ]
    },
    {
     "name": "stdout",
     "output_type": "stream",
     "text": [
      "using best eta1=40 and eta2=10 for precision\n",
      "RRF {R(rel=2)@10: 0.3702476168178879, RR(rel=2)@10: 0.79320987654321, nDCG@10: 0.6793628703705968, P(rel=2)@10: 0.5037037037037037, AP(rel=2)@10: 0.28518417374234645} f-score:0.42678600397865596\n",
      "Encoding queries for RRF...\n"
     ]
    },
    {
     "name": "stderr",
     "output_type": "stream",
     "text": [
      "100%|██████████| 54/54 [00:00<00:00, 64.06it/s]\n"
     ]
    },
    {
     "name": "stdout",
     "output_type": "stream",
     "text": [
      "using best eta1=40 and eta2=10 for recall\n",
      "RRF {R(rel=2)@10: 0.3702476168178879, RR(rel=2)@10: 0.79320987654321, nDCG@10: 0.6793628703705968, P(rel=2)@10: 0.5037037037037037, AP(rel=2)@10: 0.28518417374234645} f-score:0.42678600397865596\n",
      "Encoding queries for RRF...\n"
     ]
    },
    {
     "name": "stderr",
     "output_type": "stream",
     "text": [
      "100%|██████████| 54/54 [00:00<00:00, 54.97it/s]\n"
     ]
    },
    {
     "name": "stdout",
     "output_type": "stream",
     "text": [
      "using best eta1=40 and eta2=10 for fscore\n",
      "RRF {R(rel=2)@10: 0.3702476168178879, RR(rel=2)@10: 0.79320987654321, nDCG@10: 0.6793628703705968, P(rel=2)@10: 0.5037037037037037, AP(rel=2)@10: 0.28518417374234645} f-score:0.42678600397865596\n",
      "Encoding queries for RRF...\n"
     ]
    },
    {
     "name": "stderr",
     "output_type": "stream",
     "text": [
      "100%|██████████| 54/54 [00:00<00:00, 64.25it/s]\n"
     ]
    },
    {
     "name": "stdout",
     "output_type": "stream",
     "text": [
      "using best eta1=20 and eta2=20 for rr\n",
      "RRF {R(rel=2)@10: 0.3525888949678008, RR(rel=2)@10: 0.809104938271605, nDCG@10: 0.639509948943491, P(rel=2)@10: 0.4814814814814814, AP(rel=2)@10: 0.26808911791402357} f-score:0.4070760173157598\n",
      "Encoding queries for RRF...\n"
     ]
    },
    {
     "name": "stderr",
     "output_type": "stream",
     "text": [
      "100%|██████████| 54/54 [00:01<00:00, 45.70it/s]\n"
     ]
    },
    {
     "name": "stdout",
     "output_type": "stream",
     "text": [
      "using best eta1=80 and eta2=40 for ndcg\n",
      "RRF {R(rel=2)@10: 0.37070757537644217, RR(rel=2)@10: 0.807716049382716, nDCG@10: 0.6639475222194774, P(rel=2)@10: 0.5037037037037038, AP(rel=2)@10: 0.28120310355515377} f-score:0.42709142293901964\n",
      "Encoding queries for RRF...\n"
     ]
    },
    {
     "name": "stderr",
     "output_type": "stream",
     "text": [
      "100%|██████████| 54/54 [00:01<00:00, 53.52it/s]\n"
     ]
    },
    {
     "name": "stdout",
     "output_type": "stream",
     "text": [
      "using best eta1=100 and eta2=10 for map\n",
      "RRF {R(rel=2)@10: 0.36834371388525794, RR(rel=2)@10: 0.8154320987654322, nDCG@10: 0.6829413068342425, P(rel=2)@10: 0.511111111111111, AP(rel=2)@10: 0.29184181741782134} f-score:0.42813925064420366\n"
     ]
    }
   ],
   "source": [
    "with open(\n",
    "    \"../testing/msmarco-test2020-queries.tsv\",\n",
    "    encoding=\"utf-8\",\n",
    "    newline=\"\"\n",
    ") as fp:\n",
    "    queries = {q_id: q for q_id, q in csv.reader(fp, delimiter=\"\\t\")}\n",
    "print(f\"loaded {len(queries)} queries\")\n",
    "\n",
    "\n",
    "for key in bestHyperparams2019_rrf.keys():\n",
    "    print('\\n'+'TESTING RESULTS FOR BEST VALIDATION METRICS FOR {}'.format('normalized' if key == 'ccNormalized' else 'unnormalized'))\n",
    "    for metric in bestHyperparams2019_rrf[key].keys():\n",
    "        # print(f\"best {metric} for {key} is {bestHyperparams2019[key][metric]['value']} with alpha {bestHyperparams2019[key][metric]['alpha']}\")\n",
    "        eta1 = bestHyperparams2019_rrf[key][metric]['eta1']\n",
    "        eta2 = bestHyperparams2019_rrf[key][metric]['eta2']\n",
    "        alpha = 0.0\n",
    "        result = in_memory_index.get_scores_rrf(\n",
    "            sparse_ranking_2020,\n",
    "            queries,\n",
    "            alpha=alpha,\n",
    "            cutoff=None,\n",
    "            early_stopping=False,\n",
    "            eta = eta1,\n",
    "            eta2 = eta2\n",
    "        )\n",
    "        qrels = list(read_trec_qrels(\"../testing/2020qrels-pass.txt\"))\n",
    "        print('using best eta1={} and eta2={} for {}'.format(eta1, eta2, metric))\n",
    "        interpolation2 = calc_aggregate([nDCG@10, RR(rel=2)@10,P(rel=2)@10,R(rel=2)@10,AP(rel=2)@10], qrels, result[alpha].run)\n",
    "        fscoreInterpolation2 = (2*interpolation2[P(rel=2)@10]*interpolation2[R(rel=2)@10])/(interpolation2[P(rel=2)@10]+interpolation2[R(rel=2)@10])\n",
    "        print(\n",
    "            f\"RRF\",\n",
    "            interpolation2,\n",
    "            'f-score:{}'.format(fscoreInterpolation2)\n",
    "        )"
=======
    "alpha = 0.2\n",
    "result = in_memory_index.get_scores(\n",
    "    sparse_ranking_2020,\n",
    "    queries,\n",
    "    alpha=alpha,\n",
    "    cutoff=None,\n",
    "    early_stopping=False,\n",
    "    normalise=False\n",
    ")\n",
    "result2 = in_memory_index.get_scores_rrf(\n",
    "    sparse_ranking_2020,\n",
    "    queries,\n",
    "    alpha=alpha,\n",
    "    cutoff=None,\n",
    "    early_stopping=False,\n",
    "    normalise=True\n",
    ")\n",
    "result3 = in_memory_index.get_scores(\n",
    "    sparse_ranking_2020,\n",
    "    queries,\n",
    "    alpha=alpha,\n",
    "    cutoff=None,\n",
    "    early_stopping=False,\n",
    "    normalise=True\n",
    ")\n",
    "qrels = list(read_trec_qrels(\"../testing/2020qrels-pass.txt\"))\n",
    "print(\n",
    "    \"BM25\",\n",
    "    calc_aggregate([nDCG@10, RR(rel=2)@10], qrels, sparse_ranking_2020.run)\n",
    ")\n",
    "print(\n",
    "    f\"Interpolation\",\n",
    "    calc_aggregate([nDCG@10, RR(rel=2)@10], qrels, result[alpha].run)\n",
    ")\n",
    "print(\n",
    "    f\"RRF\",\n",
    "    calc_aggregate([nDCG@10, RR(rel=2)@10], qrels, result2[alpha].run)\n",
    ")\n",
    "print(\n",
    "    f\"Interpolation w/ minimax\",\n",
    "    calc_aggregate([nDCG@10, RR(rel=2)@10], qrels, result3[alpha].run)\n",
    ")"
>>>>>>> main
   ]
  }
 ],
 "metadata": {
  "kernelspec": {
   "display_name": "Python 3",
   "language": "python",
   "name": "python3"
  },
  "language_info": {
   "codemirror_mode": {
    "name": "ipython",
    "version": 3
   },
   "file_extension": ".py",
   "mimetype": "text/x-python",
   "name": "python",
   "nbconvert_exporter": "python",
   "pygments_lexer": "ipython3",
   "version": "3.11.2"
  },
  "orig_nbformat": 4
 },
 "nbformat": 4,
 "nbformat_minor": 2
}
