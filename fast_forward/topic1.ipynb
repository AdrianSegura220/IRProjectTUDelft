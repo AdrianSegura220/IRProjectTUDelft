{
 "cells": [
  {
   "cell_type": "code",
   "execution_count": 9,
   "metadata": {},
   "outputs": [],
   "source": [
    "import csv\n",
    "from pathlib import Path\n",
    "import numpy as np\n",
    "from ranking import Ranking\n",
    "from index import Mode, InMemoryIndex\n",
    "from encoder import TCTColBERTQueryEncoder as TCTColBERTQueryEncoderFF\n",
    "# from pyserini.search.faiss import FaissSearcher, TctColBertQueryEncoder\n",
    "from ir_measures import read_trec_qrels, calc_aggregate, nDCG, RR, P, R\n",
    "import sys"
   ]
  },
  {
   "cell_type": "code",
   "execution_count": 4,
   "metadata": {},
   "outputs": [
    {
     "name": "stderr",
     "output_type": "stream",
     "text": [
      "Some weights of the model checkpoint at castorini/tct_colbert-msmarco were not used when initializing BertModel: ['cls.predictions.transform.dense.bias', 'cls.predictions.transform.LayerNorm.weight', 'cls.predictions.bias', 'cls.predictions.transform.dense.weight', 'cls.seq_relationship.weight', 'cls.seq_relationship.bias', 'cls.predictions.decoder.weight', 'cls.predictions.transform.LayerNorm.bias', 'cls.predictions.decoder.bias']\n",
      "- This IS expected if you are initializing BertModel from the checkpoint of a model trained on another task or with another architecture (e.g. initializing a BertForSequenceClassification model from a BertForPreTraining model).\n",
      "- This IS NOT expected if you are initializing BertModel from the checkpoint of a model that you expect to be exactly identical (initializing a BertForSequenceClassification model from a BertForSequenceClassification model).\n"
     ]
    }
   ],
   "source": [
    "# in_memory_index = InMemoryIndex(mode=Mode.PASSAGE, encoder=TCTColBERTQueryEncoderFF(\"castorini/tct_colbert-msmarco\"))\n",
    "in_memory_index = InMemoryIndex.from_disk('../../dev/testing/ffindex_passage_2019_2020.pkl')\n",
    "in_memory_index.encoder = TCTColBERTQueryEncoderFF(\"castorini/tct_colbert-msmarco\")"
   ]
  },
  {
   "cell_type": "code",
   "execution_count": 5,
   "metadata": {},
   "outputs": [
    {
     "name": "stdout",
     "output_type": "stream",
     "text": [
      "indexing 440079 documents or passages\n"
     ]
    }
   ],
   "source": [
    "sparse_ranking_2019 = Ranking.from_file(Path(\"../../dev/testing/msmarco-passage-test2019-sparse10000.txt\"))\n",
    "sparse_ranking_2019.cut(5000)\n",
    "sparse_ranking_2019.name = \"sparse_ranking_2019\"\n",
    "sparse_ranking_2020 = Ranking.from_file(Path(\"../../dev/testing/msmarco-passage-test2020-sparse10000.txt\"))\n",
    "sparse_ranking_2020.cut(5000)\n",
    "sparse_ranking_2020.name = \"sparse_ranking_2020\"\n",
    "all_ids = set.union(\n",
    "    *[set(sparse_ranking_2019[q_id].keys()) for q_id in sparse_ranking_2019.q_ids],\n",
    "    *[set(sparse_ranking_2020[q_id].keys()) for q_id in sparse_ranking_2020.q_ids]\n",
    ")\n",
    "print(f\"indexing {len(all_ids)} documents or passages\")"
   ]
  },
  {
   "cell_type": "code",
   "execution_count": 15,
   "metadata": {},
   "outputs": [
    {
     "name": "stdout",
     "output_type": "stream",
     "text": [
      "loaded 200 queries\n",
      "Encoding queries for interpolation...\n"
     ]
    },
    {
     "name": "stderr",
     "output_type": "stream",
     "text": [
      "100%|██████████| 43/43 [00:00<00:00, 66.25it/s]\n"
     ]
    },
    {
     "name": "stdout",
     "output_type": "stream",
     "text": [
      "sparse_ranking_2019 None\n",
      "Encoding queries for RRF...\n"
     ]
    },
    {
     "name": "stderr",
     "output_type": "stream",
     "text": [
      "100%|██████████| 43/43 [00:00<00:00, 68.16it/s]\n"
     ]
    },
    {
     "name": "stdout",
     "output_type": "stream",
     "text": [
      "sparse_ranking_2019 None\n",
      "Encoding queries for interpolation...\n"
     ]
    },
    {
     "name": "stderr",
     "output_type": "stream",
     "text": [
      "100%|██████████| 43/43 [00:00<00:00, 70.20it/s]\n"
     ]
    },
    {
     "name": "stdout",
     "output_type": "stream",
     "text": [
      "sparse_ranking_2019 None\n",
      "P@10\n",
      "BM25 {P@10: 0.6186046511627907, R@10: 0.12847703679948552, nDCG@10: 0.5058310024399072, RR(rel=2)@10: 0.7024178663713547} f-score:0.2127652004121614\n",
      "Interpolation {P@10: 0.8069767441860466, R@10: 0.17310336499562765, nDCG@10: 0.7158066715626032, RR(rel=2)@10: 0.901937984496124} f-score:0.28505912645948106\n",
      "RRF {P@10: 0.7767441860465117, R@10: 0.16565014746118, nDCG@10: 0.6816417471378419, RR(rel=2)@10: 0.8775193798449613} f-score:0.27306571014556874\n",
      "Interpolation w/ minimax {P@10: 0.8162790697674419, R@10: 0.17355258664965964, nDCG@10: 0.7229942609361284, RR(rel=2)@10: 0.8949612403100775} f-score:0.2862453288247246\n"
     ]
    }
   ],
   "source": [
    "with open(\n",
    "    \"../../dev/testing/msmarco-test2019-queries.tsv\",\n",
    "    encoding=\"utf-8\",\n",
    "    newline=\"\"\n",
    ") as fp:\n",
    "    queries = {q_id: q for q_id, q in csv.reader(fp, delimiter=\"\\t\")}\n",
    "print(f\"loaded {len(queries)} queries\")\n",
    "\n",
    "alpha = 0.2\n",
    "result = in_memory_index.get_scores(\n",
    "    sparse_ranking_2019,\n",
    "    queries,\n",
    "    alpha=alpha,\n",
    "    cutoff=None,\n",
    "    early_stopping=False,\n",
    "    normalise=False\n",
    ")\n",
    "result2 = in_memory_index.get_scores_rrf(\n",
    "    sparse_ranking_2019,\n",
    "    queries,\n",
    "    alpha=alpha,\n",
    "    cutoff=None,\n",
    "    early_stopping=False\n",
    ")\n",
    "result3 = in_memory_index.get_scores(\n",
    "    sparse_ranking_2019,\n",
    "    queries,\n",
    "    alpha=alpha,\n",
    "    cutoff=None,\n",
    "    early_stopping=False,\n",
    "    normalise=True\n",
    ")\n",
    "qrels = list(read_trec_qrels(\"../../dev/testing/2019qrels-pass.txt\"))\n",
    "bm25Res = calc_aggregate([nDCG@10, RR(rel=2)@10,P@10,R@10], qrels, sparse_ranking_2019.run)\n",
    "print(list(bm25Res.keys())[0])\n",
    "print(\n",
    "    \"BM25\",\n",
    "    bm25Res,\n",
    "    'f-score:{}'.format((2*bm25Res[P@10]*bm25Res[R@10])/(bm25Res[P@10]+bm25Res[R@10]))\n",
    ")\n",
    "\n",
    "interpolationRes = calc_aggregate([nDCG@10, RR(rel=2)@10,P@10,R@10], qrels, result[alpha].run)\n",
    "print(\n",
    "    f\"Interpolation\",\n",
    "    interpolationRes,\n",
    "    'f-score:{}'.format((2*interpolationRes[P@10]*interpolationRes[R@10])/(interpolationRes[P@10]+interpolationRes[R@10]))\n",
    ")\n",
    "\n",
    "rrfRes = calc_aggregate([nDCG@10, RR(rel=2)@10,P@10,R@10], qrels, result2[alpha].run)\n",
    "print(\n",
    "    f\"RRF\",\n",
    "    rrfRes,\n",
    "    'f-score:{}'.format((2*rrfRes[P@10]*rrfRes[R@10])/(rrfRes[P@10]+rrfRes[R@10]))\n",
    ")\n",
    "\n",
    "interpolationMinMax = calc_aggregate([nDCG@10, RR(rel=2)@10,P@10,R@10], qrels, result3[alpha].run)\n",
    "print(\n",
    "    f\"Interpolation w/ minimax\",\n",
    "    interpolationMinMax,\n",
    "    'f-score:{}'.format((2*interpolationMinMax[P@10]*interpolationMinMax[R@10])/(interpolationMinMax[P@10]+interpolationMinMax[R@10]))\n",
    ")"
   ]
  },
  {
   "cell_type": "code",
   "execution_count": 16,
   "metadata": {},
   "outputs": [
    {
     "name": "stdout",
     "output_type": "stream",
     "text": [
      "loaded 200 queries\n",
      "Encoding queries for interpolation...\n"
     ]
    },
    {
     "name": "stderr",
     "output_type": "stream",
     "text": [
      "100%|██████████| 54/54 [00:02<00:00, 21.34it/s]\n"
     ]
    },
    {
     "name": "stdout",
     "output_type": "stream",
     "text": [
      "sparse_ranking_2020 None\n",
      "Encoding queries for RRF...\n"
     ]
    },
    {
     "name": "stderr",
     "output_type": "stream",
     "text": [
      "100%|██████████| 54/54 [00:00<00:00, 69.63it/s]\n"
     ]
    },
    {
     "name": "stdout",
     "output_type": "stream",
     "text": [
      "sparse_ranking_2020 None\n",
      "Encoding queries for interpolation...\n"
     ]
    },
    {
     "name": "stderr",
     "output_type": "stream",
     "text": [
      "100%|██████████| 54/54 [00:00<00:00, 64.66it/s]\n"
     ]
    },
    {
     "name": "stdout",
     "output_type": "stream",
     "text": [
      "sparse_ranking_2020 None\n"
     ]
    },
    {
     "ename": "KeyError",
     "evalue": "P@10",
     "output_type": "error",
     "traceback": [
      "\u001b[0;31m---------------------------------------------------------------------------\u001b[0m",
      "\u001b[0;31mKeyError\u001b[0m                                  Traceback (most recent call last)",
      "Cell \u001b[0;32mIn[16], line 38\u001b[0m\n\u001b[1;32m     33\u001b[0m qrels \u001b[39m=\u001b[39m \u001b[39mlist\u001b[39m(read_trec_qrels(\u001b[39m\"\u001b[39m\u001b[39m../../dev/testing/2020qrels-pass.txt\u001b[39m\u001b[39m\"\u001b[39m))\n\u001b[1;32m     34\u001b[0m bm25Res2 \u001b[39m=\u001b[39m calc_aggregate([nDCG\u001b[39m@\u001b[39m\u001b[39m10\u001b[39m, RR(rel\u001b[39m=\u001b[39m\u001b[39m2\u001b[39m)\u001b[39m@\u001b[39m\u001b[39m10\u001b[39m], qrels, sparse_ranking_2020\u001b[39m.\u001b[39mrun)\n\u001b[1;32m     35\u001b[0m \u001b[39mprint\u001b[39m(\n\u001b[1;32m     36\u001b[0m     \u001b[39m\"\u001b[39m\u001b[39mBM25\u001b[39m\u001b[39m\"\u001b[39m,\n\u001b[1;32m     37\u001b[0m     bm25Res2,\n\u001b[0;32m---> 38\u001b[0m     \u001b[39m'\u001b[39m\u001b[39mf-score:\u001b[39m\u001b[39m{}\u001b[39;00m\u001b[39m'\u001b[39m\u001b[39m.\u001b[39mformat((\u001b[39m2\u001b[39m\u001b[39m*\u001b[39mbm25Res2[P\u001b[39m@\u001b[39;49m\u001b[39m10\u001b[39;49m]\u001b[39m*\u001b[39mbm25Res2[R\u001b[39m@\u001b[39m\u001b[39m10\u001b[39m])\u001b[39m/\u001b[39m(bm25Res2[P\u001b[39m@\u001b[39m\u001b[39m10\u001b[39m]\u001b[39m+\u001b[39mbm25Res2[R\u001b[39m@\u001b[39m\u001b[39m10\u001b[39m]))\n\u001b[1;32m     39\u001b[0m )\n\u001b[1;32m     42\u001b[0m interpolation2 \u001b[39m=\u001b[39m calc_aggregate([nDCG\u001b[39m@\u001b[39m\u001b[39m10\u001b[39m, RR(rel\u001b[39m=\u001b[39m\u001b[39m2\u001b[39m)\u001b[39m@\u001b[39m\u001b[39m10\u001b[39m], qrels, result[alpha]\u001b[39m.\u001b[39mrun)\n\u001b[1;32m     43\u001b[0m \u001b[39mprint\u001b[39m(\n\u001b[1;32m     44\u001b[0m     \u001b[39mf\u001b[39m\u001b[39m\"\u001b[39m\u001b[39mInterpolation\u001b[39m\u001b[39m\"\u001b[39m,\n\u001b[1;32m     45\u001b[0m     interpolation2,\n\u001b[1;32m     46\u001b[0m     \u001b[39m'\u001b[39m\u001b[39mf-score:\u001b[39m\u001b[39m{}\u001b[39;00m\u001b[39m'\u001b[39m\u001b[39m.\u001b[39mformat((\u001b[39m2\u001b[39m\u001b[39m*\u001b[39minterpolation2[P\u001b[39m@\u001b[39m\u001b[39m10\u001b[39m]\u001b[39m*\u001b[39minterpolation2[R\u001b[39m@\u001b[39m\u001b[39m10\u001b[39m])\u001b[39m/\u001b[39m(interpolation2[P\u001b[39m@\u001b[39m\u001b[39m10\u001b[39m]\u001b[39m+\u001b[39minterpolation2[R\u001b[39m@\u001b[39m\u001b[39m10\u001b[39m]))\n\u001b[1;32m     47\u001b[0m )\n",
      "\u001b[0;31mKeyError\u001b[0m: P@10"
     ]
    }
   ],
   "source": [
    "with open(\n",
    "    \"../../dev/testing/msmarco-test2020-queries.tsv\",\n",
    "    encoding=\"utf-8\",\n",
    "    newline=\"\"\n",
    ") as fp:\n",
    "    queries = {q_id: q for q_id, q in csv.reader(fp, delimiter=\"\\t\")}\n",
    "print(f\"loaded {len(queries)} queries\")\n",
    "\n",
    "alpha = 0.2\n",
    "result = in_memory_index.get_scores(\n",
    "    sparse_ranking_2020,\n",
    "    queries,\n",
    "    alpha=alpha,\n",
    "    cutoff=None,\n",
    "    early_stopping=False,\n",
    "    normalise=False\n",
    ")\n",
    "result2 = in_memory_index.get_scores_rrf(\n",
    "    sparse_ranking_2020,\n",
    "    queries,\n",
    "    alpha=alpha,\n",
    "    cutoff=None,\n",
    "    early_stopping=False\n",
    ")\n",
    "result3 = in_memory_index.get_scores(\n",
    "    sparse_ranking_2020,\n",
    "    queries,\n",
    "    alpha=alpha,\n",
    "    cutoff=None,\n",
    "    early_stopping=False,\n",
    "    normalise=True\n",
    ")\n",
    "qrels = list(read_trec_qrels(\"../../dev/testing/2020qrels-pass.txt\"))\n",
    "bm25Res2 = calc_aggregate([nDCG@10, RR(rel=2)@10,P@10,R@10], qrels, sparse_ranking_2020.run)\n",
    "print(\n",
    "    \"BM25\",\n",
    "    bm25Res2,\n",
    "    'f-score:{}'.format((2*bm25Res2[P@10]*bm25Res2[R@10])/(bm25Res2[P@10]+bm25Res2[R@10]))\n",
    ")\n",
    "\n",
    "\n",
    "interpolation2 = calc_aggregate([nDCG@10, RR(rel=2)@10,P@10,R@10], qrels, result[alpha].run)\n",
    "print(\n",
    "    f\"Interpolation\",\n",
    "    interpolation2,\n",
    "    'f-score:{}'.format((2*interpolation2[P@10]*interpolation2[R@10])/(interpolation2[P@10]+interpolation2[R@10]))\n",
    ")\n",
    "\n",
    "rrf2 = calc_aggregate([nDCG@10, RR(rel=2)@10,P@10,R@10], qrels, result2[alpha].run)\n",
    "print(\n",
    "    f\"RRF\",\n",
    "    rrf2,\n",
    "    'f-score:{}'.format((2*rrf2[P@10]*rrf2[R@10])/(rrf2[P@10]+rrf2[R@10]))\n",
    ")\n",
    "\n",
    "\n",
    "interpolationMinmax2 = calc_aggregate([nDCG@10, RR(rel=2)@10,P@10,R@10], qrels, result3[alpha].run)\n",
    "print(\n",
    "    f\"Interpolation w/ minimax\",\n",
    "    interpolationMinmax2,\n",
    "    'f-score:{}'.format((2*interpolationMinmax2[P@10]*interpolationMinmax2[R@10])/(interpolationMinmax2[P@10]+interpolationMinmax2[R@10]))\n",
    ")"
   ]
  }
 ],
 "metadata": {
  "kernelspec": {
   "display_name": "Python 3",
   "language": "python",
   "name": "python3"
  },
  "language_info": {
   "codemirror_mode": {
    "name": "ipython",
    "version": 3
   },
   "file_extension": ".py",
   "mimetype": "text/x-python",
   "name": "python",
   "nbconvert_exporter": "python",
   "pygments_lexer": "ipython3",
   "version": "3.8.5"
  },
  "orig_nbformat": 4
 },
 "nbformat": 4,
 "nbformat_minor": 2
}
