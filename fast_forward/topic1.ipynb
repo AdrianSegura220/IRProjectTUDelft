{
 "cells": [
  {
   "cell_type": "code",
   "execution_count": 14,
   "metadata": {},
   "outputs": [],
   "source": [
    "import csv\n",
    "from pathlib import Path\n",
    "import numpy as np\n",
    "from ranking import Ranking\n",
    "from index import Mode, InMemoryIndex\n",
    "from encoder import TCTColBERTQueryEncoder as TCTColBERTQueryEncoderFF\n",
    "# from pyserini.search.faiss import FaissSearcher, TctColBertQueryEncoder\n",
    "from ir_measures import read_trec_qrels, calc_aggregate, nDCG, RR, P, R, AP\n",
    "import sys\n",
    "from tqdm import tqdm\n",
    "\n",
    "# define values of eta to test\n",
    "etas = [10,20,30,40,50,60,70,80,90,100,500]\n",
    "\n",
    "# define values of alpha to test\n",
    "alphas = [0.0,0.1,0.2,0.3,0.4,0.5,0.6,0.7,0.8,0.9,1.0,-1.0]"
   ]
  },
  {
   "cell_type": "code",
   "execution_count": 15,
   "metadata": {},
   "outputs": [
    {
     "name": "stderr",
     "output_type": "stream",
     "text": [
      "Some weights of the model checkpoint at castorini/tct_colbert-msmarco were not used when initializing BertModel: ['cls.predictions.decoder.weight', 'cls.predictions.bias', 'cls.seq_relationship.bias', 'cls.predictions.transform.dense.weight', 'cls.predictions.transform.dense.bias', 'cls.predictions.transform.LayerNorm.weight', 'cls.seq_relationship.weight', 'cls.predictions.transform.LayerNorm.bias', 'cls.predictions.decoder.bias']\n",
      "- This IS expected if you are initializing BertModel from the checkpoint of a model trained on another task or with another architecture (e.g. initializing a BertForSequenceClassification model from a BertForPreTraining model).\n",
      "- This IS NOT expected if you are initializing BertModel from the checkpoint of a model that you expect to be exactly identical (initializing a BertForSequenceClassification model from a BertForSequenceClassification model).\n"
     ]
    }
   ],
   "source": [
    "# in_memory_index = InMemoryIndex(mode=Mode.PASSAGE, encoder=TCTColBERTQueryEncoderFF(\"castorini/tct_colbert-msmarco\"))\n",
    "in_memory_index = InMemoryIndex.from_disk('../testing/ffindex_passage_2019_2020.pkl')\n",
    "in_memory_index.encoder = TCTColBERTQueryEncoderFF(\"castorini/tct_colbert-msmarco\")"
   ]
  },
  {
   "cell_type": "code",
   "execution_count": 16,
   "metadata": {},
   "outputs": [
    {
     "name": "stdout",
     "output_type": "stream",
     "text": [
      "indexing 440079 documents or passages\n"
     ]
    }
   ],
   "source": [
    "sparse_ranking_2019 = Ranking.from_file(Path(\"../testing/msmarco-passage-test2019-sparse10000.txt\"))\n",
    "sparse_ranking_2019.cut(5000)\n",
    "sparse_ranking_2019.name = \"sparse_ranking_2019\"\n",
    "sparse_ranking_2020 = Ranking.from_file(Path(\"../testing/msmarco-passage-test2020-sparse10000.txt\"))\n",
    "sparse_ranking_2020.cut(5000)\n",
    "sparse_ranking_2020.name = \"sparse_ranking_2020\"\n",
    "all_ids = set.union(\n",
    "    *[set(sparse_ranking_2019[q_id].keys()) for q_id in sparse_ranking_2019.q_ids],\n",
    "    *[set(sparse_ranking_2020[q_id].keys()) for q_id in sparse_ranking_2020.q_ids]\n",
    ")\n",
    "print(f\"indexing {len(all_ids)} documents or passages\")"
   ]
  },
  {
   "cell_type": "code",
   "execution_count": null,
   "metadata": {},
   "outputs": [
    {
     "name": "stdout",
     "output_type": "stream",
     "text": [
      "loaded 200 queries\n",
      "Encoding queries for interpolation...\n",
      "huggingface/tokenizers: The current process just got forked, after parallelism has already been used. Disabling parallelism to avoid deadlocks...\n",
      "To disable this warning, you can either:\n",
      "\t- Avoid using `tokenizers` before the fork if possible\n",
      "\t- Explicitly set the environment variable TOKENIZERS_PARALLELISM=(true | false)\n"
     ]
    },
    {
     "name": "stderr",
     "output_type": "stream",
     "text": [
      "100%|██████████| 43/43 [00:01<00:00, 33.50it/s]\n"
     ]
    },
    {
     "name": "stdout",
     "output_type": "stream",
     "text": [
      "sparse_ranking_2019 None\n",
      "Encoding queries for RRF...\n"
     ]
    },
    {
     "name": "stderr",
     "output_type": "stream",
     "text": [
      "100%|██████████| 43/43 [00:00<00:00, 102.57it/s]\n"
     ]
    },
    {
     "name": "stdout",
     "output_type": "stream",
     "text": [
      "Encoding queries for RRF...\n"
     ]
    },
    {
     "name": "stderr",
     "output_type": "stream",
     "text": [
      "100%|██████████| 43/43 [00:00<00:00, 62.37it/s]\n"
     ]
    },
    {
     "name": "stdout",
     "output_type": "stream",
     "text": [
      "BM25 {nDCG@10: 0.5058310024399072, RR(rel=2)@10: 0.7024178663713547}\n",
      "Interpolation {nDCG@10: 0.7158066715626032, RR(rel=2)@10: 0.901937984496124}\n",
      "RRF {nDCG@10: 0.6816417471378419, RR(rel=2)@10: 0.8775193798449614}\n",
      "rrf with eta_lex = 60 and eta_sem = 10 {nDCG@10: 0.698939518670405, RR(rel=2)@10: 0.841860465116279}\n"
     ]
    }
   ],
   "source": [
    "with open(\n",
    "    \"../testing/msmarco-test2019-queries.tsv\",\n",
    "    encoding=\"utf-8\",\n",
    "    newline=\"\"\n",
    ") as fp:\n",
    "    queries = {q_id: q for q_id, q in csv.reader(fp, delimiter=\"\\t\")}\n",
    "print(f\"loaded {len(queries)} queries\")\n",
    "\n",
    "alpha = 0.2\n",
    "result = in_memory_index.get_scores(\n",
    "    sparse_ranking_2019,\n",
    "    queries,\n",
    "    alpha=alpha,\n",
    "    cutoff=None,\n",
    "    early_stopping=False,\n",
    "    normalise=False\n",
    ")\n",
    "result2 = in_memory_index.get_scores_rrf(\n",
    "    sparse_ranking_2019,\n",
    "    queries,\n",
    "    alpha=alpha,\n",
    "    cutoff=None,\n",
    "    early_stopping=False,\n",
    ")\n",
    "result3 = in_memory_index.get_scores_rrf(\n",
    "    sparse_ranking_2019,\n",
    "    queries,\n",
    "    alpha=alpha,\n",
    "    cutoff=None,\n",
    "    early_stopping=False,\n",
    "    eta=60,\n",
    "    eta2=10,\n",
    ")\n",
    "qrels = list(read_trec_qrels(\"../testing/2019qrels-pass.txt\"))\n",
    "print(\n",
    "    \"BM25\",\n",
    "    calc_aggregate([nDCG@10, RR(rel=2)@10], qrels, sparse_ranking_2019.run)\n",
    ")\n",
    "print(\n",
    "    f\"Interpolation\",\n",
    "    calc_aggregate([nDCG@10, RR(rel=2)@10], qrels, result[alpha].run)\n",
    ")\n",
    "print(\n",
    "    f\"RRF\",\n",
    "    calc_aggregate([nDCG@10, RR(rel=2)@10], qrels, result2[alpha].run)\n",
    ")\n",
    "print(\n",
    "    f\"rrf with eta_lex = 60 and eta_sem = 10\",\n",
    "    calc_aggregate([nDCG@10, RR(rel=2)@10], qrels, result3[alpha].run)\n",
    ")"
   ]
  },
  {
   "cell_type": "code",
   "execution_count": 25,
   "metadata": {},
   "outputs": [
    {
     "name": "stdout",
     "output_type": "stream",
     "text": [
      "loaded 200 queries\n"
     ]
    },
    {
     "name": "stderr",
     "output_type": "stream",
     "text": [
      "  0%|          | 0/11 [00:00<?, ?it/s]"
     ]
    },
    {
     "name": "stdout",
     "output_type": "stream",
     "text": [
      "Encoding queries for interpolation...\n"
     ]
    },
    {
     "name": "stderr",
     "output_type": "stream",
     "text": [
      "100%|██████████| 43/43 [00:00<00:00, 44.37it/s]\n"
     ]
    },
    {
     "name": "stdout",
     "output_type": "stream",
     "text": [
      "sparse_ranking_2019 None\n",
      "Encoding queries for interpolation...\n"
     ]
    },
    {
     "name": "stderr",
     "output_type": "stream",
     "text": [
      "100%|██████████| 43/43 [00:00<00:00, 61.58it/s]\n"
     ]
    },
    {
     "name": "stdout",
     "output_type": "stream",
     "text": [
      "sparse_ranking_2019 None\n"
     ]
    },
    {
     "name": "stderr",
     "output_type": "stream",
     "text": [
      "  9%|▉         | 1/11 [00:04<00:48,  4.81s/it]"
     ]
    },
    {
     "name": "stdout",
     "output_type": "stream",
     "text": [
      "Encoding queries for interpolation...\n"
     ]
    },
    {
     "name": "stderr",
     "output_type": "stream",
     "text": [
      "100%|██████████| 43/43 [00:00<00:00, 62.15it/s]\n"
     ]
    },
    {
     "name": "stdout",
     "output_type": "stream",
     "text": [
      "sparse_ranking_2019 None\n",
      "Encoding queries for interpolation...\n"
     ]
    },
    {
     "name": "stderr",
     "output_type": "stream",
     "text": [
      "100%|██████████| 43/43 [00:00<00:00, 55.65it/s]\n"
     ]
    },
    {
     "name": "stdout",
     "output_type": "stream",
     "text": [
      "sparse_ranking_2019 None\n"
     ]
    },
    {
     "name": "stderr",
     "output_type": "stream",
     "text": [
      " 18%|█▊        | 2/11 [00:09<00:41,  4.64s/it]"
     ]
    },
    {
     "name": "stdout",
     "output_type": "stream",
     "text": [
      "Encoding queries for interpolation...\n"
     ]
    },
    {
     "name": "stderr",
     "output_type": "stream",
     "text": [
      "100%|██████████| 43/43 [00:00<00:00, 60.72it/s]\n"
     ]
    },
    {
     "name": "stdout",
     "output_type": "stream",
     "text": [
      "sparse_ranking_2019 None\n",
      "Encoding queries for interpolation...\n"
     ]
    },
    {
     "name": "stderr",
     "output_type": "stream",
     "text": [
      "100%|██████████| 43/43 [00:00<00:00, 52.33it/s]\n"
     ]
    },
    {
     "name": "stdout",
     "output_type": "stream",
     "text": [
      "sparse_ranking_2019 None\n"
     ]
    },
    {
     "name": "stderr",
     "output_type": "stream",
     "text": [
      " 27%|██▋       | 3/11 [00:13<00:37,  4.63s/it]"
     ]
    },
    {
     "name": "stdout",
     "output_type": "stream",
     "text": [
      "Encoding queries for interpolation...\n"
     ]
    },
    {
     "name": "stderr",
     "output_type": "stream",
     "text": [
      "100%|██████████| 43/43 [00:00<00:00, 55.19it/s]\n"
     ]
    },
    {
     "name": "stdout",
     "output_type": "stream",
     "text": [
      "sparse_ranking_2019 None\n",
      "Encoding queries for interpolation...\n"
     ]
    },
    {
     "name": "stderr",
     "output_type": "stream",
     "text": [
      "100%|██████████| 43/43 [00:00<00:00, 63.25it/s]\n"
     ]
    },
    {
     "name": "stdout",
     "output_type": "stream",
     "text": [
      "sparse_ranking_2019 None\n"
     ]
    },
    {
     "name": "stderr",
     "output_type": "stream",
     "text": [
      " 36%|███▋      | 4/11 [00:18<00:31,  4.57s/it]"
     ]
    },
    {
     "name": "stdout",
     "output_type": "stream",
     "text": [
      "Encoding queries for interpolation...\n"
     ]
    },
    {
     "name": "stderr",
     "output_type": "stream",
     "text": [
      "100%|██████████| 43/43 [00:00<00:00, 54.38it/s]\n"
     ]
    },
    {
     "name": "stdout",
     "output_type": "stream",
     "text": [
      "sparse_ranking_2019 None\n",
      "Encoding queries for interpolation...\n"
     ]
    },
    {
     "name": "stderr",
     "output_type": "stream",
     "text": [
      "100%|██████████| 43/43 [00:00<00:00, 49.16it/s]\n"
     ]
    },
    {
     "name": "stdout",
     "output_type": "stream",
     "text": [
      "sparse_ranking_2019 None\n"
     ]
    },
    {
     "name": "stderr",
     "output_type": "stream",
     "text": [
      " 45%|████▌     | 5/11 [00:23<00:27,  4.64s/it]"
     ]
    },
    {
     "name": "stdout",
     "output_type": "stream",
     "text": [
      "Encoding queries for interpolation...\n"
     ]
    },
    {
     "name": "stderr",
     "output_type": "stream",
     "text": [
      "100%|██████████| 43/43 [00:00<00:00, 53.27it/s]\n"
     ]
    },
    {
     "name": "stdout",
     "output_type": "stream",
     "text": [
      "sparse_ranking_2019 None\n",
      "Encoding queries for interpolation...\n"
     ]
    },
    {
     "name": "stderr",
     "output_type": "stream",
     "text": [
      "100%|██████████| 43/43 [00:00<00:00, 64.71it/s]\n"
     ]
    },
    {
     "name": "stdout",
     "output_type": "stream",
     "text": [
      "sparse_ranking_2019 None\n"
     ]
    },
    {
     "name": "stderr",
     "output_type": "stream",
     "text": [
      " 55%|█████▍    | 6/11 [00:27<00:23,  4.60s/it]"
     ]
    },
    {
     "name": "stdout",
     "output_type": "stream",
     "text": [
      "Encoding queries for interpolation...\n"
     ]
    },
    {
     "name": "stderr",
     "output_type": "stream",
     "text": [
      "100%|██████████| 43/43 [00:00<00:00, 56.65it/s]\n"
     ]
    },
    {
     "name": "stdout",
     "output_type": "stream",
     "text": [
      "sparse_ranking_2019 None\n",
      "Encoding queries for interpolation...\n"
     ]
    },
    {
     "name": "stderr",
     "output_type": "stream",
     "text": [
      "100%|██████████| 43/43 [00:01<00:00, 41.54it/s]\n"
     ]
    },
    {
     "name": "stdout",
     "output_type": "stream",
     "text": [
      "sparse_ranking_2019 None\n"
     ]
    },
    {
     "name": "stderr",
     "output_type": "stream",
     "text": [
      " 64%|██████▎   | 7/11 [00:32<00:18,  4.66s/it]"
     ]
    },
    {
     "name": "stdout",
     "output_type": "stream",
     "text": [
      "Encoding queries for interpolation...\n"
     ]
    },
    {
     "name": "stderr",
     "output_type": "stream",
     "text": [
      "100%|██████████| 43/43 [00:00<00:00, 52.84it/s]\n"
     ]
    },
    {
     "name": "stdout",
     "output_type": "stream",
     "text": [
      "sparse_ranking_2019 None\n",
      "Encoding queries for interpolation...\n"
     ]
    },
    {
     "name": "stderr",
     "output_type": "stream",
     "text": [
      "100%|██████████| 43/43 [00:00<00:00, 54.69it/s]\n"
     ]
    },
    {
     "name": "stdout",
     "output_type": "stream",
     "text": [
      "sparse_ranking_2019 None\n"
     ]
    },
    {
     "name": "stderr",
     "output_type": "stream",
     "text": [
      " 73%|███████▎  | 8/11 [00:37<00:14,  4.67s/it]"
     ]
    },
    {
     "name": "stdout",
     "output_type": "stream",
     "text": [
      "Encoding queries for interpolation...\n"
     ]
    },
    {
     "name": "stderr",
     "output_type": "stream",
     "text": [
      "100%|██████████| 43/43 [00:00<00:00, 51.29it/s]\n"
     ]
    },
    {
     "name": "stdout",
     "output_type": "stream",
     "text": [
      "sparse_ranking_2019 None\n",
      "Encoding queries for interpolation...\n"
     ]
    },
    {
     "name": "stderr",
     "output_type": "stream",
     "text": [
      "100%|██████████| 43/43 [00:00<00:00, 62.01it/s]\n"
     ]
    },
    {
     "name": "stdout",
     "output_type": "stream",
     "text": [
      "sparse_ranking_2019 None\n"
     ]
    },
    {
     "name": "stderr",
     "output_type": "stream",
     "text": [
      " 82%|████████▏ | 9/11 [00:41<00:09,  4.66s/it]"
     ]
    },
    {
     "name": "stdout",
     "output_type": "stream",
     "text": [
      "Encoding queries for interpolation...\n"
     ]
    },
    {
     "name": "stderr",
     "output_type": "stream",
     "text": [
      "100%|██████████| 43/43 [00:00<00:00, 67.34it/s]\n"
     ]
    },
    {
     "name": "stdout",
     "output_type": "stream",
     "text": [
      "sparse_ranking_2019 None\n",
      "Encoding queries for interpolation...\n"
     ]
    },
    {
     "name": "stderr",
     "output_type": "stream",
     "text": [
      "100%|██████████| 43/43 [00:00<00:00, 54.16it/s]\n"
     ]
    },
    {
     "name": "stdout",
     "output_type": "stream",
     "text": [
      "sparse_ranking_2019 None\n"
     ]
    },
    {
     "name": "stderr",
     "output_type": "stream",
     "text": [
      " 91%|█████████ | 10/11 [00:46<00:04,  4.63s/it]"
     ]
    },
    {
     "name": "stdout",
     "output_type": "stream",
     "text": [
      "Encoding queries for interpolation...\n"
     ]
    },
    {
     "name": "stderr",
     "output_type": "stream",
     "text": [
      "100%|██████████| 43/43 [00:00<00:00, 60.90it/s]\n"
     ]
    },
    {
     "name": "stdout",
     "output_type": "stream",
     "text": [
      "sparse_ranking_2019 None\n",
      "Encoding queries for interpolation...\n"
     ]
    },
    {
     "name": "stderr",
     "output_type": "stream",
     "text": [
      "100%|██████████| 43/43 [00:01<00:00, 35.03it/s]\n"
     ]
    },
    {
     "name": "stdout",
     "output_type": "stream",
     "text": [
      "sparse_ranking_2019 None\n"
     ]
    },
    {
     "name": "stderr",
     "output_type": "stream",
     "text": [
      "100%|██████████| 11/11 [00:51<00:00,  4.68s/it]\n"
     ]
    }
   ],
   "source": [
    "with open(\n",
    "    \"../testing/msmarco-test2019-queries.tsv\",\n",
    "    encoding=\"utf-8\",\n",
    "    newline=\"\"\n",
    ") as fp:\n",
    "    queries = {q_id: q for q_id, q in csv.reader(fp, delimiter=\"\\t\")}\n",
    "print(f\"loaded {len(queries)} queries\")\n",
    "\n",
    "# define dictionary to keep track of best results for tested hyperparameters\n",
    "bestHyperparams2019 = {\n",
    "    'ccUnnormalized': {'precision': {'value': -1, 'alpha': 0}, 'recall': {'value': -1, 'alpha': 0}, 'fscore': {'value': -1, 'alpha': 0}, 'rr': {'value': -1, \n",
    "'alpha': 0}, 'ndcg': {'value': -1, 'alpha': 0}, 'map': {'value': -1, 'alpha': 0}},\n",
    "    'ccNormalized': {'precision': {'value': -1, 'alpha': 0}, 'recall': {'value': -1, 'alpha': 0}, 'fscore': {'value': -1, 'alpha': 0}, 'rr': {'value': -1, \n",
    "'alpha': 0}, 'ndcg': {'value': -1, 'alpha': 0}, 'map': {'value': -1, 'alpha': 0}},\n",
    "}\n",
    "\n",
    "\n",
    "for i in tqdm(range(len(etas))):\n",
    "    alpha = alphas[i]\n",
    "    eta = etas[i]\n",
    "\n",
    "    result = in_memory_index.get_scores(\n",
    "        sparse_ranking_2019,\n",
    "        queries,\n",
    "        alpha=alpha,\n",
    "        cutoff=None,\n",
    "        early_stopping=False,\n",
    "        normalise=False\n",
    "    )\n",
    "    result3 = in_memory_index.get_scores(\n",
    "        sparse_ranking_2019,\n",
    "        queries,\n",
    "        alpha=alpha,\n",
    "        cutoff=None,\n",
    "        early_stopping=False,\n",
    "        normalise=True\n",
    "    )\n",
    "    qrels = list(read_trec_qrels(\"../testing/2019qrels-pass.txt\"))\n",
    "\n",
    "    interpolationRes = calc_aggregate([nDCG@10, RR(rel=2)@10,P(rel=2)@10,R(rel=2)@10, AP(rel=2)@10], qrels, result[alpha].run)\n",
    "    fscoreInterpolationRes = (2*interpolationRes[P(rel=2)@10]*interpolationRes[R(rel=2)@10])/(interpolationRes[P(rel=2)@10]+interpolationRes[R(rel=2)@10])\n",
    "\n",
    "    interpolationMinMax = calc_aggregate([nDCG@10, RR(rel=2)@10,P(rel=2)@10,R(rel=2)@10, AP(rel=2)@10], qrels, result3[alpha].run)\n",
    "    fscoreInterpolationMinMax = (2*interpolationMinMax[P(rel=2)@10]*interpolationMinMax[R(rel=2)@10])/(interpolationMinMax[P(rel=2)@10]+interpolationMinMax[R(rel=2)@10])\n",
    "\n",
    "    # update dictionary of best parameters per method\n",
    "    if interpolationRes[P(rel=2)@10] > bestHyperparams2019['ccUnnormalized']['precision']['value']:\n",
    "        bestHyperparams2019['ccUnnormalized']['precision']['value'] = interpolationRes[P(rel=2)@10]\n",
    "        bestHyperparams2019['ccUnnormalized']['precision']['alpha'] = alpha\n",
    "\n",
    "    if interpolationRes[R(rel=2)@10] > bestHyperparams2019['ccUnnormalized']['recall']['value']:\n",
    "        bestHyperparams2019['ccUnnormalized']['recall']['value'] = interpolationRes[R(rel=2)@10]\n",
    "        bestHyperparams2019['ccUnnormalized']['recall']['alpha'] = alpha\n",
    "\n",
    "    if interpolationRes[nDCG@10] > bestHyperparams2019['ccUnnormalized']['ndcg']['value']:\n",
    "        bestHyperparams2019['ccUnnormalized']['ndcg']['value'] = interpolationRes[nDCG@10]\n",
    "        bestHyperparams2019['ccUnnormalized']['ndcg']['alpha'] = alpha\n",
    "\n",
    "    if interpolationRes[RR(rel=2)@10] > bestHyperparams2019['ccUnnormalized']['rr']['value']:\n",
    "        bestHyperparams2019['ccUnnormalized']['rr']['value'] = interpolationRes[RR(rel=2)@10]\n",
    "        bestHyperparams2019['ccUnnormalized']['rr']['alpha'] = alpha\n",
    "\n",
    "    if interpolationRes[AP(rel=2)@10] > bestHyperparams2019['ccUnnormalized']['map']['value']:\n",
    "        bestHyperparams2019['ccUnnormalized']['map']['value'] = interpolationRes[AP(rel=2)@10]\n",
    "        bestHyperparams2019['ccUnnormalized']['map']['alpha'] = alpha\n",
    "    \n",
    "    if fscoreInterpolationRes > bestHyperparams2019['ccUnnormalized']['fscore']['value']:\n",
    "        bestHyperparams2019['ccUnnormalized']['fscore']['value'] = fscoreInterpolationRes\n",
    "        bestHyperparams2019['ccUnnormalized']['fscore']['alpha'] = alpha\n",
    "    \n",
    "    if interpolationMinMax[P(rel=2)@10] > bestHyperparams2019['ccNormalized']['precision']['value']:\n",
    "        bestHyperparams2019['ccNormalized']['precision']['value'] = interpolationMinMax[P(rel=2)@10]\n",
    "        bestHyperparams2019['ccNormalized']['precision']['alpha'] = alpha\n",
    "\n",
    "    if interpolationMinMax[R(rel=2)@10] > bestHyperparams2019['ccNormalized']['recall']['value']:\n",
    "        bestHyperparams2019['ccNormalized']['recall']['value'] = interpolationMinMax[R(rel=2)@10]\n",
    "        bestHyperparams2019['ccNormalized']['recall']['alpha'] = alpha\n",
    "\n",
    "    if interpolationMinMax[nDCG@10] > bestHyperparams2019['ccNormalized']['ndcg']['value']:\n",
    "        bestHyperparams2019['ccNormalized']['ndcg']['value'] = interpolationMinMax[nDCG@10]\n",
    "        bestHyperparams2019['ccNormalized']['ndcg']['alpha'] = alpha\n",
    "\n",
    "    if interpolationMinMax[RR(rel=2)@10] > bestHyperparams2019['ccNormalized']['rr']['value']:\n",
    "        bestHyperparams2019['ccNormalized']['rr']['value'] = interpolationMinMax[RR(rel=2)@10]\n",
    "        bestHyperparams2019['ccNormalized']['rr']['alpha'] = alpha\n",
    "    \n",
    "    if fscoreInterpolationMinMax > bestHyperparams2019['ccNormalized']['fscore']['value']:\n",
    "        bestHyperparams2019['ccNormalized']['fscore']['value'] = fscoreInterpolationMinMax\n",
    "        bestHyperparams2019['ccNormalized']['fscore']['alpha'] = alpha\n",
    "    \n",
    "    if interpolationMinMax[AP(rel=2)@10] > bestHyperparams2019['ccNormalized']['map']['value']:\n",
    "        bestHyperparams2019['ccNormalized']['map']['value'] = interpolationMinMax[AP(rel=2)@10]\n",
    "        bestHyperparams2019['ccNormalized']['map']['alpha'] = alpha\n"
   ]
  },
  {
   "cell_type": "code",
   "execution_count": 26,
   "metadata": {},
   "outputs": [
    {
     "name": "stdout",
     "output_type": "stream",
     "text": [
      "{'precision': {'value': 0.6348837209302324, 'alpha': 0.2}, 'recall': {'value': 0.2719114158943346, 'alpha': 0.1}, 'fscore': {'value': 0.38033293287532133, 'alpha': 0.1}, 'rr': {'value': 0.9085271317829459, 'alpha': 0.3}, 'ndcg': {'value': 0.7229942609361282, 'alpha': 0.2}, 'map': {'value': 0.2130699577564767, 'alpha': 0.2}}\n",
      "{'precision': {'value': 0.6279069767441859, 'alpha': 0.1}, 'recall': {'value': 0.27300662836997697, 'alpha': 0.2}, 'fscore': {'value': 0.3796945188026042, 'alpha': 0.2}, 'rr': {'value': 0.901937984496124, 'alpha': 0.2}, 'ndcg': {'value': 0.7165204423861107, 'alpha': 0.1}, 'map': {'value': 0.21189662633253065, 'alpha': 0.1}}\n"
     ]
    }
   ],
   "source": [
    "print(bestHyperparams2019['ccNormalized'])\n",
    "print(bestHyperparams2019['ccUnnormalized'])"
   ]
  },
  {
   "cell_type": "code",
   "execution_count": null,
   "metadata": {},
   "outputs": [
    {
     "name": "stdout",
     "output_type": "stream",
     "text": [
      "loaded 200 queries\n"
     ]
    },
    {
     "name": "stderr",
     "output_type": "stream",
     "text": [
      "  0%|          | 0/11 [00:00<?, ?it/s]"
     ]
    },
    {
     "name": "stdout",
     "output_type": "stream",
     "text": [
      "Encoding queries for RRF...\n"
     ]
    },
    {
     "name": "stderr",
     "output_type": "stream",
     "text": [
      "100%|██████████| 43/43 [00:00<00:00, 52.52it/s]\n"
     ]
    },
    {
     "name": "stdout",
     "output_type": "stream",
     "text": [
      "Encoding queries for RRF...\n"
     ]
    },
    {
     "name": "stderr",
     "output_type": "stream",
     "text": [
      "100%|██████████| 43/43 [00:00<00:00, 79.33it/s]\n"
     ]
    },
    {
     "name": "stdout",
     "output_type": "stream",
     "text": [
      "Encoding queries for RRF...\n"
     ]
    },
    {
     "name": "stderr",
     "output_type": "stream",
     "text": [
      "100%|██████████| 43/43 [00:00<00:00, 76.34it/s]\n"
     ]
    },
    {
     "name": "stdout",
     "output_type": "stream",
     "text": [
      "Encoding queries for RRF...\n"
     ]
    },
    {
     "name": "stderr",
     "output_type": "stream",
     "text": [
      "100%|██████████| 43/43 [00:00<00:00, 58.37it/s]\n"
     ]
    },
    {
     "name": "stdout",
     "output_type": "stream",
     "text": [
      "Encoding queries for RRF...\n"
     ]
    },
    {
     "name": "stderr",
     "output_type": "stream",
     "text": [
      "100%|██████████| 43/43 [00:00<00:00, 59.35it/s]\n"
     ]
    },
    {
     "name": "stdout",
     "output_type": "stream",
     "text": [
      "Encoding queries for RRF...\n"
     ]
    },
    {
     "name": "stderr",
     "output_type": "stream",
     "text": [
      "100%|██████████| 43/43 [00:00<00:00, 87.86it/s]\n"
     ]
    },
    {
     "name": "stdout",
     "output_type": "stream",
     "text": [
      "Encoding queries for RRF...\n"
     ]
    },
    {
     "name": "stderr",
     "output_type": "stream",
     "text": [
      "100%|██████████| 43/43 [00:00<00:00, 83.16it/s]\n"
     ]
    },
    {
     "name": "stdout",
     "output_type": "stream",
     "text": [
      "Encoding queries for RRF...\n"
     ]
    },
    {
     "name": "stderr",
     "output_type": "stream",
     "text": [
      "100%|██████████| 43/43 [00:00<00:00, 68.02it/s]\n"
     ]
    },
    {
     "name": "stdout",
     "output_type": "stream",
     "text": [
      "Encoding queries for RRF...\n"
     ]
    },
    {
     "name": "stderr",
     "output_type": "stream",
     "text": [
      "100%|██████████| 43/43 [00:00<00:00, 63.17it/s]\n"
     ]
    },
    {
     "name": "stdout",
     "output_type": "stream",
     "text": [
      "Encoding queries for RRF...\n"
     ]
    },
    {
     "name": "stderr",
     "output_type": "stream",
     "text": [
      "100%|██████████| 43/43 [00:00<00:00, 71.69it/s]\n"
     ]
    },
    {
     "name": "stdout",
     "output_type": "stream",
     "text": [
      "Encoding queries for RRF...\n"
     ]
    },
    {
     "name": "stderr",
     "output_type": "stream",
     "text": [
      "100%|██████████| 43/43 [00:00<00:00, 78.03it/s]\n",
      "  9%|▉         | 1/11 [03:43<37:10, 223.01s/it]"
     ]
    },
    {
     "name": "stdout",
     "output_type": "stream",
     "text": [
      "Encoding queries for RRF...\n"
     ]
    },
    {
     "name": "stderr",
     "output_type": "stream",
     "text": [
      "100%|██████████| 43/43 [00:00<00:00, 81.74it/s]\n"
     ]
    },
    {
     "name": "stdout",
     "output_type": "stream",
     "text": [
      "Encoding queries for RRF...\n"
     ]
    },
    {
     "name": "stderr",
     "output_type": "stream",
     "text": [
      "100%|██████████| 43/43 [00:00<00:00, 83.18it/s]\n"
     ]
    },
    {
     "name": "stdout",
     "output_type": "stream",
     "text": [
      "Encoding queries for RRF...\n"
     ]
    },
    {
     "name": "stderr",
     "output_type": "stream",
     "text": [
      "100%|██████████| 43/43 [00:00<00:00, 58.32it/s]\n"
     ]
    },
    {
     "name": "stdout",
     "output_type": "stream",
     "text": [
      "Encoding queries for RRF...\n"
     ]
    },
    {
     "name": "stderr",
     "output_type": "stream",
     "text": [
      "100%|██████████| 43/43 [00:00<00:00, 72.24it/s]\n"
     ]
    },
    {
     "name": "stdout",
     "output_type": "stream",
     "text": [
      "Encoding queries for RRF...\n"
     ]
    },
    {
     "name": "stderr",
     "output_type": "stream",
     "text": [
      "100%|██████████| 43/43 [00:00<00:00, 69.26it/s]\n"
     ]
    },
    {
     "name": "stdout",
     "output_type": "stream",
     "text": [
      "Encoding queries for RRF...\n"
     ]
    },
    {
     "name": "stderr",
     "output_type": "stream",
     "text": [
      "100%|██████████| 43/43 [00:00<00:00, 87.99it/s]\n"
     ]
    },
    {
     "name": "stdout",
     "output_type": "stream",
     "text": [
      "Encoding queries for RRF...\n"
     ]
    },
    {
     "name": "stderr",
     "output_type": "stream",
     "text": [
      "100%|██████████| 43/43 [00:00<00:00, 75.37it/s]\n"
     ]
    },
    {
     "name": "stdout",
     "output_type": "stream",
     "text": [
      "Encoding queries for RRF...\n"
     ]
    },
    {
     "name": "stderr",
     "output_type": "stream",
     "text": [
      "100%|██████████| 43/43 [00:00<00:00, 86.58it/s]\n"
     ]
    },
    {
     "name": "stdout",
     "output_type": "stream",
     "text": [
      "Encoding queries for RRF...\n"
     ]
    },
    {
     "name": "stderr",
     "output_type": "stream",
     "text": [
      "100%|██████████| 43/43 [00:00<00:00, 77.17it/s]\n"
     ]
    },
    {
     "name": "stdout",
     "output_type": "stream",
     "text": [
      "Encoding queries for RRF...\n"
     ]
    },
    {
     "name": "stderr",
     "output_type": "stream",
     "text": [
      "100%|██████████| 43/43 [00:00<00:00, 82.39it/s]\n"
     ]
    },
    {
     "name": "stdout",
     "output_type": "stream",
     "text": [
      "Encoding queries for RRF...\n"
     ]
    },
    {
     "name": "stderr",
     "output_type": "stream",
     "text": [
      "100%|██████████| 43/43 [00:00<00:00, 74.79it/s]\n",
      " 18%|█▊        | 2/11 [07:24<33:18, 222.03s/it]"
     ]
    },
    {
     "name": "stdout",
     "output_type": "stream",
     "text": [
      "Encoding queries for RRF...\n"
     ]
    },
    {
     "name": "stderr",
     "output_type": "stream",
     "text": [
      "100%|██████████| 43/43 [00:00<00:00, 66.68it/s]\n"
     ]
    },
    {
     "name": "stdout",
     "output_type": "stream",
     "text": [
      "Encoding queries for RRF...\n"
     ]
    },
    {
     "name": "stderr",
     "output_type": "stream",
     "text": [
      "100%|██████████| 43/43 [00:00<00:00, 61.53it/s]\n"
     ]
    },
    {
     "name": "stdout",
     "output_type": "stream",
     "text": [
      "Encoding queries for RRF...\n"
     ]
    },
    {
     "name": "stderr",
     "output_type": "stream",
     "text": [
      "100%|██████████| 43/43 [00:00<00:00, 86.24it/s]\n"
     ]
    },
    {
     "name": "stdout",
     "output_type": "stream",
     "text": [
      "Encoding queries for RRF...\n"
     ]
    },
    {
     "name": "stderr",
     "output_type": "stream",
     "text": [
      "100%|██████████| 43/43 [00:00<00:00, 74.96it/s]\n"
     ]
    },
    {
     "name": "stdout",
     "output_type": "stream",
     "text": [
      "Encoding queries for RRF...\n"
     ]
    },
    {
     "name": "stderr",
     "output_type": "stream",
     "text": [
      "100%|██████████| 43/43 [00:00<00:00, 76.97it/s]\n"
     ]
    },
    {
     "name": "stdout",
     "output_type": "stream",
     "text": [
      "Encoding queries for RRF...\n"
     ]
    },
    {
     "name": "stderr",
     "output_type": "stream",
     "text": [
      "100%|██████████| 43/43 [00:00<00:00, 78.24it/s]\n"
     ]
    },
    {
     "name": "stdout",
     "output_type": "stream",
     "text": [
      "Encoding queries for RRF...\n"
     ]
    },
    {
     "name": "stderr",
     "output_type": "stream",
     "text": [
      "100%|██████████| 43/43 [00:00<00:00, 85.33it/s]\n"
     ]
    },
    {
     "name": "stdout",
     "output_type": "stream",
     "text": [
      "Encoding queries for RRF...\n"
     ]
    },
    {
     "name": "stderr",
     "output_type": "stream",
     "text": [
      "100%|██████████| 43/43 [00:00<00:00, 72.18it/s]\n"
     ]
    },
    {
     "name": "stdout",
     "output_type": "stream",
     "text": [
      "Encoding queries for RRF...\n"
     ]
    },
    {
     "name": "stderr",
     "output_type": "stream",
     "text": [
      "100%|██████████| 43/43 [00:00<00:00, 83.98it/s]\n"
     ]
    },
    {
     "name": "stdout",
     "output_type": "stream",
     "text": [
      "Encoding queries for RRF...\n"
     ]
    },
    {
     "name": "stderr",
     "output_type": "stream",
     "text": [
      "100%|██████████| 43/43 [00:00<00:00, 76.20it/s]\n"
     ]
    },
    {
     "name": "stdout",
     "output_type": "stream",
     "text": [
      "Encoding queries for RRF...\n"
     ]
    },
    {
     "name": "stderr",
     "output_type": "stream",
     "text": [
      "100%|██████████| 43/43 [00:00<00:00, 82.58it/s]\n",
      " 27%|██▋       | 3/11 [11:07<29:38, 222.32s/it]"
     ]
    },
    {
     "name": "stdout",
     "output_type": "stream",
     "text": [
      "Encoding queries for RRF...\n"
     ]
    },
    {
     "name": "stderr",
     "output_type": "stream",
     "text": [
      "100%|██████████| 43/43 [00:00<00:00, 83.66it/s]\n"
     ]
    },
    {
     "name": "stdout",
     "output_type": "stream",
     "text": [
      "Encoding queries for RRF...\n"
     ]
    },
    {
     "name": "stderr",
     "output_type": "stream",
     "text": [
      "100%|██████████| 43/43 [00:00<00:00, 74.17it/s]\n"
     ]
    },
    {
     "name": "stdout",
     "output_type": "stream",
     "text": [
      "Encoding queries for RRF...\n"
     ]
    },
    {
     "name": "stderr",
     "output_type": "stream",
     "text": [
      "100%|██████████| 43/43 [00:00<00:00, 61.09it/s]\n"
     ]
    },
    {
     "name": "stdout",
     "output_type": "stream",
     "text": [
      "Encoding queries for RRF...\n"
     ]
    },
    {
     "name": "stderr",
     "output_type": "stream",
     "text": [
      "100%|██████████| 43/43 [00:00<00:00, 89.20it/s]\n"
     ]
    },
    {
     "name": "stdout",
     "output_type": "stream",
     "text": [
      "Encoding queries for RRF...\n"
     ]
    },
    {
     "name": "stderr",
     "output_type": "stream",
     "text": [
      "100%|██████████| 43/43 [00:00<00:00, 70.71it/s]\n"
     ]
    },
    {
     "name": "stdout",
     "output_type": "stream",
     "text": [
      "Encoding queries for RRF...\n"
     ]
    },
    {
     "name": "stderr",
     "output_type": "stream",
     "text": [
      "100%|██████████| 43/43 [00:00<00:00, 67.68it/s]\n"
     ]
    },
    {
     "name": "stdout",
     "output_type": "stream",
     "text": [
      "Encoding queries for RRF...\n"
     ]
    },
    {
     "name": "stderr",
     "output_type": "stream",
     "text": [
      "100%|██████████| 43/43 [00:00<00:00, 62.15it/s]\n"
     ]
    },
    {
     "name": "stdout",
     "output_type": "stream",
     "text": [
      "Encoding queries for RRF...\n"
     ]
    },
    {
     "name": "stderr",
     "output_type": "stream",
     "text": [
      "100%|██████████| 43/43 [00:00<00:00, 75.77it/s]\n"
     ]
    },
    {
     "name": "stdout",
     "output_type": "stream",
     "text": [
      "Encoding queries for RRF...\n"
     ]
    },
    {
     "name": "stderr",
     "output_type": "stream",
     "text": [
      "100%|██████████| 43/43 [00:00<00:00, 68.19it/s]\n"
     ]
    },
    {
     "name": "stdout",
     "output_type": "stream",
     "text": [
      "Encoding queries for RRF...\n"
     ]
    },
    {
     "name": "stderr",
     "output_type": "stream",
     "text": [
      "100%|██████████| 43/43 [00:00<00:00, 55.50it/s]\n"
     ]
    },
    {
     "name": "stdout",
     "output_type": "stream",
     "text": [
      "Encoding queries for RRF...\n"
     ]
    },
    {
     "name": "stderr",
     "output_type": "stream",
     "text": [
      "100%|██████████| 43/43 [00:00<00:00, 70.40it/s]\n",
      " 36%|███▋      | 4/11 [14:49<25:57, 222.44s/it]"
     ]
    },
    {
     "name": "stdout",
     "output_type": "stream",
     "text": [
      "Encoding queries for RRF...\n"
     ]
    },
    {
     "name": "stderr",
     "output_type": "stream",
     "text": [
      "100%|██████████| 43/43 [00:00<00:00, 82.03it/s]\n"
     ]
    },
    {
     "name": "stdout",
     "output_type": "stream",
     "text": [
      "Encoding queries for RRF...\n"
     ]
    },
    {
     "name": "stderr",
     "output_type": "stream",
     "text": [
      "100%|██████████| 43/43 [00:00<00:00, 69.50it/s]\n"
     ]
    },
    {
     "name": "stdout",
     "output_type": "stream",
     "text": [
      "Encoding queries for RRF...\n"
     ]
    },
    {
     "name": "stderr",
     "output_type": "stream",
     "text": [
      "100%|██████████| 43/43 [00:00<00:00, 75.33it/s]\n"
     ]
    },
    {
     "name": "stdout",
     "output_type": "stream",
     "text": [
      "Encoding queries for RRF...\n"
     ]
    },
    {
     "name": "stderr",
     "output_type": "stream",
     "text": [
      "100%|██████████| 43/43 [00:00<00:00, 54.86it/s]\n"
     ]
    },
    {
     "name": "stdout",
     "output_type": "stream",
     "text": [
      "Encoding queries for RRF...\n"
     ]
    },
    {
     "name": "stderr",
     "output_type": "stream",
     "text": [
      "100%|██████████| 43/43 [00:00<00:00, 77.44it/s]\n"
     ]
    },
    {
     "name": "stdout",
     "output_type": "stream",
     "text": [
      "Encoding queries for RRF...\n"
     ]
    },
    {
     "name": "stderr",
     "output_type": "stream",
     "text": [
      "100%|██████████| 43/43 [00:00<00:00, 79.57it/s]\n"
     ]
    },
    {
     "name": "stdout",
     "output_type": "stream",
     "text": [
      "Encoding queries for RRF...\n"
     ]
    },
    {
     "name": "stderr",
     "output_type": "stream",
     "text": [
      "100%|██████████| 43/43 [00:00<00:00, 80.14it/s]\n"
     ]
    },
    {
     "name": "stdout",
     "output_type": "stream",
     "text": [
      "Encoding queries for RRF...\n"
     ]
    },
    {
     "name": "stderr",
     "output_type": "stream",
     "text": [
      "100%|██████████| 43/43 [00:00<00:00, 68.32it/s]\n"
     ]
    },
    {
     "name": "stdout",
     "output_type": "stream",
     "text": [
      "Encoding queries for RRF...\n"
     ]
    },
    {
     "name": "stderr",
     "output_type": "stream",
     "text": [
      "100%|██████████| 43/43 [00:00<00:00, 78.27it/s]\n"
     ]
    },
    {
     "name": "stdout",
     "output_type": "stream",
     "text": [
      "Encoding queries for RRF...\n"
     ]
    },
    {
     "name": "stderr",
     "output_type": "stream",
     "text": [
      "100%|██████████| 43/43 [00:00<00:00, 65.28it/s]\n"
     ]
    },
    {
     "name": "stdout",
     "output_type": "stream",
     "text": [
      "Encoding queries for RRF...\n"
     ]
    },
    {
     "name": "stderr",
     "output_type": "stream",
     "text": [
      "100%|██████████| 43/43 [00:00<00:00, 78.28it/s]\n",
      " 45%|████▌     | 5/11 [18:32<22:14, 222.41s/it]"
     ]
    },
    {
     "name": "stdout",
     "output_type": "stream",
     "text": [
      "Encoding queries for RRF...\n"
     ]
    },
    {
     "name": "stderr",
     "output_type": "stream",
     "text": [
      "100%|██████████| 43/43 [00:00<00:00, 78.28it/s]\n"
     ]
    },
    {
     "name": "stdout",
     "output_type": "stream",
     "text": [
      "Encoding queries for RRF...\n"
     ]
    },
    {
     "name": "stderr",
     "output_type": "stream",
     "text": [
      "100%|██████████| 43/43 [00:00<00:00, 68.89it/s]\n"
     ]
    },
    {
     "name": "stdout",
     "output_type": "stream",
     "text": [
      "Encoding queries for RRF...\n"
     ]
    },
    {
     "name": "stderr",
     "output_type": "stream",
     "text": [
      "100%|██████████| 43/43 [00:00<00:00, 44.60it/s]\n"
     ]
    },
    {
     "name": "stdout",
     "output_type": "stream",
     "text": [
      "Encoding queries for RRF...\n"
     ]
    },
    {
     "name": "stderr",
     "output_type": "stream",
     "text": [
      "100%|██████████| 43/43 [00:00<00:00, 68.90it/s]\n"
     ]
    },
    {
     "name": "stdout",
     "output_type": "stream",
     "text": [
      "Encoding queries for RRF...\n"
     ]
    },
    {
     "name": "stderr",
     "output_type": "stream",
     "text": [
      "100%|██████████| 43/43 [00:00<00:00, 68.45it/s]\n"
     ]
    },
    {
     "name": "stdout",
     "output_type": "stream",
     "text": [
      "Encoding queries for RRF...\n"
     ]
    },
    {
     "name": "stderr",
     "output_type": "stream",
     "text": [
      "100%|██████████| 43/43 [00:00<00:00, 89.13it/s]\n"
     ]
    },
    {
     "name": "stdout",
     "output_type": "stream",
     "text": [
      "Encoding queries for RRF...\n"
     ]
    },
    {
     "name": "stderr",
     "output_type": "stream",
     "text": [
      "100%|██████████| 43/43 [00:00<00:00, 75.40it/s]\n"
     ]
    },
    {
     "name": "stdout",
     "output_type": "stream",
     "text": [
      "Encoding queries for RRF...\n"
     ]
    },
    {
     "name": "stderr",
     "output_type": "stream",
     "text": [
      "100%|██████████| 43/43 [00:00<00:00, 81.16it/s]\n"
     ]
    },
    {
     "name": "stdout",
     "output_type": "stream",
     "text": [
      "Encoding queries for RRF...\n"
     ]
    },
    {
     "name": "stderr",
     "output_type": "stream",
     "text": [
      "100%|██████████| 43/43 [00:00<00:00, 77.62it/s]\n"
     ]
    },
    {
     "name": "stdout",
     "output_type": "stream",
     "text": [
      "Encoding queries for RRF...\n"
     ]
    },
    {
     "name": "stderr",
     "output_type": "stream",
     "text": [
      "100%|██████████| 43/43 [00:00<00:00, 77.54it/s]\n"
     ]
    },
    {
     "name": "stdout",
     "output_type": "stream",
     "text": [
      "Encoding queries for RRF...\n"
     ]
    },
    {
     "name": "stderr",
     "output_type": "stream",
     "text": [
      "100%|██████████| 43/43 [00:00<00:00, 67.68it/s]\n",
      " 55%|█████▍    | 6/11 [22:15<18:33, 222.66s/it]"
     ]
    },
    {
     "name": "stdout",
     "output_type": "stream",
     "text": [
      "Encoding queries for RRF...\n"
     ]
    },
    {
     "name": "stderr",
     "output_type": "stream",
     "text": [
      "100%|██████████| 43/43 [00:00<00:00, 77.18it/s]\n"
     ]
    },
    {
     "name": "stdout",
     "output_type": "stream",
     "text": [
      "Encoding queries for RRF...\n"
     ]
    },
    {
     "name": "stderr",
     "output_type": "stream",
     "text": [
      "100%|██████████| 43/43 [00:00<00:00, 88.05it/s]\n"
     ]
    },
    {
     "name": "stdout",
     "output_type": "stream",
     "text": [
      "Encoding queries for RRF...\n"
     ]
    },
    {
     "name": "stderr",
     "output_type": "stream",
     "text": [
      "100%|██████████| 43/43 [00:00<00:00, 78.21it/s]\n"
     ]
    },
    {
     "name": "stdout",
     "output_type": "stream",
     "text": [
      "Encoding queries for RRF...\n"
     ]
    },
    {
     "name": "stderr",
     "output_type": "stream",
     "text": [
      "100%|██████████| 43/43 [00:00<00:00, 68.82it/s]\n"
     ]
    },
    {
     "name": "stdout",
     "output_type": "stream",
     "text": [
      "Encoding queries for RRF...\n"
     ]
    },
    {
     "name": "stderr",
     "output_type": "stream",
     "text": [
      "100%|██████████| 43/43 [00:00<00:00, 75.38it/s]\n"
     ]
    },
    {
     "name": "stdout",
     "output_type": "stream",
     "text": [
      "Encoding queries for RRF...\n"
     ]
    },
    {
     "name": "stderr",
     "output_type": "stream",
     "text": [
      "100%|██████████| 43/43 [00:00<00:00, 84.69it/s]\n"
     ]
    },
    {
     "name": "stdout",
     "output_type": "stream",
     "text": [
      "Encoding queries for RRF...\n"
     ]
    },
    {
     "name": "stderr",
     "output_type": "stream",
     "text": [
      "100%|██████████| 43/43 [00:00<00:00, 70.34it/s]\n"
     ]
    },
    {
     "name": "stdout",
     "output_type": "stream",
     "text": [
      "Encoding queries for RRF...\n"
     ]
    },
    {
     "name": "stderr",
     "output_type": "stream",
     "text": [
      "100%|██████████| 43/43 [00:00<00:00, 69.57it/s]\n"
     ]
    },
    {
     "name": "stdout",
     "output_type": "stream",
     "text": [
      "Encoding queries for RRF...\n"
     ]
    },
    {
     "name": "stderr",
     "output_type": "stream",
     "text": [
      "100%|██████████| 43/43 [00:00<00:00, 78.76it/s]\n"
     ]
    },
    {
     "name": "stdout",
     "output_type": "stream",
     "text": [
      "Encoding queries for RRF...\n"
     ]
    },
    {
     "name": "stderr",
     "output_type": "stream",
     "text": [
      "100%|██████████| 43/43 [00:00<00:00, 62.41it/s]\n"
     ]
    },
    {
     "name": "stdout",
     "output_type": "stream",
     "text": [
      "Encoding queries for RRF...\n"
     ]
    },
    {
     "name": "stderr",
     "output_type": "stream",
     "text": [
      "100%|██████████| 43/43 [00:00<00:00, 79.77it/s]\n",
      " 64%|██████▎   | 7/11 [25:56<14:49, 222.27s/it]"
     ]
    },
    {
     "name": "stdout",
     "output_type": "stream",
     "text": [
      "Encoding queries for RRF...\n"
     ]
    },
    {
     "name": "stderr",
     "output_type": "stream",
     "text": [
      "100%|██████████| 43/43 [00:00<00:00, 80.77it/s]\n"
     ]
    },
    {
     "name": "stdout",
     "output_type": "stream",
     "text": [
      "Encoding queries for RRF...\n"
     ]
    },
    {
     "name": "stderr",
     "output_type": "stream",
     "text": [
      "100%|██████████| 43/43 [00:00<00:00, 78.44it/s]\n"
     ]
    },
    {
     "name": "stdout",
     "output_type": "stream",
     "text": [
      "Encoding queries for RRF...\n"
     ]
    },
    {
     "name": "stderr",
     "output_type": "stream",
     "text": [
      "100%|██████████| 43/43 [00:00<00:00, 75.21it/s]\n"
     ]
    },
    {
     "name": "stdout",
     "output_type": "stream",
     "text": [
      "Encoding queries for RRF...\n"
     ]
    },
    {
     "name": "stderr",
     "output_type": "stream",
     "text": [
      "100%|██████████| 43/43 [00:00<00:00, 77.50it/s]\n"
     ]
    },
    {
     "name": "stdout",
     "output_type": "stream",
     "text": [
      "Encoding queries for RRF...\n"
     ]
    },
    {
     "name": "stderr",
     "output_type": "stream",
     "text": [
      "100%|██████████| 43/43 [00:00<00:00, 66.26it/s]\n"
     ]
    },
    {
     "name": "stdout",
     "output_type": "stream",
     "text": [
      "Encoding queries for RRF...\n"
     ]
    },
    {
     "name": "stderr",
     "output_type": "stream",
     "text": [
      "100%|██████████| 43/43 [00:00<00:00, 83.44it/s]\n"
     ]
    },
    {
     "name": "stdout",
     "output_type": "stream",
     "text": [
      "Encoding queries for RRF...\n"
     ]
    },
    {
     "name": "stderr",
     "output_type": "stream",
     "text": [
      "100%|██████████| 43/43 [00:00<00:00, 63.70it/s]\n"
     ]
    },
    {
     "name": "stdout",
     "output_type": "stream",
     "text": [
      "Encoding queries for RRF...\n"
     ]
    },
    {
     "name": "stderr",
     "output_type": "stream",
     "text": [
      "100%|██████████| 43/43 [00:00<00:00, 71.69it/s]\n"
     ]
    },
    {
     "name": "stdout",
     "output_type": "stream",
     "text": [
      "Encoding queries for RRF...\n"
     ]
    },
    {
     "name": "stderr",
     "output_type": "stream",
     "text": [
      "100%|██████████| 43/43 [00:00<00:00, 62.75it/s]\n"
     ]
    },
    {
     "name": "stdout",
     "output_type": "stream",
     "text": [
      "Encoding queries for RRF...\n"
     ]
    },
    {
     "name": "stderr",
     "output_type": "stream",
     "text": [
      "100%|██████████| 43/43 [00:00<00:00, 71.50it/s]\n"
     ]
    },
    {
     "name": "stdout",
     "output_type": "stream",
     "text": [
      "Encoding queries for RRF...\n"
     ]
    },
    {
     "name": "stderr",
     "output_type": "stream",
     "text": [
      "100%|██████████| 43/43 [00:00<00:00, 76.55it/s]\n",
      " 73%|███████▎  | 8/11 [29:37<11:05, 221.95s/it]"
     ]
    },
    {
     "name": "stdout",
     "output_type": "stream",
     "text": [
      "Encoding queries for RRF...\n"
     ]
    },
    {
     "name": "stderr",
     "output_type": "stream",
     "text": [
      "100%|██████████| 43/43 [00:00<00:00, 78.72it/s]\n"
     ]
    },
    {
     "name": "stdout",
     "output_type": "stream",
     "text": [
      "Encoding queries for RRF...\n"
     ]
    },
    {
     "name": "stderr",
     "output_type": "stream",
     "text": [
      "100%|██████████| 43/43 [00:00<00:00, 81.69it/s]\n"
     ]
    },
    {
     "name": "stdout",
     "output_type": "stream",
     "text": [
      "Encoding queries for RRF...\n"
     ]
    },
    {
     "name": "stderr",
     "output_type": "stream",
     "text": [
      "100%|██████████| 43/43 [00:00<00:00, 87.02it/s]\n"
     ]
    },
    {
     "name": "stdout",
     "output_type": "stream",
     "text": [
      "Encoding queries for RRF...\n"
     ]
    },
    {
     "name": "stderr",
     "output_type": "stream",
     "text": [
      "100%|██████████| 43/43 [00:00<00:00, 90.90it/s]\n"
     ]
    },
    {
     "name": "stdout",
     "output_type": "stream",
     "text": [
      "Encoding queries for RRF...\n"
     ]
    },
    {
     "name": "stderr",
     "output_type": "stream",
     "text": [
      "100%|██████████| 43/43 [00:00<00:00, 90.06it/s]\n"
     ]
    },
    {
     "name": "stdout",
     "output_type": "stream",
     "text": [
      "Encoding queries for RRF...\n"
     ]
    },
    {
     "name": "stderr",
     "output_type": "stream",
     "text": [
      "100%|██████████| 43/43 [00:00<00:00, 67.32it/s]\n"
     ]
    },
    {
     "name": "stdout",
     "output_type": "stream",
     "text": [
      "Encoding queries for RRF...\n"
     ]
    },
    {
     "name": "stderr",
     "output_type": "stream",
     "text": [
      "100%|██████████| 43/43 [00:00<00:00, 65.44it/s]\n"
     ]
    },
    {
     "name": "stdout",
     "output_type": "stream",
     "text": [
      "Encoding queries for RRF...\n"
     ]
    },
    {
     "name": "stderr",
     "output_type": "stream",
     "text": [
      "100%|██████████| 43/43 [00:00<00:00, 90.25it/s]\n"
     ]
    },
    {
     "name": "stdout",
     "output_type": "stream",
     "text": [
      "Encoding queries for RRF...\n"
     ]
    },
    {
     "name": "stderr",
     "output_type": "stream",
     "text": [
      "100%|██████████| 43/43 [00:00<00:00, 96.68it/s]\n"
     ]
    },
    {
     "name": "stdout",
     "output_type": "stream",
     "text": [
      "Encoding queries for RRF...\n"
     ]
    },
    {
     "name": "stderr",
     "output_type": "stream",
     "text": [
      "100%|██████████| 43/43 [00:00<00:00, 77.02it/s]\n"
     ]
    },
    {
     "name": "stdout",
     "output_type": "stream",
     "text": [
      "Encoding queries for RRF...\n"
     ]
    },
    {
     "name": "stderr",
     "output_type": "stream",
     "text": [
      "100%|██████████| 43/43 [00:00<00:00, 78.61it/s]\n",
      " 82%|████████▏ | 9/11 [33:18<07:22, 221.50s/it]"
     ]
    },
    {
     "name": "stdout",
     "output_type": "stream",
     "text": [
      "Encoding queries for RRF...\n"
     ]
    },
    {
     "name": "stderr",
     "output_type": "stream",
     "text": [
      "100%|██████████| 43/43 [00:00<00:00, 75.93it/s]\n"
     ]
    },
    {
     "name": "stdout",
     "output_type": "stream",
     "text": [
      "Encoding queries for RRF...\n"
     ]
    },
    {
     "name": "stderr",
     "output_type": "stream",
     "text": [
      "100%|██████████| 43/43 [00:00<00:00, 87.61it/s]\n"
     ]
    },
    {
     "name": "stdout",
     "output_type": "stream",
     "text": [
      "Encoding queries for RRF...\n"
     ]
    },
    {
     "name": "stderr",
     "output_type": "stream",
     "text": [
      "100%|██████████| 43/43 [00:01<00:00, 31.73it/s]\n"
     ]
    },
    {
     "name": "stdout",
     "output_type": "stream",
     "text": [
      "Encoding queries for RRF...\n"
     ]
    },
    {
     "name": "stderr",
     "output_type": "stream",
     "text": [
      "100%|██████████| 43/43 [00:01<00:00, 36.05it/s]\n"
     ]
    },
    {
     "name": "stdout",
     "output_type": "stream",
     "text": [
      "Encoding queries for RRF...\n"
     ]
    },
    {
     "name": "stderr",
     "output_type": "stream",
     "text": [
      "100%|██████████| 43/43 [00:00<00:00, 71.85it/s]\n"
     ]
    },
    {
     "name": "stdout",
     "output_type": "stream",
     "text": [
      "Encoding queries for RRF...\n"
     ]
    },
    {
     "name": "stderr",
     "output_type": "stream",
     "text": [
      "100%|██████████| 43/43 [00:00<00:00, 48.99it/s]\n"
     ]
    },
    {
     "name": "stdout",
     "output_type": "stream",
     "text": [
      "Encoding queries for RRF...\n"
     ]
    },
    {
     "name": "stderr",
     "output_type": "stream",
     "text": [
      "100%|██████████| 43/43 [00:00<00:00, 55.71it/s]\n"
     ]
    },
    {
     "name": "stdout",
     "output_type": "stream",
     "text": [
      "Encoding queries for RRF...\n"
     ]
    },
    {
     "name": "stderr",
     "output_type": "stream",
     "text": [
      "100%|██████████| 43/43 [00:01<00:00, 40.51it/s]\n"
     ]
    },
    {
     "name": "stdout",
     "output_type": "stream",
     "text": [
      "Encoding queries for RRF...\n"
     ]
    },
    {
     "name": "stderr",
     "output_type": "stream",
     "text": [
      "100%|██████████| 43/43 [00:00<00:00, 61.55it/s]\n"
     ]
    },
    {
     "name": "stdout",
     "output_type": "stream",
     "text": [
      "Encoding queries for RRF...\n"
     ]
    },
    {
     "name": "stderr",
     "output_type": "stream",
     "text": [
      "100%|██████████| 43/43 [00:00<00:00, 74.76it/s]\n"
     ]
    },
    {
     "name": "stdout",
     "output_type": "stream",
     "text": [
      "Encoding queries for RRF...\n"
     ]
    },
    {
     "name": "stderr",
     "output_type": "stream",
     "text": [
      "100%|██████████| 43/43 [00:00<00:00, 46.73it/s]\n",
      " 91%|█████████ | 10/11 [37:09<03:44, 224.60s/it]"
     ]
    },
    {
     "name": "stdout",
     "output_type": "stream",
     "text": [
      "Encoding queries for RRF...\n"
     ]
    },
    {
     "name": "stderr",
     "output_type": "stream",
     "text": [
      "100%|██████████| 43/43 [00:00<00:00, 55.93it/s]\n"
     ]
    },
    {
     "name": "stdout",
     "output_type": "stream",
     "text": [
      "Encoding queries for RRF...\n"
     ]
    },
    {
     "name": "stderr",
     "output_type": "stream",
     "text": [
      "100%|██████████| 43/43 [00:01<00:00, 40.94it/s]\n"
     ]
    },
    {
     "name": "stdout",
     "output_type": "stream",
     "text": [
      "Encoding queries for RRF...\n"
     ]
    },
    {
     "name": "stderr",
     "output_type": "stream",
     "text": [
      "100%|██████████| 43/43 [00:00<00:00, 48.25it/s]\n"
     ]
    },
    {
     "name": "stdout",
     "output_type": "stream",
     "text": [
      "Encoding queries for RRF...\n"
     ]
    },
    {
     "name": "stderr",
     "output_type": "stream",
     "text": [
      "100%|██████████| 43/43 [00:00<00:00, 69.59it/s]\n"
     ]
    },
    {
     "name": "stdout",
     "output_type": "stream",
     "text": [
      "Encoding queries for RRF...\n"
     ]
    },
    {
     "name": "stderr",
     "output_type": "stream",
     "text": [
      "100%|██████████| 43/43 [00:00<00:00, 47.97it/s]\n"
     ]
    },
    {
     "name": "stdout",
     "output_type": "stream",
     "text": [
      "Encoding queries for RRF...\n"
     ]
    },
    {
     "name": "stderr",
     "output_type": "stream",
     "text": [
      "100%|██████████| 43/43 [00:00<00:00, 79.70it/s]\n"
     ]
    },
    {
     "name": "stdout",
     "output_type": "stream",
     "text": [
      "Encoding queries for RRF...\n"
     ]
    },
    {
     "name": "stderr",
     "output_type": "stream",
     "text": [
      "100%|██████████| 43/43 [00:00<00:00, 45.87it/s]\n"
     ]
    },
    {
     "name": "stdout",
     "output_type": "stream",
     "text": [
      "Encoding queries for RRF...\n"
     ]
    },
    {
     "name": "stderr",
     "output_type": "stream",
     "text": [
      "100%|██████████| 43/43 [00:00<00:00, 63.85it/s]\n"
     ]
    },
    {
     "name": "stdout",
     "output_type": "stream",
     "text": [
      "Encoding queries for RRF...\n"
     ]
    },
    {
     "name": "stderr",
     "output_type": "stream",
     "text": [
      "100%|██████████| 43/43 [00:00<00:00, 47.05it/s]\n"
     ]
    },
    {
     "name": "stdout",
     "output_type": "stream",
     "text": [
      "Encoding queries for RRF...\n"
     ]
    },
    {
     "name": "stderr",
     "output_type": "stream",
     "text": [
      "100%|██████████| 43/43 [00:00<00:00, 74.25it/s]\n"
     ]
    },
    {
     "name": "stdout",
     "output_type": "stream",
     "text": [
      "Encoding queries for RRF...\n"
     ]
    },
    {
     "name": "stderr",
     "output_type": "stream",
     "text": [
      "100%|██████████| 43/43 [00:00<00:00, 60.93it/s]\n",
      "100%|██████████| 11/11 [41:02<00:00, 223.87s/it]\n"
     ]
    }
   ],
   "source": [
    "with open(\n",
    "    \"../testing/msmarco-test2019-queries.tsv\",\n",
    "    encoding=\"utf-8\",\n",
    "    newline=\"\"\n",
    ") as fp:\n",
    "    queries = {q_id: q for q_id, q in csv.reader(fp, delimiter=\"\\t\")}\n",
    "print(f\"loaded {len(queries)} queries\")\n",
    "\n",
    "# define dictionary to keep track of best results for tested hyperparameters\n",
    "bestHyperparams2019_rrf = {\n",
    "    'rrf': {'precision': {'value': -1, 'eta1': 0, 'eta2': 0}, \n",
    "            'recall': {'value': -1, 'eta1': 0, 'eta2': 0}, \n",
    "            'fscore': {'value': -1, 'eta1': 0, 'eta2': 0}, \n",
    "            'rr': {'value': -1, 'eta1': 0, 'eta2': 0}, \n",
    "            'ndcg': {'value': -1, 'eta1': 0, 'eta2': 0}, \n",
    "            'map': {'value': -1, 'eta1': 0, 'eta2': 0}},\n",
    "}\n",
    "\n",
    "explored = set()\n",
    "\n",
    "for i in tqdm(range(len(etas))):\n",
    "    for j in range(len(etas)):\n",
    "        if (etas[i],etas[j]) in explored:\n",
    "            continue\n",
    "        else:\n",
    "            explored.add((etas[i],etas[j]))\n",
    "            eta = etas[i]\n",
    "\n",
    "        result2 = in_memory_index.get_scores_rrf(\n",
    "            sparse_ranking_2019,\n",
    "            queries,\n",
    "            alpha=alpha,\n",
    "            cutoff=None,\n",
    "            early_stopping=False,\n",
    "            eta = etas[i],\n",
    "            eta2 = etas[j],\n",
    "        )\n",
    "\n",
    "        qrels = list(read_trec_qrels(\"../testing/2019qrels-pass.txt\"))\n",
    "\n",
    "        rrfRes = calc_aggregate([nDCG@10, RR(rel=2)@10,P(rel=2)@10,R(rel=2)@10,AP(rel=2)@10], qrels, result2[alpha].run)\n",
    "        fscoreRRRes = (2*rrfRes[P(rel=2)@10]*rrfRes[R(rel=2)@10])/(rrfRes[P(rel=2)@10]+rrfRes[R(rel=2)@10])\n",
    "\n",
    "\n",
    "        if rrfRes[P(rel=2)@10] > bestHyperparams2019_rrf['rrf']['precision']['value']:\n",
    "            bestHyperparams2019_rrf['rrf']['precision']['value'] = rrfRes[P(rel=2)@10]\n",
    "            bestHyperparams2019_rrf['rrf']['precision']['eta1'] = etas[i]\n",
    "            bestHyperparams2019_rrf['rrf']['precision']['eta2'] = etas[j]\n",
    "\n",
    "\n",
    "        if rrfRes[R(rel=2)@10] > bestHyperparams2019_rrf['rrf']['recall']['value']:\n",
    "            bestHyperparams2019_rrf['rrf']['recall']['value'] = rrfRes[R(rel=2)@10]\n",
    "            bestHyperparams2019_rrf['rrf']['recall']['eta1'] = etas[i]\n",
    "            bestHyperparams2019_rrf['rrf']['recall']['eta2'] = etas[j]\n",
    "\n",
    "\n",
    "        if rrfRes[nDCG@10] > bestHyperparams2019_rrf['rrf']['ndcg']['value']:\n",
    "            bestHyperparams2019_rrf['rrf']['ndcg']['value'] = rrfRes[nDCG@10]\n",
    "            bestHyperparams2019_rrf['rrf']['ndcg']['eta1'] = etas[i]\n",
    "            bestHyperparams2019_rrf['rrf']['ndcg']['eta2'] = etas[j]\n",
    "\n",
    "        if rrfRes[RR(rel=2)@10] > bestHyperparams2019_rrf['rrf']['rr']['value']:\n",
    "            bestHyperparams2019_rrf['rrf']['rr']['value'] = rrfRes[RR(rel=2)@10]\n",
    "            bestHyperparams2019_rrf['rrf']['rr']['eta1'] = etas[i]\n",
    "            bestHyperparams2019_rrf['rrf']['rr']['eta2'] = etas[j]\n",
    "\n",
    "        if fscoreRRRes > bestHyperparams2019_rrf['rrf']['fscore']['value']:\n",
    "            bestHyperparams2019_rrf['rrf']['fscore']['value'] = fscoreRRRes\n",
    "            bestHyperparams2019_rrf['rrf']['fscore']['eta1'] = etas[i]\n",
    "            bestHyperparams2019_rrf['rrf']['fscore']['eta2'] = etas[j]\n",
    "\n",
    "        if rrfRes[AP(rel=2)@10] > bestHyperparams2019_rrf['rrf']['map']['value']:\n",
    "            bestHyperparams2019_rrf['rrf']['map']['value'] = rrfRes[AP(rel=2)@10]\n",
    "            bestHyperparams2019_rrf['rrf']['map']['eta1'] = etas[i]\n",
    "            bestHyperparams2019_rrf['rrf']['map']['eta2'] = etas[j]"
   ]
  },
  {
   "cell_type": "code",
   "execution_count": 18,
   "metadata": {},
   "outputs": [
    {
     "name": "stdout",
     "output_type": "stream",
     "text": [
      "{'precision': {'value': 0.6348837209302325, 'eta1': 40, 'eta2': 10}, 'recall': {'value': 0.26976473421199393, 'eta1': 40, 'eta2': 10}, 'fscore': {'value': 0.3786426368358511, 'eta1': 40, 'eta2': 10}, 'rr': {'value': 0.8976744186046514, 'eta1': 20, 'eta2': 20}, 'ndcg': {'value': 0.7151248552748896, 'eta1': 80, 'eta2': 40}, 'map': {'value': 0.20941181623477217, 'eta1': 100, 'eta2': 10}}\n"
     ]
    }
   ],
   "source": [
    "print(bestHyperparams2019_rrf['rrf'])"
   ]
  },
  {
   "cell_type": "code",
   "execution_count": 27,
   "metadata": {},
   "outputs": [
    {
     "name": "stdout",
     "output_type": "stream",
     "text": [
      "loaded 200 queries\n",
      "\n",
      "TESTING RESULTS FOR BEST VALIDATION METRICS FOR unnormalized\n",
      "Encoding queries for interpolation...\n"
     ]
    },
    {
     "name": "stderr",
     "output_type": "stream",
     "text": [
      "100%|██████████| 43/43 [00:00<00:00, 52.26it/s]\n"
     ]
    },
    {
     "name": "stdout",
     "output_type": "stream",
     "text": [
      "sparse_ranking_2019 None\n",
      "using best alpha=0.1 for precision\n",
      "Interpolation {R(rel=2)@10: 0.2652624093046782, RR(rel=2)@10: 0.862015503875969, nDCG@10: 0.7165204423861107, P(rel=2)@10: 0.6279069767441859, AP(rel=2)@10: 0.21189662633253065} f-score:0.3729642329260645\n",
      "Encoding queries for interpolation...\n"
     ]
    },
    {
     "name": "stderr",
     "output_type": "stream",
     "text": [
      "100%|██████████| 43/43 [00:00<00:00, 56.27it/s]\n"
     ]
    },
    {
     "name": "stdout",
     "output_type": "stream",
     "text": [
      "sparse_ranking_2019 None\n",
      "using best alpha=0.2 for recall\n",
      "Interpolation {R(rel=2)@10: 0.27300662836997697, RR(rel=2)@10: 0.901937984496124, nDCG@10: 0.7158066715626032, P(rel=2)@10: 0.6232558139534883, AP(rel=2)@10: 0.20869274688772674} f-score:0.3796945188026042\n",
      "Encoding queries for interpolation...\n"
     ]
    },
    {
     "name": "stderr",
     "output_type": "stream",
     "text": [
      "100%|██████████| 43/43 [00:00<00:00, 52.79it/s]\n"
     ]
    },
    {
     "name": "stdout",
     "output_type": "stream",
     "text": [
      "sparse_ranking_2019 None\n",
      "using best alpha=0.2 for fscore\n",
      "Interpolation {R(rel=2)@10: 0.27300662836997697, RR(rel=2)@10: 0.901937984496124, nDCG@10: 0.7158066715626032, P(rel=2)@10: 0.6232558139534883, AP(rel=2)@10: 0.20869274688772674} f-score:0.3796945188026042\n",
      "Encoding queries for interpolation...\n"
     ]
    },
    {
     "name": "stderr",
     "output_type": "stream",
     "text": [
      "100%|██████████| 43/43 [00:00<00:00, 50.08it/s]\n"
     ]
    },
    {
     "name": "stdout",
     "output_type": "stream",
     "text": [
      "sparse_ranking_2019 None\n",
      "using best alpha=0.2 for rr\n",
      "Interpolation {R(rel=2)@10: 0.27300662836997697, RR(rel=2)@10: 0.901937984496124, nDCG@10: 0.7158066715626032, P(rel=2)@10: 0.6232558139534883, AP(rel=2)@10: 0.20869274688772674} f-score:0.3796945188026042\n",
      "Encoding queries for interpolation...\n"
     ]
    },
    {
     "name": "stderr",
     "output_type": "stream",
     "text": [
      "100%|██████████| 43/43 [00:00<00:00, 55.72it/s]\n"
     ]
    },
    {
     "name": "stdout",
     "output_type": "stream",
     "text": [
      "sparse_ranking_2019 None\n",
      "using best alpha=0.1 for ndcg\n",
      "Interpolation {R(rel=2)@10: 0.2652624093046782, RR(rel=2)@10: 0.862015503875969, nDCG@10: 0.7165204423861107, P(rel=2)@10: 0.6279069767441859, AP(rel=2)@10: 0.21189662633253065} f-score:0.3729642329260645\n",
      "Encoding queries for interpolation...\n"
     ]
    },
    {
     "name": "stderr",
     "output_type": "stream",
     "text": [
      "100%|██████████| 43/43 [00:00<00:00, 57.80it/s]\n"
     ]
    },
    {
     "name": "stdout",
     "output_type": "stream",
     "text": [
      "sparse_ranking_2019 None\n",
      "using best alpha=0.1 for map\n",
      "Interpolation {R(rel=2)@10: 0.2652624093046782, RR(rel=2)@10: 0.862015503875969, nDCG@10: 0.7165204423861107, P(rel=2)@10: 0.6279069767441859, AP(rel=2)@10: 0.21189662633253065} f-score:0.3729642329260645\n",
      "\n",
      "TESTING RESULTS FOR BEST VALIDATION METRICS FOR normalized\n",
      "Encoding queries for interpolation...\n"
     ]
    },
    {
     "name": "stderr",
     "output_type": "stream",
     "text": [
      "100%|██████████| 43/43 [00:00<00:00, 61.56it/s]\n"
     ]
    },
    {
     "name": "stdout",
     "output_type": "stream",
     "text": [
      "sparse_ranking_2019 None\n",
      "using best alpha=0.2 for precision\n",
      "Interpolation {R(rel=2)@10: 0.27028960969387333, RR(rel=2)@10: 0.8949612403100775, nDCG@10: 0.7229942609361282, P(rel=2)@10: 0.6348837209302324, AP(rel=2)@10: 0.2130699577564767} f-score:0.37915936611368956\n",
      "Encoding queries for interpolation...\n"
     ]
    },
    {
     "name": "stderr",
     "output_type": "stream",
     "text": [
      "100%|██████████| 43/43 [00:00<00:00, 56.62it/s]\n"
     ]
    },
    {
     "name": "stdout",
     "output_type": "stream",
     "text": [
      "sparse_ranking_2019 None\n",
      "using best alpha=0.1 for recall\n",
      "Interpolation {R(rel=2)@10: 0.2719114158943346, RR(rel=2)@10: 0.843798449612403, nDCG@10: 0.717513190926385, P(rel=2)@10: 0.6325581395348836, AP(rel=2)@10: 0.21021356927994342} f-score:0.38033293287532133\n",
      "Encoding queries for interpolation...\n"
     ]
    },
    {
     "name": "stderr",
     "output_type": "stream",
     "text": [
      "100%|██████████| 43/43 [00:00<00:00, 61.76it/s]\n"
     ]
    },
    {
     "name": "stdout",
     "output_type": "stream",
     "text": [
      "sparse_ranking_2019 None\n",
      "using best alpha=0.1 for fscore\n",
      "Interpolation {R(rel=2)@10: 0.2719114158943346, RR(rel=2)@10: 0.843798449612403, nDCG@10: 0.717513190926385, P(rel=2)@10: 0.6325581395348836, AP(rel=2)@10: 0.21021356927994342} f-score:0.38033293287532133\n",
      "Encoding queries for interpolation...\n"
     ]
    },
    {
     "name": "stderr",
     "output_type": "stream",
     "text": [
      "100%|██████████| 43/43 [00:00<00:00, 66.09it/s]\n"
     ]
    },
    {
     "name": "stdout",
     "output_type": "stream",
     "text": [
      "sparse_ranking_2019 None\n",
      "using best alpha=0.3 for rr\n",
      "Interpolation {R(rel=2)@10: 0.2646355873798301, RR(rel=2)@10: 0.9085271317829459, nDCG@10: 0.7068684205361265, P(rel=2)@10: 0.6, AP(rel=2)@10: 0.20725967103552692} f-score:0.36727924398546924\n",
      "Encoding queries for interpolation...\n"
     ]
    },
    {
     "name": "stderr",
     "output_type": "stream",
     "text": [
      "100%|██████████| 43/43 [00:00<00:00, 55.66it/s]\n"
     ]
    },
    {
     "name": "stdout",
     "output_type": "stream",
     "text": [
      "sparse_ranking_2019 None\n",
      "using best alpha=0.2 for ndcg\n",
      "Interpolation {R(rel=2)@10: 0.27028960969387333, RR(rel=2)@10: 0.8949612403100775, nDCG@10: 0.7229942609361282, P(rel=2)@10: 0.6348837209302324, AP(rel=2)@10: 0.2130699577564767} f-score:0.37915936611368956\n",
      "Encoding queries for interpolation...\n"
     ]
    },
    {
     "name": "stderr",
     "output_type": "stream",
     "text": [
      "100%|██████████| 43/43 [00:00<00:00, 55.44it/s]\n"
     ]
    },
    {
     "name": "stdout",
     "output_type": "stream",
     "text": [
      "sparse_ranking_2019 None\n",
      "using best alpha=0.2 for map\n",
      "Interpolation {R(rel=2)@10: 0.27028960969387333, RR(rel=2)@10: 0.8949612403100775, nDCG@10: 0.7229942609361282, P(rel=2)@10: 0.6348837209302324, AP(rel=2)@10: 0.2130699577564767} f-score:0.37915936611368956\n"
     ]
    }
   ],
   "source": [
    "with open(\n",
    "    \"../testing/msmarco-test2019-queries.tsv\",\n",
    "    encoding=\"utf-8\",\n",
    "    newline=\"\"\n",
    ") as fp:\n",
    "    queries = {q_id: q for q_id, q in csv.reader(fp, delimiter=\"\\t\")}\n",
    "print(f\"loaded {len(queries)} queries\")\n",
    "\n",
    "\n",
    "for key in bestHyperparams2019.keys():\n",
    "    print('\\n'+'TESTING RESULTS FOR BEST VALIDATION METRICS FOR {}'.format('normalized' if key == 'ccNormalized' else 'unnormalized'))\n",
    "    for metric in bestHyperparams2019[key].keys():\n",
    "        # print(f\"best {metric} for {key} is {bestHyperparams2019[key][metric]['value']} with alpha {bestHyperparams2019[key][metric]['alpha']}\")\n",
    "    \n",
    "        alpha = bestHyperparams2019[key][metric]['alpha']\n",
    "\n",
    "        result = in_memory_index.get_scores(\n",
    "            sparse_ranking_2019,\n",
    "            queries,\n",
    "            alpha=alpha*1.0,\n",
    "            cutoff=None,\n",
    "            early_stopping=False,\n",
    "            normalise= False if key == 'ccUnnormalized' else True\n",
    "        )\n",
    "        # result3 = in_memory_index.get_scores(\n",
    "        #     sparse_ranking_2020,\n",
    "        #     queries,\n",
    "        #     alpha=alpha,\n",
    "        #     cutoff=None,\n",
    "        #     early_stopping=False,\n",
    "        #     normalise=True\n",
    "        # )\n",
    "        qrels = list(read_trec_qrels(\"../testing/2019qrels-pass.txt\"))\n",
    "        print('using best alpha={} for {}'.format(alpha, metric))\n",
    "        interpolation2 = calc_aggregate([nDCG@10, RR(rel=2)@10,P(rel=2)@10,R(rel=2)@10,AP(rel=2)@10], qrels, result[alpha].run)\n",
    "        fscoreInterpolation2 = (2*interpolation2[P(rel=2)@10]*interpolation2[R(rel=2)@10])/(interpolation2[P(rel=2)@10]+interpolation2[R(rel=2)@10])\n",
    "        print(\n",
    "            f\"Interpolation\",\n",
    "            interpolation2,\n",
    "            'f-score:{}'.format(fscoreInterpolation2)\n",
    "        )"
   ]
  },
  {
   "cell_type": "code",
   "execution_count": 28,
   "metadata": {},
   "outputs": [
    {
     "name": "stdout",
     "output_type": "stream",
     "text": [
      "loaded 200 queries\n",
      "\n",
      "TESTING RESULTS FOR BEST VALIDATION METRICS FOR unnormalized\n",
      "Encoding queries for interpolation...\n"
     ]
    },
    {
     "name": "stderr",
     "output_type": "stream",
     "text": [
      "100%|██████████| 54/54 [00:01<00:00, 45.47it/s]\n"
     ]
    },
    {
     "name": "stdout",
     "output_type": "stream",
     "text": [
      "sparse_ranking_2020 None\n",
      "using best alpha for precision\n",
      "Interpolation {R(rel=2)@10: 0.391207940493183, RR(rel=2)@10: 0.814814814814815, nDCG@10: 0.6939603772252907, P(rel=2)@10: 0.5333333333333333, AP(rel=2)@10: 0.2980423955640365} f-score:0.4513465019601671\n",
      "Encoding queries for interpolation...\n"
     ]
    },
    {
     "name": "stderr",
     "output_type": "stream",
     "text": [
      "100%|██████████| 54/54 [00:00<00:00, 57.84it/s]\n"
     ]
    },
    {
     "name": "stdout",
     "output_type": "stream",
     "text": [
      "sparse_ranking_2020 None\n",
      "using best alpha for recall\n",
      "Interpolation {R(rel=2)@10: 0.37349994843573076, RR(rel=2)@10: 0.797530864197531, nDCG@10: 0.6714497182268858, P(rel=2)@10: 0.5203703703703701, AP(rel=2)@10: 0.2876461836252215} f-score:0.43486913573863895\n",
      "Encoding queries for interpolation...\n"
     ]
    },
    {
     "name": "stderr",
     "output_type": "stream",
     "text": [
      "100%|██████████| 54/54 [00:00<00:00, 59.40it/s]\n"
     ]
    },
    {
     "name": "stdout",
     "output_type": "stream",
     "text": [
      "sparse_ranking_2020 None\n",
      "using best alpha for fscore\n",
      "Interpolation {R(rel=2)@10: 0.37349994843573076, RR(rel=2)@10: 0.797530864197531, nDCG@10: 0.6714497182268858, P(rel=2)@10: 0.5203703703703701, AP(rel=2)@10: 0.2876461836252215} f-score:0.43486913573863895\n",
      "Encoding queries for interpolation...\n"
     ]
    },
    {
     "name": "stderr",
     "output_type": "stream",
     "text": [
      "100%|██████████| 54/54 [00:00<00:00, 57.87it/s]\n"
     ]
    },
    {
     "name": "stdout",
     "output_type": "stream",
     "text": [
      "sparse_ranking_2020 None\n",
      "using best alpha for rr\n",
      "Interpolation {R(rel=2)@10: 0.37349994843573076, RR(rel=2)@10: 0.797530864197531, nDCG@10: 0.6714497182268858, P(rel=2)@10: 0.5203703703703701, AP(rel=2)@10: 0.2876461836252215} f-score:0.43486913573863895\n",
      "Encoding queries for interpolation...\n"
     ]
    },
    {
     "name": "stderr",
     "output_type": "stream",
     "text": [
      "100%|██████████| 54/54 [00:00<00:00, 58.99it/s]\n"
     ]
    },
    {
     "name": "stdout",
     "output_type": "stream",
     "text": [
      "sparse_ranking_2020 None\n",
      "using best alpha for ndcg\n",
      "Interpolation {R(rel=2)@10: 0.391207940493183, RR(rel=2)@10: 0.814814814814815, nDCG@10: 0.6939603772252907, P(rel=2)@10: 0.5333333333333333, AP(rel=2)@10: 0.2980423955640365} f-score:0.4513465019601671\n",
      "Encoding queries for interpolation...\n"
     ]
    },
    {
     "name": "stderr",
     "output_type": "stream",
     "text": [
      "100%|██████████| 54/54 [00:00<00:00, 65.64it/s]\n"
     ]
    },
    {
     "name": "stdout",
     "output_type": "stream",
     "text": [
      "sparse_ranking_2020 None\n",
      "using best alpha for map\n",
      "Interpolation {R(rel=2)@10: 0.391207940493183, RR(rel=2)@10: 0.814814814814815, nDCG@10: 0.6939603772252907, P(rel=2)@10: 0.5333333333333333, AP(rel=2)@10: 0.2980423955640365} f-score:0.4513465019601671\n",
      "\n",
      "TESTING RESULTS FOR BEST VALIDATION METRICS FOR normalized\n",
      "Encoding queries for interpolation...\n"
     ]
    },
    {
     "name": "stderr",
     "output_type": "stream",
     "text": [
      "100%|██████████| 54/54 [00:00<00:00, 61.90it/s]\n"
     ]
    },
    {
     "name": "stdout",
     "output_type": "stream",
     "text": [
      "sparse_ranking_2020 None\n",
      "using best alpha for precision\n",
      "Interpolation {R(rel=2)@10: 0.3747600495688947, RR(rel=2)@10: 0.8021604938271607, nDCG@10: 0.6727571514417632, P(rel=2)@10: 0.5203703703703704, AP(rel=2)@10: 0.2869471420830232} f-score:0.43572203882293675\n",
      "Encoding queries for interpolation...\n"
     ]
    },
    {
     "name": "stderr",
     "output_type": "stream",
     "text": [
      "100%|██████████| 54/54 [00:00<00:00, 57.73it/s]\n"
     ]
    },
    {
     "name": "stdout",
     "output_type": "stream",
     "text": [
      "sparse_ranking_2020 None\n",
      "using best alpha for recall\n",
      "Interpolation {R(rel=2)@10: 0.3833530296325536, RR(rel=2)@10: 0.8271604938271606, nDCG@10: 0.6920854730231987, P(rel=2)@10: 0.525925925925926, AP(rel=2)@10: 0.2941106059928702} f-score:0.4434619229522968\n",
      "Encoding queries for interpolation...\n"
     ]
    },
    {
     "name": "stderr",
     "output_type": "stream",
     "text": [
      "100%|██████████| 54/54 [00:00<00:00, 63.51it/s]\n"
     ]
    },
    {
     "name": "stdout",
     "output_type": "stream",
     "text": [
      "sparse_ranking_2020 None\n",
      "using best alpha for fscore\n",
      "Interpolation {R(rel=2)@10: 0.3833530296325536, RR(rel=2)@10: 0.8271604938271606, nDCG@10: 0.6920854730231987, P(rel=2)@10: 0.525925925925926, AP(rel=2)@10: 0.2941106059928702} f-score:0.4434619229522968\n",
      "Encoding queries for interpolation...\n"
     ]
    },
    {
     "name": "stderr",
     "output_type": "stream",
     "text": [
      "100%|██████████| 54/54 [00:00<00:00, 67.26it/s]\n"
     ]
    },
    {
     "name": "stdout",
     "output_type": "stream",
     "text": [
      "sparse_ranking_2020 None\n",
      "using best alpha for rr\n",
      "Interpolation {R(rel=2)@10: 0.36361577768128583, RR(rel=2)@10: 0.7949294532627867, nDCG@10: 0.652755006564619, P(rel=2)@10: 0.4999999999999999, AP(rel=2)@10: 0.2759705606429033} f-score:0.4210388312468706\n",
      "Encoding queries for interpolation...\n"
     ]
    },
    {
     "name": "stderr",
     "output_type": "stream",
     "text": [
      "100%|██████████| 54/54 [00:00<00:00, 70.04it/s]\n"
     ]
    },
    {
     "name": "stdout",
     "output_type": "stream",
     "text": [
      "sparse_ranking_2020 None\n",
      "using best alpha for ndcg\n",
      "Interpolation {R(rel=2)@10: 0.3747600495688947, RR(rel=2)@10: 0.8021604938271607, nDCG@10: 0.6727571514417632, P(rel=2)@10: 0.5203703703703704, AP(rel=2)@10: 0.2869471420830232} f-score:0.43572203882293675\n",
      "Encoding queries for interpolation...\n"
     ]
    },
    {
     "name": "stderr",
     "output_type": "stream",
     "text": [
      "100%|██████████| 54/54 [00:00<00:00, 62.02it/s]\n"
     ]
    },
    {
     "name": "stdout",
     "output_type": "stream",
     "text": [
      "sparse_ranking_2020 None\n",
      "using best alpha for map\n",
      "Interpolation {R(rel=2)@10: 0.3747600495688947, RR(rel=2)@10: 0.8021604938271607, nDCG@10: 0.6727571514417632, P(rel=2)@10: 0.5203703703703704, AP(rel=2)@10: 0.2869471420830232} f-score:0.43572203882293675\n"
     ]
    }
   ],
   "source": [
    "with open(\n",
    "    \"../testing/msmarco-test2020-queries.tsv\",\n",
    "    encoding=\"utf-8\",\n",
    "    newline=\"\"\n",
    ") as fp:\n",
    "    queries = {q_id: q for q_id, q in csv.reader(fp, delimiter=\"\\t\")}\n",
    "print(f\"loaded {len(queries)} queries\")\n",
    "\n",
    "\n",
    "for key in bestHyperparams2019.keys():\n",
    "    print('\\n'+'TESTING RESULTS FOR BEST VALIDATION METRICS FOR {}'.format('normalized' if key == 'ccNormalized' else 'unnormalized'))\n",
    "    for metric in bestHyperparams2019[key].keys():\n",
    "        # print(f\"best {metric} for {key} is {bestHyperparams2019[key][metric]['value']} with alpha {bestHyperparams2019[key][metric]['alpha']}\")\n",
    "    \n",
    "        alpha = bestHyperparams2019[key][metric]['alpha']\n",
    "\n",
    "        result = in_memory_index.get_scores(\n",
    "            sparse_ranking_2020,\n",
    "            queries,\n",
    "            alpha=alpha*1.0,\n",
    "            cutoff=None,\n",
    "            early_stopping=False,\n",
    "            normalise= False if key == 'ccUnnormalized' else True\n",
    "        )\n",
    "        # result3 = in_memory_index.get_scores(\n",
    "        #     sparse_ranking_2020,\n",
    "        #     queries,\n",
    "        #     alpha=alpha,\n",
    "        #     cutoff=None,\n",
    "        #     early_stopping=False,\n",
    "        #     normalise=True\n",
    "        # )\n",
    "        qrels = list(read_trec_qrels(\"../testing/2020qrels-pass.txt\"))\n",
    "        print('using best alpha for {}'.format(metric))\n",
    "        interpolation2 = calc_aggregate([nDCG@10, RR(rel=2)@10,P(rel=2)@10,R(rel=2)@10,AP(rel=2)@10], qrels, result[alpha].run)\n",
    "        fscoreInterpolation2 = (2*interpolation2[P(rel=2)@10]*interpolation2[R(rel=2)@10])/(interpolation2[P(rel=2)@10]+interpolation2[R(rel=2)@10])\n",
    "        print(\n",
    "            f\"Interpolation\",\n",
    "            interpolation2,\n",
    "            'f-score:{}'.format(fscoreInterpolation2)\n",
    "        )"
   ]
  },
  {
   "cell_type": "code",
   "execution_count": 31,
   "metadata": {},
   "outputs": [
    {
     "name": "stdout",
     "output_type": "stream",
     "text": [
      "loaded 200 queries\n",
      "\n",
      "TESTING RESULTS FOR BEST VALIDATION METRICS FOR unnormalized\n",
      "Encoding queries for RRF...\n"
     ]
    },
    {
     "name": "stderr",
     "output_type": "stream",
     "text": [
      "100%|██████████| 54/54 [00:01<00:00, 51.73it/s]\n"
     ]
    },
    {
     "name": "stdout",
     "output_type": "stream",
     "text": [
      "using best alpha for precision\n",
      "RRF {R(rel=2)@10: 0.3702476168178879, RR(rel=2)@10: 0.79320987654321, nDCG@10: 0.6793628703705968, P(rel=2)@10: 0.5037037037037037, AP(rel=2)@10: 0.28518417374234645} f-score:0.42678600397865596\n",
      "Encoding queries for RRF...\n"
     ]
    },
    {
     "name": "stderr",
     "output_type": "stream",
     "text": [
      "100%|██████████| 54/54 [00:00<00:00, 66.42it/s]\n"
     ]
    },
    {
     "name": "stdout",
     "output_type": "stream",
     "text": [
      "using best alpha for recall\n",
      "RRF {R(rel=2)@10: 0.3702476168178879, RR(rel=2)@10: 0.79320987654321, nDCG@10: 0.6793628703705968, P(rel=2)@10: 0.5037037037037037, AP(rel=2)@10: 0.28518417374234645} f-score:0.42678600397865596\n",
      "Encoding queries for RRF...\n"
     ]
    },
    {
     "name": "stderr",
     "output_type": "stream",
     "text": [
      "100%|██████████| 54/54 [00:00<00:00, 61.62it/s]\n"
     ]
    },
    {
     "name": "stdout",
     "output_type": "stream",
     "text": [
      "using best alpha for fscore\n",
      "RRF {R(rel=2)@10: 0.3702476168178879, RR(rel=2)@10: 0.79320987654321, nDCG@10: 0.6793628703705968, P(rel=2)@10: 0.5037037037037037, AP(rel=2)@10: 0.28518417374234645} f-score:0.42678600397865596\n",
      "Encoding queries for RRF...\n"
     ]
    },
    {
     "name": "stderr",
     "output_type": "stream",
     "text": [
      "100%|██████████| 54/54 [00:00<00:00, 63.22it/s]\n"
     ]
    },
    {
     "ename": "KeyboardInterrupt",
     "evalue": "",
     "output_type": "error",
     "traceback": [
      "\u001b[0;31m---------------------------------------------------------------------------\u001b[0m",
      "\u001b[0;31mKeyboardInterrupt\u001b[0m                         Traceback (most recent call last)",
      "Cell \u001b[0;32mIn[31], line 15\u001b[0m\n\u001b[1;32m     12\u001b[0m \u001b[39mfor\u001b[39;00m metric \u001b[39min\u001b[39;00m bestHyperparams2019_rrf[key]\u001b[39m.\u001b[39mkeys():\n\u001b[1;32m     13\u001b[0m     \u001b[39m# print(f\"best {metric} for {key} is {bestHyperparams2019[key][metric]['value']} with alpha {bestHyperparams2019[key][metric]['alpha']}\")\u001b[39;00m\n\u001b[1;32m     14\u001b[0m     alpha \u001b[39m=\u001b[39m \u001b[39m0.0\u001b[39m\n\u001b[0;32m---> 15\u001b[0m     result \u001b[39m=\u001b[39m in_memory_index\u001b[39m.\u001b[39;49mget_scores_rrf(\n\u001b[1;32m     16\u001b[0m         sparse_ranking_2020,\n\u001b[1;32m     17\u001b[0m         queries,\n\u001b[1;32m     18\u001b[0m         alpha\u001b[39m=\u001b[39;49malpha,\n\u001b[1;32m     19\u001b[0m         cutoff\u001b[39m=\u001b[39;49m\u001b[39mNone\u001b[39;49;00m,\n\u001b[1;32m     20\u001b[0m         early_stopping\u001b[39m=\u001b[39;49m\u001b[39mFalse\u001b[39;49;00m,\n\u001b[1;32m     21\u001b[0m         eta \u001b[39m=\u001b[39;49m bestHyperparams2019_rrf[key][metric][\u001b[39m'\u001b[39;49m\u001b[39meta1\u001b[39;49m\u001b[39m'\u001b[39;49m],\n\u001b[1;32m     22\u001b[0m         eta2 \u001b[39m=\u001b[39;49m bestHyperparams2019_rrf[key][metric][\u001b[39m'\u001b[39;49m\u001b[39meta2\u001b[39;49m\u001b[39m'\u001b[39;49m],\n\u001b[1;32m     23\u001b[0m     )\n\u001b[1;32m     24\u001b[0m     qrels \u001b[39m=\u001b[39m \u001b[39mlist\u001b[39m(read_trec_qrels(\u001b[39m\"\u001b[39m\u001b[39m../testing/2020qrels-pass.txt\u001b[39m\u001b[39m\"\u001b[39m))\n\u001b[1;32m     25\u001b[0m     \u001b[39mprint\u001b[39m(\u001b[39m'\u001b[39m\u001b[39musing best alpha for \u001b[39m\u001b[39m{}\u001b[39;00m\u001b[39m'\u001b[39m\u001b[39m.\u001b[39mformat(metric))\n",
      "File \u001b[0;32m~/Documents/CS/MSc/IR/IR_FINAL/IRProjectTUDelft/fast_forward/index.py:420\u001b[0m, in \u001b[0;36mIndex.get_scores_rrf\u001b[0;34m(self, ranking, queries, alpha, cutoff, early_stopping, eta, eta2)\u001b[0m\n\u001b[1;32m    418\u001b[0m             dense_run[q_id][\u001b[39mid\u001b[39m] \u001b[39m=\u001b[39m score\n\u001b[1;32m    419\u001b[0m \u001b[39mfor\u001b[39;00m a \u001b[39min\u001b[39;00m alpha:\n\u001b[0;32m--> 420\u001b[0m     result[a] \u001b[39m=\u001b[39m reciprocal_rank_fusion(\n\u001b[1;32m    421\u001b[0m         ranking, Ranking(dense_run, sort\u001b[39m=\u001b[39;49m\u001b[39mFalse\u001b[39;49;00m), eta \u001b[39m=\u001b[39;49m eta, eta2 \u001b[39m=\u001b[39;49m eta2\n\u001b[1;32m    422\u001b[0m     )\n\u001b[1;32m    423\u001b[0m     \u001b[39mif\u001b[39;00m cutoff \u001b[39mis\u001b[39;00m \u001b[39mnot\u001b[39;00m \u001b[39mNone\u001b[39;00m:\n\u001b[1;32m    424\u001b[0m         result[a]\u001b[39m.\u001b[39mcut(cutoff)\n",
      "File \u001b[0;32m~/Documents/CS/MSc/IR/IR_FINAL/IRProjectTUDelft/fast_forward/util.py:110\u001b[0m, in \u001b[0;36mreciprocal_rank_fusion\u001b[0;34m(r1, r2, name, sort, normalise, eta, eta2)\u001b[0m\n\u001b[1;32m    107\u001b[0m \u001b[39mfor\u001b[39;00m doc_id \u001b[39min\u001b[39;00m r1_ranks\u001b[39m.\u001b[39mkeys() \u001b[39m&\u001b[39m r2_ranks\u001b[39m.\u001b[39mkeys():\n\u001b[1;32m    108\u001b[0m     \u001b[39m# get the index of the doc_id\u001b[39;00m\n\u001b[1;32m    109\u001b[0m     value1 \u001b[39m=\u001b[39m \u001b[39mlist\u001b[39m(r1_ranks\u001b[39m.\u001b[39mkeys())\u001b[39m.\u001b[39mindex(doc_id)\n\u001b[0;32m--> 110\u001b[0m     value2 \u001b[39m=\u001b[39m \u001b[39mlist\u001b[39m(r2_ranks\u001b[39m.\u001b[39mkeys())\u001b[39m.\u001b[39mindex(doc_id)\n\u001b[1;32m    111\u001b[0m     rrf_score \u001b[39m=\u001b[39m (\u001b[39m1\u001b[39m \u001b[39m/\u001b[39m (eta \u001b[39m+\u001b[39m value1)) \u001b[39m+\u001b[39m (\u001b[39m1\u001b[39m \u001b[39m/\u001b[39m (eta2 \u001b[39m+\u001b[39m value2))\n\u001b[1;32m    112\u001b[0m     fused_run[q_id][doc_id] \u001b[39m=\u001b[39m rrf_score\n",
      "\u001b[0;31mKeyboardInterrupt\u001b[0m: "
     ]
    }
   ],
   "source": [
    "with open(\n",
    "    \"../testing/msmarco-test2020-queries.tsv\",\n",
    "    encoding=\"utf-8\",\n",
    "    newline=\"\"\n",
    ") as fp:\n",
    "    queries = {q_id: q for q_id, q in csv.reader(fp, delimiter=\"\\t\")}\n",
    "print(f\"loaded {len(queries)} queries\")\n",
    "\n",
    "\n",
    "for key in bestHyperparams2019_rrf.keys():\n",
    "    print('\\n'+'TESTING RESULTS FOR BEST VALIDATION METRICS FOR {}'.format('normalized' if key == 'ccNormalized' else 'unnormalized'))\n",
    "    for metric in bestHyperparams2019_rrf[key].keys():\n",
    "        # print(f\"best {metric} for {key} is {bestHyperparams2019[key][metric]['value']} with alpha {bestHyperparams2019[key][metric]['alpha']}\")\n",
    "        eta1 = bestHyperparams2019_rrf[key][metric]['eta1']\n",
    "        eta2 = bestHyperparams2019_rrf[key][metric]['eta2']\n",
    "        alpha = 0.0\n",
    "        result = in_memory_index.get_scores_rrf(\n",
    "            sparse_ranking_2020,\n",
    "            queries,\n",
    "            alpha=alpha,\n",
    "            cutoff=None,\n",
    "            early_stopping=False,\n",
    "            eta = eta1,\n",
    "            eta2 = eta2\n",
    "        )\n",
    "        qrels = list(read_trec_qrels(\"../testing/2020qrels-pass.txt\"))\n",
    "        print('using best eta1={} and eta2={} for {}'.format(eta1, eta2, metric))\n",
    "        interpolation2 = calc_aggregate([nDCG@10, RR(rel=2)@10,P(rel=2)@10,R(rel=2)@10,AP(rel=2)@10], qrels, result[alpha].run)\n",
    "        fscoreInterpolation2 = (2*interpolation2[P(rel=2)@10]*interpolation2[R(rel=2)@10])/(interpolation2[P(rel=2)@10]+interpolation2[R(rel=2)@10])\n",
    "        print(\n",
    "            f\"RRF\",\n",
    "            interpolation2,\n",
    "            'f-score:{}'.format(fscoreInterpolation2)\n",
    "        )"
   ]
  },
  {
   "cell_type": "code",
   "execution_count": null,
   "metadata": {},
   "outputs": [],
   "source": [
    "with open(\n",
    "    \"../testing/msmarco-test2020-queries.tsv\",\n",
    "    encoding=\"utf-8\",\n",
    "    newline=\"\"\n",
    ") as fp:\n",
    "    queries = {q_id: q for q_id, q in csv.reader(fp, delimiter=\"\\t\")}\n",
    "print(f\"loaded {len(queries)} queries\")\n",
    "\n",
    "for key in bestHyperparams2019_rrf.keys():\n",
    "    result2 = in_memory_index.get_scores_rrf(\n",
    "        sparse_ranking_2020,\n",
    "        queries,\n",
    "        alpha=alpha,\n",
    "        cutoff=None,\n",
    "        early_stopping=False,\n",
    "        eta = eta,\n",
    "        eta2 = eta2,\n",
    "    )\n",
    "    qrels = list(read_trec_qrels(\"../testing/2020qrels-pass.txt\"))\n",
    "    rrf2 = calc_aggregate([nDCG@10, RR(rel=2)@10,P@10,R@10], qrels, result2[alpha].run)\n",
    "    fscoreRRF2 = (2*rrf2[P@10]*rrf2[R@10])/(rrf2[P@10]+rrf2[R@10])\n",
    "    print(\n",
    "        f\"RRF\",\n",
    "        rrf2,\n",
    "        'f-score:{}'.format(fscoreRRF2)\n",
    "    )"
   ]
  },
  {
   "cell_type": "code",
   "execution_count": null,
   "metadata": {},
   "outputs": [
    {
     "name": "stdout",
     "output_type": "stream",
     "text": [
      "loaded 200 queries\n"
     ]
    },
    {
     "name": "stderr",
     "output_type": "stream",
     "text": [
      "  0%|          | 0/11 [00:00<?, ?it/s]"
     ]
    },
    {
     "name": "stdout",
     "output_type": "stream",
     "text": [
      "Encoding queries for interpolation...\n"
     ]
    },
    {
     "name": "stderr",
     "output_type": "stream",
     "text": [
      "100%|██████████| 43/43 [00:01<00:00, 35.89it/s]\n"
     ]
    },
    {
     "name": "stdout",
     "output_type": "stream",
     "text": [
      "sparse_ranking_2019 None\n",
      "Encoding queries for RRF...\n"
     ]
    },
    {
     "name": "stderr",
     "output_type": "stream",
     "text": [
      "100%|██████████| 43/43 [00:00<00:00, 64.91it/s]\n"
     ]
    },
    {
     "name": "stdout",
     "output_type": "stream",
     "text": [
      "sparse_ranking_2019 None\n",
      "Encoding queries for interpolation...\n"
     ]
    },
    {
     "name": "stderr",
     "output_type": "stream",
     "text": [
      "100%|██████████| 43/43 [00:00<00:00, 47.91it/s]\n"
     ]
    },
    {
     "name": "stdout",
     "output_type": "stream",
     "text": [
      "sparse_ranking_2019 None\n"
     ]
    },
    {
     "name": "stderr",
     "output_type": "stream",
     "text": [
      "  9%|▉         | 1/11 [00:26<04:28, 26.83s/it]"
     ]
    },
    {
     "name": "stdout",
     "output_type": "stream",
     "text": [
      "Encoding queries for interpolation...\n"
     ]
    },
    {
     "name": "stderr",
     "output_type": "stream",
     "text": [
      "100%|██████████| 43/43 [00:00<00:00, 45.29it/s]\n"
     ]
    },
    {
     "name": "stdout",
     "output_type": "stream",
     "text": [
      "sparse_ranking_2019 None\n",
      "Encoding queries for RRF...\n"
     ]
    },
    {
     "name": "stderr",
     "output_type": "stream",
     "text": [
      "100%|██████████| 43/43 [00:00<00:00, 50.99it/s]\n"
     ]
    },
    {
     "name": "stdout",
     "output_type": "stream",
     "text": [
      "sparse_ranking_2019 None\n",
      "Encoding queries for interpolation...\n"
     ]
    },
    {
     "name": "stderr",
     "output_type": "stream",
     "text": [
      "100%|██████████| 43/43 [00:00<00:00, 43.88it/s]\n"
     ]
    },
    {
     "name": "stdout",
     "output_type": "stream",
     "text": [
      "sparse_ranking_2019 None\n"
     ]
    },
    {
     "name": "stderr",
     "output_type": "stream",
     "text": [
      " 18%|█▊        | 2/11 [00:53<03:59, 26.57s/it]"
     ]
    },
    {
     "name": "stdout",
     "output_type": "stream",
     "text": [
      "Encoding queries for interpolation...\n"
     ]
    },
    {
     "name": "stderr",
     "output_type": "stream",
     "text": [
      "100%|██████████| 43/43 [00:00<00:00, 61.01it/s]\n"
     ]
    },
    {
     "name": "stdout",
     "output_type": "stream",
     "text": [
      "sparse_ranking_2019 None\n",
      "Encoding queries for RRF...\n"
     ]
    },
    {
     "name": "stderr",
     "output_type": "stream",
     "text": [
      "100%|██████████| 43/43 [00:00<00:00, 53.63it/s]\n"
     ]
    },
    {
     "name": "stdout",
     "output_type": "stream",
     "text": [
      "sparse_ranking_2019 None\n",
      "Encoding queries for interpolation...\n"
     ]
    },
    {
     "name": "stderr",
     "output_type": "stream",
     "text": [
      "100%|██████████| 43/43 [00:00<00:00, 67.74it/s]\n"
     ]
    },
    {
     "name": "stdout",
     "output_type": "stream",
     "text": [
      "sparse_ranking_2019 None\n"
     ]
    },
    {
     "name": "stderr",
     "output_type": "stream",
     "text": [
      " 27%|██▋       | 3/11 [01:18<03:29, 26.18s/it]"
     ]
    },
    {
     "name": "stdout",
     "output_type": "stream",
     "text": [
      "Encoding queries for interpolation...\n"
     ]
    },
    {
     "name": "stderr",
     "output_type": "stream",
     "text": [
      "100%|██████████| 43/43 [00:00<00:00, 58.27it/s]\n"
     ]
    },
    {
     "name": "stdout",
     "output_type": "stream",
     "text": [
      "sparse_ranking_2019 None\n",
      "Encoding queries for RRF...\n"
     ]
    },
    {
     "name": "stderr",
     "output_type": "stream",
     "text": [
      "100%|██████████| 43/43 [00:00<00:00, 53.79it/s]\n"
     ]
    },
    {
     "name": "stdout",
     "output_type": "stream",
     "text": [
      "sparse_ranking_2019 None\n",
      "Encoding queries for interpolation...\n"
     ]
    },
    {
     "name": "stderr",
     "output_type": "stream",
     "text": [
      "100%|██████████| 43/43 [00:00<00:00, 51.93it/s]\n"
     ]
    },
    {
     "name": "stdout",
     "output_type": "stream",
     "text": [
      "sparse_ranking_2019 None\n"
     ]
    },
    {
     "name": "stderr",
     "output_type": "stream",
     "text": [
      " 36%|███▋      | 4/11 [01:44<03:02, 26.06s/it]"
     ]
    },
    {
     "name": "stdout",
     "output_type": "stream",
     "text": [
      "Encoding queries for interpolation...\n"
     ]
    },
    {
     "name": "stderr",
     "output_type": "stream",
     "text": [
      "100%|██████████| 43/43 [00:00<00:00, 48.65it/s]\n"
     ]
    },
    {
     "name": "stdout",
     "output_type": "stream",
     "text": [
      "sparse_ranking_2019 None\n",
      "Encoding queries for RRF...\n"
     ]
    },
    {
     "name": "stderr",
     "output_type": "stream",
     "text": [
      "100%|██████████| 43/43 [00:00<00:00, 55.87it/s]\n"
     ]
    },
    {
     "name": "stdout",
     "output_type": "stream",
     "text": [
      "sparse_ranking_2019 None\n",
      "Encoding queries for interpolation...\n"
     ]
    },
    {
     "name": "stderr",
     "output_type": "stream",
     "text": [
      "100%|██████████| 43/43 [00:00<00:00, 50.32it/s]\n"
     ]
    },
    {
     "name": "stdout",
     "output_type": "stream",
     "text": [
      "sparse_ranking_2019 None\n"
     ]
    },
    {
     "name": "stderr",
     "output_type": "stream",
     "text": [
      " 45%|████▌     | 5/11 [02:11<02:36, 26.11s/it]"
     ]
    },
    {
     "name": "stdout",
     "output_type": "stream",
     "text": [
      "Encoding queries for interpolation...\n"
     ]
    },
    {
     "name": "stderr",
     "output_type": "stream",
     "text": [
      "100%|██████████| 43/43 [00:00<00:00, 50.21it/s]\n"
     ]
    },
    {
     "name": "stdout",
     "output_type": "stream",
     "text": [
      "sparse_ranking_2019 None\n",
      "Encoding queries for RRF...\n"
     ]
    },
    {
     "name": "stderr",
     "output_type": "stream",
     "text": [
      "100%|██████████| 43/43 [00:00<00:00, 49.76it/s]\n"
     ]
    },
    {
     "name": "stdout",
     "output_type": "stream",
     "text": [
      "sparse_ranking_2019 None\n",
      "Encoding queries for interpolation...\n"
     ]
    },
    {
     "name": "stderr",
     "output_type": "stream",
     "text": [
      "100%|██████████| 43/43 [00:00<00:00, 62.78it/s]\n"
     ]
    },
    {
     "name": "stdout",
     "output_type": "stream",
     "text": [
      "sparse_ranking_2019 None\n"
     ]
    },
    {
     "name": "stderr",
     "output_type": "stream",
     "text": [
      " 55%|█████▍    | 6/11 [02:36<02:10, 26.02s/it]"
     ]
    },
    {
     "name": "stdout",
     "output_type": "stream",
     "text": [
      "Encoding queries for interpolation...\n"
     ]
    },
    {
     "name": "stderr",
     "output_type": "stream",
     "text": [
      "100%|██████████| 43/43 [00:00<00:00, 44.64it/s]\n"
     ]
    },
    {
     "name": "stdout",
     "output_type": "stream",
     "text": [
      "sparse_ranking_2019 None\n",
      "Encoding queries for RRF...\n"
     ]
    },
    {
     "name": "stderr",
     "output_type": "stream",
     "text": [
      "100%|██████████| 43/43 [00:00<00:00, 47.38it/s]\n"
     ]
    },
    {
     "name": "stdout",
     "output_type": "stream",
     "text": [
      "sparse_ranking_2019 None\n",
      "Encoding queries for interpolation...\n"
     ]
    },
    {
     "name": "stderr",
     "output_type": "stream",
     "text": [
      "100%|██████████| 43/43 [00:00<00:00, 45.37it/s]\n"
     ]
    },
    {
     "name": "stdout",
     "output_type": "stream",
     "text": [
      "sparse_ranking_2019 None\n"
     ]
    },
    {
     "name": "stderr",
     "output_type": "stream",
     "text": [
      " 64%|██████▎   | 7/11 [03:03<01:44, 26.19s/it]"
     ]
    },
    {
     "name": "stdout",
     "output_type": "stream",
     "text": [
      "Encoding queries for interpolation...\n"
     ]
    },
    {
     "name": "stderr",
     "output_type": "stream",
     "text": [
      "100%|██████████| 43/43 [00:00<00:00, 45.84it/s]\n"
     ]
    },
    {
     "name": "stdout",
     "output_type": "stream",
     "text": [
      "sparse_ranking_2019 None\n",
      "Encoding queries for RRF...\n"
     ]
    },
    {
     "name": "stderr",
     "output_type": "stream",
     "text": [
      "100%|██████████| 43/43 [00:00<00:00, 53.08it/s]\n"
     ]
    },
    {
     "name": "stdout",
     "output_type": "stream",
     "text": [
      "sparse_ranking_2019 None\n",
      "Encoding queries for interpolation...\n"
     ]
    },
    {
     "name": "stderr",
     "output_type": "stream",
     "text": [
      "100%|██████████| 43/43 [00:01<00:00, 26.74it/s]\n"
     ]
    },
    {
     "name": "stdout",
     "output_type": "stream",
     "text": [
      "sparse_ranking_2019 None\n"
     ]
    },
    {
     "name": "stderr",
     "output_type": "stream",
     "text": [
      " 73%|███████▎  | 8/11 [03:31<01:19, 26.65s/it]"
     ]
    },
    {
     "name": "stdout",
     "output_type": "stream",
     "text": [
      "Encoding queries for interpolation...\n"
     ]
    },
    {
     "name": "stderr",
     "output_type": "stream",
     "text": [
      "100%|██████████| 43/43 [00:00<00:00, 60.08it/s]\n"
     ]
    },
    {
     "name": "stdout",
     "output_type": "stream",
     "text": [
      "sparse_ranking_2019 None\n",
      "Encoding queries for RRF...\n"
     ]
    },
    {
     "name": "stderr",
     "output_type": "stream",
     "text": [
      "100%|██████████| 43/43 [00:00<00:00, 57.98it/s]\n"
     ]
    },
    {
     "name": "stdout",
     "output_type": "stream",
     "text": [
      "sparse_ranking_2019 None\n",
      "Encoding queries for interpolation...\n"
     ]
    },
    {
     "name": "stderr",
     "output_type": "stream",
     "text": [
      "100%|██████████| 43/43 [00:01<00:00, 35.19it/s]\n"
     ]
    },
    {
     "name": "stdout",
     "output_type": "stream",
     "text": [
      "sparse_ranking_2019 None\n"
     ]
    },
    {
     "name": "stderr",
     "output_type": "stream",
     "text": [
      " 82%|████████▏ | 9/11 [03:57<00:53, 26.56s/it]"
     ]
    },
    {
     "name": "stdout",
     "output_type": "stream",
     "text": [
      "Encoding queries for interpolation...\n"
     ]
    },
    {
     "name": "stderr",
     "output_type": "stream",
     "text": [
      "100%|██████████| 43/43 [00:00<00:00, 53.31it/s]\n"
     ]
    },
    {
     "name": "stdout",
     "output_type": "stream",
     "text": [
      "sparse_ranking_2019 None\n",
      "Encoding queries for RRF...\n"
     ]
    },
    {
     "name": "stderr",
     "output_type": "stream",
     "text": [
      "100%|██████████| 43/43 [00:00<00:00, 45.42it/s]\n"
     ]
    },
    {
     "name": "stdout",
     "output_type": "stream",
     "text": [
      "sparse_ranking_2019 None\n",
      "Encoding queries for interpolation...\n"
     ]
    },
    {
     "name": "stderr",
     "output_type": "stream",
     "text": [
      "100%|██████████| 43/43 [00:01<00:00, 39.45it/s]\n"
     ]
    },
    {
     "name": "stdout",
     "output_type": "stream",
     "text": [
      "sparse_ranking_2019 None\n"
     ]
    },
    {
     "name": "stderr",
     "output_type": "stream",
     "text": [
      " 91%|█████████ | 10/11 [04:24<00:26, 26.75s/it]"
     ]
    },
    {
     "name": "stdout",
     "output_type": "stream",
     "text": [
      "Encoding queries for interpolation...\n"
     ]
    },
    {
     "name": "stderr",
     "output_type": "stream",
     "text": [
      "100%|██████████| 43/43 [00:00<00:00, 52.89it/s]\n"
     ]
    },
    {
     "name": "stdout",
     "output_type": "stream",
     "text": [
      "sparse_ranking_2019 None\n",
      "Encoding queries for RRF...\n"
     ]
    },
    {
     "name": "stderr",
     "output_type": "stream",
     "text": [
      "100%|██████████| 43/43 [00:00<00:00, 64.42it/s]\n"
     ]
    },
    {
     "name": "stdout",
     "output_type": "stream",
     "text": [
      "sparse_ranking_2019 None\n",
      "Encoding queries for interpolation...\n"
     ]
    },
    {
     "name": "stderr",
     "output_type": "stream",
     "text": [
      "100%|██████████| 43/43 [00:00<00:00, 54.53it/s]\n"
     ]
    },
    {
     "name": "stdout",
     "output_type": "stream",
     "text": [
      "sparse_ranking_2019 None\n"
     ]
    },
    {
     "name": "stderr",
     "output_type": "stream",
     "text": [
      "100%|██████████| 11/11 [04:50<00:00, 26.39s/it]\n"
     ]
    }
   ],
   "source": [
    "with open(\n",
    "    \"../testing/msmarco-test2019-queries.tsv\",\n",
    "    encoding=\"utf-8\",\n",
    "    newline=\"\"\n",
    ") as fp:\n",
    "    queries = {q_id: q for q_id, q in csv.reader(fp, delimiter=\"\\t\")}\n",
    "print(f\"loaded {len(queries)} queries\")\n",
    "\n",
    "# define dictionary to keep track of best results for tested hyperparameters\n",
    "bestHyperparams2019 = {\n",
    "    'ccUnnormalized': {'precision': {'value': -1, 'alpha': 0}, 'recall': {'value': -1, 'alpha': 0}, 'fscore': {'value': -1, 'alpha': 0}, 'rr': {'value': -1, 'alpha': 0}, 'ndcg': {'value': -1, 'alpha': 0}},\n",
    "    'rrf': {'precision': {'value': -1, 'eta': 0}, 'recall': {'value': -1, 'eta': 0}, 'fscore': {'value': -1, 'eta': 0}, 'rr': {'value': -1, 'eta': 0}, 'ndcg': {'value': -1, 'eta': 0}},\n",
    "    'ccNormalized': {'precision': {'value': -1, 'alpha': 0}, 'recall': {'value': -1, 'alpha': 0}, 'fscore': {'value': -1, 'alpha': 0}, 'rr': {'value': -1, 'alpha': 0}, 'ndcg': {'value': -1, 'alpha': 0}},\n",
    "}\n",
    "\n",
    "\n",
    "for i in tqdm(range(len(etas))):\n",
    "    if alphas[i] == -1:\n",
    "        alpha = 1\n",
    "    else:\n",
    "        alpha = alphas[i]\n",
    "    eta = etas[i]\n",
    "\n",
    "    result = in_memory_index.get_scores(\n",
    "        sparse_ranking_2019,\n",
    "        queries,\n",
    "        alpha=alpha,\n",
    "        cutoff=None,\n",
    "        early_stopping=False,\n",
    "        normalise=False\n",
    "    )\n",
    "    result2 = in_memory_index.get_scores_rrf(\n",
    "        sparse_ranking_2019,\n",
    "        queries,\n",
    "        alpha=alpha,\n",
    "        cutoff=None,\n",
    "        early_stopping=False,\n",
    "        eta = eta\n",
    "    )\n",
    "    result3 = in_memory_index.get_scores(\n",
    "        sparse_ranking_2019,\n",
    "        queries,\n",
    "        alpha=alpha,\n",
    "        cutoff=None,\n",
    "        early_stopping=False,\n",
    "        normalise=True\n",
    "    )\n",
    "    qrels = list(read_trec_qrels(\"../testing/2019qrels-pass.txt\"))\n",
    "    bm25Res = calc_aggregate([nDCG@10, RR(rel=2)@10,P@10,R@10], qrels, sparse_ranking_2019.run)\n",
    "    fscoreBM25Res = (2*bm25Res[P@10]*bm25Res[R@10])/(bm25Res[P@10]+bm25Res[R@10])\n",
    "    # print(list(bm25Res.keys())[0])\n",
    "    # print(\n",
    "    #     \"BM25\",\n",
    "    #     bm25Res,\n",
    "    #     'f-score:{}'.format(fscoreBM25Res)\n",
    "    # )\n",
    "\n",
    "    interpolationRes = calc_aggregate([nDCG@10, RR(rel=2)@10,P@10,R@10], qrels, result[alpha].run)\n",
    "    fscoreInterpolationRes = (2*interpolationRes[P@10]*interpolationRes[R@10])/(interpolationRes[P@10]+interpolationRes[R@10])\n",
    "    # print(\n",
    "    #     f\"Interpolation\",\n",
    "    #     interpolationRes,\n",
    "    #     'f-score:{}'.format(fscoreInterpolationRes)\n",
    "    # )\n",
    "\n",
    "    rrfRes = calc_aggregate([nDCG@10, RR(rel=2)@10,P@10,R@10], qrels, result2[alpha].run)\n",
    "    fscoreRRRes = (2*rrfRes[P@10]*rrfRes[R@10])/(rrfRes[P@10]+rrfRes[R@10])\n",
    "    # print(\n",
    "    #     f\"RRF\",\n",
    "    #     rrfRes,\n",
    "    #     'f-score:{}'.format(fscoreRRRes)\n",
    "    # )\n",
    "\n",
    "    interpolationMinMax = calc_aggregate([nDCG@10, RR(rel=2)@10,P@10,R@10], qrels, result3[alpha].run)\n",
    "    fscoreInterpolationMinMax = (2*interpolationMinMax[P@10]*interpolationMinMax[R@10])/(interpolationMinMax[P@10]+interpolationMinMax[R@10])\n",
    "    # print(\n",
    "    #     f\"Interpolation w/ minimax\",\n",
    "    #     interpolationMinMax,\n",
    "    #     'f-score:{}'.format(fscoreInterpolationMinMax)\n",
    "    # )\n",
    "\n",
    "    # update dictionary of best parameters per method\n",
    "    if interpolationRes[P@10] > bestHyperparams2019['ccUnnormalized']['precision']['value']:\n",
    "        bestHyperparams2019['ccUnnormalized']['precision']['value'] = interpolationRes[P@10]\n",
    "        bestHyperparams2019['ccUnnormalized']['precision']['alpha'] = alpha\n",
    "\n",
    "    if interpolationRes[R@10] > bestHyperparams2019['ccUnnormalized']['recall']['value']:\n",
    "        bestHyperparams2019['ccUnnormalized']['recall']['value'] = interpolationRes[R@10]\n",
    "        bestHyperparams2019['ccUnnormalized']['recall']['alpha'] = alpha\n",
    "\n",
    "    # try:\n",
    "    #     if interpolationRes[nDCG@10] > bestHyperparams2019['ccUnnormalized']['ndcg']['value']:\n",
    "    #         bestHyperparams2019['ccUnnormalized']['ndcg']['value'] = interpolationRes[nDCG@10]\n",
    "    #         bestHyperparams2019['ccUnnormalized']['recall']['alpha'] = alpha\n",
    "    # except:\n",
    "    #     print(interpolationRes)\n",
    "    #     print(bestHyperparams2019['ccNormalized']['ndcg']['value'])\n",
    "    if interpolationRes[nDCG@10] > bestHyperparams2019['ccUnnormalized']['ndcg']['value']:\n",
    "            bestHyperparams2019['ccUnnormalized']['ndcg']['value'] = interpolationRes[nDCG@10]\n",
    "            bestHyperparams2019['ccUnnormalized']['recall']['alpha'] = alpha\n",
    "\n",
    "    if interpolationRes[RR(rel=2)@10] > bestHyperparams2019['ccUnnormalized']['rr']['value']:\n",
    "        bestHyperparams2019['ccUnnormalized']['rr']['value'] = interpolationRes[RR(rel=2)@10]\n",
    "        bestHyperparams2019['ccUnnormalized']['recall']['alpha'] = alpha\n",
    "    \n",
    "    if fscoreInterpolationRes > bestHyperparams2019['ccUnnormalized']['fscore']['value']:\n",
    "        bestHyperparams2019['ccUnnormalized']['fscore']['value'] = fscoreInterpolationRes\n",
    "        bestHyperparams2019['ccUnnormalized']['recall']['alpha'] = alpha\n",
    "\n",
    "    if rrfRes[P@10] > bestHyperparams2019['rrf']['precision']['value']:\n",
    "        bestHyperparams2019['rrf']['precision']['value'] = rrfRes[P@10]\n",
    "        bestHyperparams2019['rrf']['precision']['eta'] = eta\n",
    "\n",
    "\n",
    "    if rrfRes[R@10] > bestHyperparams2019['rrf']['recall']['value']:\n",
    "        bestHyperparams2019['rrf']['recall']['value'] = rrfRes[R@10]\n",
    "        bestHyperparams2019['rrf']['recall']['eta'] = eta\n",
    "\n",
    "\n",
    "    if rrfRes[nDCG@10] > bestHyperparams2019['rrf']['ndcg']['value']:\n",
    "        bestHyperparams2019['rrf']['ndcg']['value'] = rrfRes[nDCG@10]\n",
    "        bestHyperparams2019['rrf']['ndcg']['eta'] = eta\n",
    "\n",
    "    if rrfRes[RR(rel=2)@10] > bestHyperparams2019['rrf']['rr']['value']:\n",
    "        bestHyperparams2019['rrf']['rr']['value'] = rrfRes[RR(rel=2)@10]\n",
    "        bestHyperparams2019['rrf']['rr']['eta'] = eta\n",
    "    \n",
    "    if fscoreRRRes > bestHyperparams2019['rrf']['fscore']['value']:\n",
    "        bestHyperparams2019['rrf']['fscore']['value'] = fscoreRRRes\n",
    "        bestHyperparams2019['rrf']['fscore']['eta'] = eta\n",
    "    \n",
    "    if interpolationMinMax[P@10] > bestHyperparams2019['ccNormalized']['precision']['value']:\n",
    "        bestHyperparams2019['ccNormalized']['precision']['value'] = interpolationMinMax[P@10]\n",
    "        bestHyperparams2019['ccNormalized']['precision']['alpha'] = alpha\n",
    "\n",
    "    if interpolationMinMax[R@10] > bestHyperparams2019['ccNormalized']['recall']['value']:\n",
    "        bestHyperparams2019['ccNormalized']['recall']['value'] = interpolationMinMax[R@10]\n",
    "        bestHyperparams2019['ccNormalized']['recall']['alpha'] = alpha\n",
    "\n",
    "    if interpolationMinMax[nDCG@10] > bestHyperparams2019['ccNormalized']['ndcg']['value']:\n",
    "        bestHyperparams2019['ccNormalized']['ndcg']['value'] = interpolationMinMax[nDCG@10]\n",
    "        bestHyperparams2019['ccNormalized']['ndcg']['alpha'] = alpha\n",
    "\n",
    "    if interpolationMinMax[RR(rel=2)@10] > bestHyperparams2019['ccNormalized']['rr']['value']:\n",
    "        bestHyperparams2019['ccNormalized']['rr']['value'] = interpolationMinMax[RR(rel=2)@10]\n",
    "        bestHyperparams2019['ccNormalized']['rr']['alpha'] = alpha\n",
    "    \n",
    "    if fscoreInterpolationMinMax > bestHyperparams2019['ccNormalized']['fscore']['value']:\n",
    "        bestHyperparams2019['ccNormalized']['fscore']['value'] = fscoreInterpolationMinMax\n",
    "        bestHyperparams2019['ccNormalized']['fscore']['alpha'] = alpha"
   ]
  },
  {
   "cell_type": "code",
   "execution_count": null,
   "metadata": {},
   "outputs": [
    {
     "name": "stdout",
     "output_type": "stream",
     "text": [
      "{'precision': {'value': 0.8162790697674417, 'alpha': 0.2}, 'recall': {'value': 0.1738814669940891, 'alpha': 0.3}, 'fscore': {'value': 0.2862453288247246, 'alpha': 0.2}, 'rr': {'value': 0.9085271317829459, 'alpha': 0.3}, 'ndcg': {'value': 0.7229942609361282, 'alpha': 0.2}}\n",
      "{'precision': {'value': 0.8186046511627906, 'alpha': 0.1}, 'recall': {'value': 0.17310336499562762, 'alpha': 0.2}, 'fscore': {'value': 0.28505912645948106, 'alpha': 0}, 'rr': {'value': 0.901937984496124, 'alpha': 0}, 'ndcg': {'value': 0.7165204423861108, 'alpha': 0}}\n",
      "{'precision': {'value': 0.786046511627907, 'eta': 30}, 'recall': {'value': 0.16940453859382448, 'eta': 30}, 'fscore': {'value': 0.2787371400862628, 'eta': 30}, 'rr': {'value': 0.8976744186046512, 'eta': 20}, 'ndcg': {'value': 0.6941555201129092, 'eta': 30}}\n"
     ]
    }
   ],
   "source": [
    "print(bestHyperparams2019['ccNormalized'])\n",
    "print(bestHyperparams2019['ccUnnormalized'])\n",
    "print(bestHyperparams2019['rrf'])"
   ]
  },
  {
   "cell_type": "code",
   "execution_count": null,
   "metadata": {},
   "outputs": [],
   "source": [
    "with open(\n",
    "    \"../../dev/testing/msmarco-test2020-queries.tsv\",\n",
    "    encoding=\"utf-8\",\n",
    "    newline=\"\"\n",
    ") as fp:\n",
    "    queries = {q_id: q for q_id, q in csv.reader(fp, delimiter=\"\\t\")}\n",
    "print(f\"loaded {len(queries)} queries\")\n",
    "\n",
    "# define dictionary to keep track of best results for tested hyperparameters\n",
    "bestHyperparams2020 = {\n",
    "    'ccUnnormalized': {'precision': -1, 'recall': -1, 'fscore': -1, 'rr': -1, 'ndcg': -1},\n",
    "    'rrf': {'precision': -1, 'recall': -1, 'fscore': -1, 'rr': -1, 'ndcg': -1},\n",
    "    'ccNormalized': {'precision': -1, 'recall': -1, 'fscore': -1, 'rr': -1, 'ndcg': -1}\n",
    "}\n",
    "\n",
    "alpha = 0.2\n",
    "eta = 60\n",
    "# for i in range(len(etas)):\n",
    "#     if alphas[i] == -1:\n",
    "#         alpha = 1\n",
    "#     eta = etas[i]\n",
    "\n",
    "result = in_memory_index.get_scores(\n",
    "    sparse_ranking_2020,\n",
    "    queries,\n",
    "    alpha=alpha,\n",
    "    cutoff=None,\n",
    "    early_stopping=False,\n",
    "    normalise=False\n",
    ")\n",
    "result2 = in_memory_index.get_scores_rrf(\n",
    "    sparse_ranking_2020,\n",
    "    queries,\n",
    "    alpha=alpha,\n",
    "    cutoff=None,\n",
    "    early_stopping=False,\n",
    "    eta = eta\n",
    ")\n",
    "result3 = in_memory_index.get_scores(\n",
    "    sparse_ranking_2020,\n",
    "    queries,\n",
    "    alpha=alpha,\n",
    "    cutoff=None,\n",
    "    early_stopping=False,\n",
    "    normalise=True\n",
    ")\n",
    "qrels = list(read_trec_qrels(\"../../dev/testing/2020qrels-pass.txt\"))\n",
    "bm25Res2 = calc_aggregate([nDCG@10, RR(rel=2)@10,P@10,R@10], qrels, sparse_ranking_2020.run)\n",
    "fscoreBM25Res2 = (2*bm25Res2[P@10]*bm25Res2[R@10])/(bm25Res2[P@10]+bm25Res2[R@10])\n",
    "print(\n",
    "    \"BM25\",\n",
    "    bm25Res2,\n",
    "    'f-score:{}'.format(fscoreBM25Res2)\n",
    ")\n",
    "\n",
    "\n",
    "interpolation2 = calc_aggregate([nDCG@10, RR(rel=2)@10,P@10,R@10], qrels, result[alpha].run)\n",
    "fscoreInterpolation2 = (2*interpolation2[P@10]*interpolation2[R@10])/(interpolation2[P@10]+interpolation2[R@10])\n",
    "print(\n",
    "    f\"Interpolation\",\n",
    "    interpolation2,\n",
    "    'f-score:{}'.format(fscoreInterpolation2)\n",
    ")\n",
    "\n",
    "rrf2 = calc_aggregate([nDCG@10, RR(rel=2)@10,P@10,R@10], qrels, result2[alpha].run)\n",
    "fscoreRRF2 = (2*rrf2[P@10]*rrf2[R@10])/(rrf2[P@10]+rrf2[R@10])\n",
    "print(\n",
    "    f\"RRF\",\n",
    "    rrf2,\n",
    "    'f-score:{}'.format(fscoreRRF2)\n",
    ")\n",
    "\n",
    "\n",
    "interpolationMinmax2 = calc_aggregate([nDCG@10, RR(rel=2)@10,P@10,R@10], qrels, result3[alpha].run)\n",
    "fscoreInterpolationMinMax2 = (2*interpolationMinmax2[P@10]*interpolationMinmax2[R@10])/(interpolationMinmax2[P@10]+interpolationMinmax2[R@10])\n",
    "print(\n",
    "    f\"Interpolation w/ minimax\",\n",
    "    interpolationMinmax2,\n",
    "    'f-score:{}'.format(fscoreInterpolationMinMax2)\n",
    ")\n",
    "\n",
    "   # update dictionary of best parameters per method\n",
    "    # if interpolation2[P@10] > bestHyperparams2020['ccUnnormalized']['precision']:\n",
    "    #     bestHyperparams2020['ccUnnormalized']['precision'] = interpolation2[P@10]\n",
    "\n",
    "    # if interpolation2[R@10] > bestHyperparams2020['ccUnnormalized']['recall']:\n",
    "    #     bestHyperparams2020['ccUnnormalized']['recall'] = interpolation2[R@10]\n",
    "\n",
    "    # if interpolation2[nDCG@10] > bestHyperparams2020['ccUnnormalized']['ndcg']:\n",
    "    #     bestHyperparams2020['ccUnnormalized']['ndcg'] = interpolation2[nDCG@10]\n",
    "\n",
    "    # if interpolation2[RR(rel=2)@10] > bestHyperparams2020['ccUnnormalized']['rr']:\n",
    "    #     bestHyperparams2020['ccUnnormalized']['rr'] = interpolation2[RR(rel=2)@10]\n",
    "    \n",
    "    # if fscoreInterpolation2 > bestHyperparams2020['ccUnnormalized']['fscore']:\n",
    "    #     bestHyperparams2020['ccUnnormalized']['fscore'] = fscoreInterpolation2\n",
    "\n",
    "    # if rrf2[P@10] > bestHyperparams2020['rrf']['precision']:\n",
    "    #     bestHyperparams2020['rrf']['precision'] = rrf2[P@10]\n",
    "\n",
    "    # if rrf2[R@10] > bestHyperparams2020['rrf']['recall']:\n",
    "    #     bestHyperparams2020['rrf']['recall'] = rrf2[R@10]\n",
    "\n",
    "    # if rrf2[nDCG@10] > bestHyperparams2020['rrf']['ndcg']:\n",
    "    #     bestHyperparams2020['rrf']['ndcg'] = rrf2[nDCG@10]\n",
    "\n",
    "    # if rrf2[RR(rel=2)@10] > bestHyperparams2020['rrf']['rr']:\n",
    "    #     bestHyperparams2020['rrf']['rr'] = rrf2[RR(rel=2)@10]\n",
    "    \n",
    "    # if fscoreRRF2 > bestHyperparams2020['rrf']['fscore']:\n",
    "    #     bestHyperparams2020['rrf']['fscore'] = fscoreRRF2\n",
    "    \n",
    "    # if interpolationMinmax2[P@10] > bestHyperparams2020['ccNormalized']['precision']:\n",
    "    #     bestHyperparams2020['ccNormalized']['precision'] = interpolationMinmax2[P@10]\n",
    "\n",
    "    # if interpolationMinmax2[R@10] > bestHyperparams2020['ccNormalized']['recall']:\n",
    "    #     bestHyperparams2020['ccNormalized']['recall'] = interpolationMinmax2[R@10]\n",
    "\n",
    "    # if interpolationMinmax2[nDCG@10] > bestHyperparams2020['ccNormalized']['ndcg']:\n",
    "    #     bestHyperparams2020['ccNormalized']['ndcg'] = interpolationMinmax2[nDCG@10]\n",
    "\n",
    "    # if interpolationMinmax2[RR(rel=2)@10] > bestHyperparams2020['ccNormalized']['rr']:\n",
    "    #     bestHyperparams2020['ccNormalized']['rr'] = interpolationMinmax2[RR(rel=2)@10]\n",
    "    \n",
    "    # if fscoreInterpolationMinMax2 > bestHyperparams2020['ccNormalized']['fscore']:\n",
    "    #     bestHyperparams2020['ccNormalized']['fscore'] = fscoreInterpolationMinMax2\n",
    "\n",
    "    "
   ]
  }
 ],
 "metadata": {
  "kernelspec": {
   "display_name": "Python 3",
   "language": "python",
   "name": "python3"
  },
  "language_info": {
   "codemirror_mode": {
    "name": "ipython",
    "version": 3
   },
   "file_extension": ".py",
   "mimetype": "text/x-python",
   "name": "python",
   "nbconvert_exporter": "python",
   "pygments_lexer": "ipython3",
   "version": "3.11.2"
  },
  "orig_nbformat": 4
 },
 "nbformat": 4,
 "nbformat_minor": 2
}
