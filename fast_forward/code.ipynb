{
 "cells": [
  {
   "attachments": {},
   "cell_type": "markdown",
   "metadata": {},
   "source": [
    "# Initialising the code"
   ]
  },
  {
   "cell_type": "code",
   "execution_count": 12,
   "metadata": {},
   "outputs": [],
   "source": [
    "import csv\n",
    "from pathlib import Path\n",
    "import numpy as np\n",
    "from ranking import Ranking\n",
    "from index import Mode, InMemoryIndex\n",
    "from encoder import TCTColBERTQueryEncoder as TCTColBERTQueryEncoderFF\n",
    "# from pyserini.search.faiss import FaissSearcher, TctColBertQueryEncoder\n",
    "from ir_measures import read_trec_qrels, calc_aggregate, nDCG, RR, P, R, AP, MAP\n",
    "import sys\n",
    "from tqdm import tqdm\n",
    "\n",
    "# define values of eta to test \n",
    "etas = [10,20,30,40,50,60,70,80,90,100,500]\n",
    "\n",
    "# define values of alpha to test\n",
    "alphas = [0.0,0.1,0.2,0.3,0.4,0.5,0.6,0.7,0.8,0.9,1.0,-1.0]"
   ]
  },
  {
   "cell_type": "code",
   "execution_count": 13,
   "metadata": {},
   "outputs": [
    {
     "name": "stderr",
     "output_type": "stream",
     "text": [
      "Some weights of the model checkpoint at castorini/tct_colbert-msmarco were not used when initializing BertModel: ['cls.seq_relationship.weight', 'cls.predictions.bias', 'cls.predictions.decoder.weight', 'cls.predictions.transform.dense.weight', 'cls.predictions.transform.dense.bias', 'cls.predictions.transform.LayerNorm.bias', 'cls.seq_relationship.bias', 'cls.predictions.decoder.bias', 'cls.predictions.transform.LayerNorm.weight']\n",
      "- This IS expected if you are initializing BertModel from the checkpoint of a model trained on another task or with another architecture (e.g. initializing a BertForSequenceClassification model from a BertForPreTraining model).\n",
      "- This IS NOT expected if you are initializing BertModel from the checkpoint of a model that you expect to be exactly identical (initializing a BertForSequenceClassification model from a BertForSequenceClassification model).\n"
     ]
    }
   ],
   "source": [
    "# in_memory_index = InMemoryIndex(mode=Mode.PASSAGE, encoder=TCTColBERTQueryEncoderFF(\"castorini/tct_colbert-msmarco\"))\n",
    "in_memory_index = InMemoryIndex.from_disk('../testing/ffindex_passage_2019_2020.pkl')\n",
    "in_memory_index.encoder = TCTColBERTQueryEncoderFF(\"castorini/tct_colbert-msmarco\")"
   ]
  },
  {
   "cell_type": "code",
   "execution_count": 14,
   "metadata": {},
   "outputs": [
    {
     "name": "stdout",
     "output_type": "stream",
     "text": [
      "indexing 440079 documents or passages\n"
     ]
    }
   ],
   "source": [
    "sparse_ranking_2019 = Ranking.from_file(Path(\"../testing/msmarco-passage-test2019-sparse10000.txt\"))\n",
    "sparse_ranking_2019.cut(5000)\n",
    "sparse_ranking_2019.name = \"sparse_ranking_2019\"\n",
    "sparse_ranking_2020 = Ranking.from_file(Path(\"../testing/msmarco-passage-test2020-sparse10000.txt\"))\n",
    "sparse_ranking_2020.cut(5000)\n",
    "sparse_ranking_2020.name = \"sparse_ranking_2020\"\n",
    "all_ids = set.union(\n",
    "    *[set(sparse_ranking_2019[q_id].keys()) for q_id in sparse_ranking_2019.q_ids],\n",
    "    *[set(sparse_ranking_2020[q_id].keys()) for q_id in sparse_ranking_2020.q_ids]\n",
    ")\n",
    "print(f\"indexing {len(all_ids)} documents or passages\")"
   ]
  },
  {
   "attachments": {},
   "cell_type": "markdown",
   "metadata": {},
   "source": [
    "## Testing the implemented retrieval functions"
   ]
  },
  {
   "cell_type": "code",
   "execution_count": 15,
   "metadata": {},
   "outputs": [
    {
     "name": "stdout",
     "output_type": "stream",
     "text": [
      "loaded 200 queries\n",
      "Encoding queries for interpolation...\n"
     ]
    },
    {
     "name": "stderr",
     "output_type": "stream",
     "text": [
      "100%|██████████| 43/43 [00:01<00:00, 40.40it/s]\n"
     ]
    },
    {
     "name": "stdout",
     "output_type": "stream",
     "text": [
      "sparse_ranking_2019 None\n",
      "Encoding queries for RRF...\n"
     ]
    },
    {
     "name": "stderr",
     "output_type": "stream",
     "text": [
      "100%|██████████| 43/43 [00:00<00:00, 63.23it/s]\n"
     ]
    },
    {
     "name": "stdout",
     "output_type": "stream",
     "text": [
      "Encoding queries for RRF...\n"
     ]
    },
    {
     "name": "stderr",
     "output_type": "stream",
     "text": [
      "100%|██████████| 43/43 [00:00<00:00, 83.05it/s]\n"
     ]
    },
    {
     "name": "stdout",
     "output_type": "stream",
     "text": [
      "BM25 {RR(rel=2)@10: 0.7024178663713547, nDCG@10: 0.5058310024399072}\n",
      "Interpolation {RR(rel=2)@10: 0.901937984496124, nDCG@10: 0.7158066715626034}\n",
      "RRF {RR(rel=2)@10: 0.8775193798449613, nDCG@10: 0.6816417471378418}\n",
      "rrf with eta_lex = 60 and eta_sem = 10 {RR(rel=2)@10: 0.8418604651162791, nDCG@10: 0.6989395186704049}\n"
     ]
    }
   ],
   "source": [
    "with open(\n",
    "    \"../testing/msmarco-test2019-queries.tsv\",\n",
    "    encoding=\"utf-8\",\n",
    "    newline=\"\"\n",
    ") as fp:\n",
    "    queries = {q_id: q for q_id, q in csv.reader(fp, delimiter=\"\\t\")}\n",
    "print(f\"loaded {len(queries)} queries\")\n",
    "\n",
    "alpha = 0.2\n",
    "result = in_memory_index.get_scores(\n",
    "    sparse_ranking_2019,\n",
    "    queries,\n",
    "    alpha=alpha,\n",
    "    cutoff=None,\n",
    "    early_stopping=False,\n",
    "    normalise=False\n",
    ")\n",
    "result2 = in_memory_index.get_scores_rrf(\n",
    "    sparse_ranking_2019,\n",
    "    queries,\n",
    "    alpha=alpha,\n",
    "    cutoff=None,\n",
    "    early_stopping=False,\n",
    ")\n",
    "result3 = in_memory_index.get_scores_rrf(\n",
    "    sparse_ranking_2019,\n",
    "    queries,\n",
    "    alpha=alpha,\n",
    "    cutoff=None,\n",
    "    early_stopping=False,\n",
    "    eta=60,\n",
    "    eta2=10,\n",
    ")\n",
    "qrels = list(read_trec_qrels(\"../testing/2019qrels-pass.txt\"))\n",
    "print(\n",
    "    \"BM25\",\n",
    "    calc_aggregate([nDCG@10, RR(rel=2)@10], qrels, sparse_ranking_2019.run)\n",
    ")\n",
    "print(\n",
    "    f\"Interpolation\",\n",
    "    calc_aggregate([nDCG@10, RR(rel=2)@10], qrels, result[alpha].run)\n",
    ")\n",
    "print(\n",
    "    f\"RRF\",\n",
    "    calc_aggregate([nDCG@10, RR(rel=2)@10], qrels, result2[alpha].run)\n",
    ")\n",
    "print(\n",
    "    f\"rrf with eta_lex = 60 and eta_sem = 10\",\n",
    "    calc_aggregate([nDCG@10, RR(rel=2)@10], qrels, result3[alpha].run)\n",
    ")"
   ]
  },
  {
   "attachments": {},
   "cell_type": "markdown",
   "metadata": {},
   "source": [
    "# Validation on 2019 set"
   ]
  },
  {
   "attachments": {},
   "cell_type": "markdown",
   "metadata": {},
   "source": [
    "## Validation on the convex combination with two types of normalisation"
   ]
  },
  {
   "cell_type": "code",
   "execution_count": null,
   "metadata": {},
   "outputs": [],
   "source": [
    "with open(\n",
    "    \"../testing/msmarco-test2019-queries.tsv\",\n",
    "    encoding=\"utf-8\",\n",
    "    newline=\"\"\n",
    ") as fp:\n",
    "    queries = {q_id: q for q_id, q in csv.reader(fp, delimiter=\"\\t\")}\n",
    "print(f\"loaded {len(queries)} queries\")\n",
    "\n",
    "# define dictionary to keep track of best results for tested hyperparameters\n",
    "bestHyperparams2019 = {\n",
    "    'ccUnnormalized': {'precision': {'value': -1, 'alpha': 0}, 'recall': {'value': -1, 'alpha': 0}, 'fscore': {'value': -1, 'alpha': 0}, 'rr': {'value': -1, \n",
    "'alpha': 0}, 'ndcg': {'value': -1, 'alpha': 0}, 'map': {'value': -1, 'alpha': 0}},\n",
    "    'ccNormalized_minimax': {'precision': {'value': -1, 'alpha': 0}, 'recall': {'value': -1, 'alpha': 0}, 'fscore': {'value': -1, 'alpha': 0}, 'rr': {'value': -1, \n",
    "'alpha': 0}, 'ndcg': {'value': -1, 'alpha': 0}, 'map': {'value': -1, 'alpha': 0}},\n",
    "'ccNormalized_zscore': {'precision': {'value': -1, 'alpha': 0}, 'recall': {'value': -1, 'alpha': 0}, 'fscore': {'value': -1, 'alpha': 0}, 'rr': {'value': -1, \n",
    "'alpha': 0}, 'ndcg': {'value': -1, 'alpha': 0}, 'map': {'value': -1, 'alpha': 0}},\n",
    "}\n",
    "\n",
    "\n",
    "for i in tqdm(range(len(etas))):\n",
    "    alpha = alphas[i]\n",
    "    eta = etas[i]\n",
    "\n",
    "    result = in_memory_index.get_scores(\n",
    "        sparse_ranking_2019,\n",
    "        queries,\n",
    "        alpha=alpha,\n",
    "        cutoff=None,\n",
    "        early_stopping=False,\n",
    "        normalise=\"none\"\n",
    "    )\n",
    "    result2 = in_memory_index.get_scores(\n",
    "        sparse_ranking_2019,\n",
    "        queries,\n",
    "        alpha=alpha,\n",
    "        cutoff=None,\n",
    "        early_stopping=False,\n",
    "        normalise=\"minimax\"\n",
    "    )\n",
    "    result3 = in_memory_index.get_scores(\n",
    "        sparse_ranking_2019,\n",
    "        queries,\n",
    "        alpha=alpha,\n",
    "        cutoff=None,\n",
    "        early_stopping=False,\n",
    "        normalise=\"zscore\"\n",
    "    )\n",
    "    qrels = list(read_trec_qrels(\"../testing/2019qrels-pass.txt\"))\n",
    "\n",
    "    interpolationRes = calc_aggregate([nDCG@10, RR(rel=2)@10,P(rel=2)@10,R(rel=2)@10, AP(rel=2)@10], qrels, result[alpha].run)\n",
    "    fscoreInterpolationRes = (2*interpolationRes[P(rel=2)@10]*interpolationRes[R(rel=2)@10])/(interpolationRes[P(rel=2)@10]+interpolationRes[R(rel=2)@10])\n",
    "\n",
    "    interpolationMinMax = calc_aggregate([nDCG@10, RR(rel=2)@10,P(rel=2)@10,R(rel=2)@10, AP(rel=2)@10], qrels, result2[alpha].run)\n",
    "    fscoreInterpolationMinMax = (2*interpolationMinMax[P(rel=2)@10]*interpolationMinMax[R(rel=2)@10])/(interpolationMinMax[P(rel=2)@10]+interpolationMinMax[R(rel=2)@10])\n",
    "\n",
    "    interpolationZscore = calc_aggregate([nDCG@10, RR(rel=2)@10,P(rel=2)@10,R(rel=2)@10, AP(rel=2)@10], qrels, result3[alpha].run)\n",
    "    fscoreInterpolationZscore = (2*interpolationZscore[P(rel=2)@10]*interpolationZscore[R(rel=2)@10])/(interpolationZscore[P(rel=2)@10]+interpolationZscore[R(rel=2)@10])\n",
    "\n",
    "    # update dictionary of best parameters per method\n",
    "    if interpolationRes[P(rel=2)@10] > bestHyperparams2019['ccUnnormalized']['precision']['value']:\n",
    "        bestHyperparams2019['ccUnnormalized']['precision']['value'] = interpolationRes[P(rel=2)@10]\n",
    "        bestHyperparams2019['ccUnnormalized']['precision']['alpha'] = alpha\n",
    "\n",
    "    if interpolationRes[R(rel=2)@10] > bestHyperparams2019['ccUnnormalized']['recall']['value']:\n",
    "        bestHyperparams2019['ccUnnormalized']['recall']['value'] = interpolationRes[R(rel=2)@10]\n",
    "        bestHyperparams2019['ccUnnormalized']['recall']['alpha'] = alpha\n",
    "\n",
    "    if interpolationRes[nDCG@10] > bestHyperparams2019['ccUnnormalized']['ndcg']['value']:\n",
    "        bestHyperparams2019['ccUnnormalized']['ndcg']['value'] = interpolationRes[nDCG@10]\n",
    "        bestHyperparams2019['ccUnnormalized']['ndcg']['alpha'] = alpha\n",
    "\n",
    "    if interpolationRes[RR(rel=2)@10] > bestHyperparams2019['ccUnnormalized']['rr']['value']:\n",
    "        bestHyperparams2019['ccUnnormalized']['rr']['value'] = interpolationRes[RR(rel=2)@10]\n",
    "        bestHyperparams2019['ccUnnormalized']['rr']['alpha'] = alpha\n",
    "\n",
    "    if interpolationRes[AP(rel=2)@10] > bestHyperparams2019['ccUnnormalized']['map']['value']:\n",
    "        bestHyperparams2019['ccUnnormalized']['map']['value'] = interpolationRes[AP(rel=2)@10]\n",
    "        bestHyperparams2019['ccUnnormalized']['map']['alpha'] = alpha\n",
    "    \n",
    "    if fscoreInterpolationRes > bestHyperparams2019['ccUnnormalized']['fscore']['value']:\n",
    "        bestHyperparams2019['ccUnnormalized']['fscore']['value'] = fscoreInterpolationRes\n",
    "        bestHyperparams2019['ccUnnormalized']['fscore']['alpha'] = alpha\n",
    "    \n",
    "    if interpolationMinMax[P(rel=2)@10] > bestHyperparams2019['ccNormalized_minimax']['precision']['value']:\n",
    "        bestHyperparams2019['ccNormalized_minimax']['precision']['value'] = interpolationMinMax[P(rel=2)@10]\n",
    "        bestHyperparams2019['ccNormalized_minimax']['precision']['alpha'] = alpha\n",
    "\n",
    "    if interpolationMinMax[R(rel=2)@10] > bestHyperparams2019['ccNormalized_minimax']['recall']['value']:\n",
    "        bestHyperparams2019['ccNormalized_minimax']['recall']['value'] = interpolationMinMax[R(rel=2)@10]\n",
    "        bestHyperparams2019['ccNormalized_minimax']['recall']['alpha'] = alpha\n",
    "\n",
    "    if interpolationMinMax[nDCG@10] > bestHyperparams2019['ccNormalized_minimax']['ndcg']['value']:\n",
    "        bestHyperparams2019['ccNormalized_minimax']['ndcg']['value'] = interpolationMinMax[nDCG@10]\n",
    "        bestHyperparams2019['ccNormalized_minimax']['ndcg']['alpha'] = alpha\n",
    "\n",
    "    if interpolationMinMax[RR(rel=2)@10] > bestHyperparams2019['ccNormalized_minimax']['rr']['value']:\n",
    "        bestHyperparams2019['ccNormalized_minimax']['rr']['value'] = interpolationMinMax[RR(rel=2)@10]\n",
    "        bestHyperparams2019['ccNormalized_minimax']['rr']['alpha'] = alpha\n",
    "    \n",
    "    if fscoreInterpolationMinMax > bestHyperparams2019['ccNormalized_minimax']['fscore']['value']:\n",
    "        bestHyperparams2019['ccNormalized_minimax']['fscore']['value'] = fscoreInterpolationMinMax\n",
    "        bestHyperparams2019['ccNormalized_minimax']['fscore']['alpha'] = alpha\n",
    "    \n",
    "    if interpolationMinMax[AP(rel=2)@10] > bestHyperparams2019['ccNormalized_minimax']['map']['value']:\n",
    "        bestHyperparams2019['ccNormalized_minimax']['map']['value'] = interpolationMinMax[AP(rel=2)@10]\n",
    "        bestHyperparams2019['ccNormalized_minimax']['map']['alpha'] = alpha\n",
    "\n",
    "    if interpolationMinMax[P(rel=2)@10] > bestHyperparams2019['ccNormalized_zscore']['precision']['value']:\n",
    "        bestHyperparams2019['ccNormalized_zscore']['precision']['value'] = interpolationZscore[P(rel=2)@10]\n",
    "        bestHyperparams2019['ccNormalized_zscore']['precision']['alpha'] = alpha\n",
    "\n",
    "    if interpolationZscore[R(rel=2)@10] > bestHyperparams2019['ccNormalized_zscore']['recall']['value']:\n",
    "        bestHyperparams2019['ccNormalized_zscore']['recall']['value'] =interpolationZscore[R(rel=2)@10]\n",
    "        bestHyperparams2019['ccNormalized_zscore']['recall']['alpha'] = alpha\n",
    "\n",
    "    if interpolationZscore[nDCG@10] > bestHyperparams2019['ccNormalized_zscore']['ndcg']['value']:\n",
    "        bestHyperparams2019['ccNormalized_zscore']['ndcg']['value'] =interpolationZscore[nDCG@10]\n",
    "        bestHyperparams2019['ccNormalized_zscore']['ndcg']['alpha'] = alpha\n",
    "\n",
    "    if interpolationZscore[RR(rel=2)@10] > bestHyperparams2019['ccNormalized_zscore']['rr']['value']:\n",
    "        bestHyperparams2019['ccNormalized_zscore']['rr']['value'] =interpolationZscore[RR(rel=2)@10]\n",
    "        bestHyperparams2019['ccNormalized_zscore']['rr']['alpha'] = alpha\n",
    "    \n",
    "    if fscoreInterpolationZscore > bestHyperparams2019['ccNormalized_zscore']['fscore']['value']:\n",
    "        bestHyperparams2019['ccNormalized_zscore']['fscore']['value'] = fscoreInterpolationZscore\n",
    "        bestHyperparams2019['ccNormalized_zscore']['fscore']['alpha'] = alpha\n",
    "    \n",
    "    if interpolationZscore[AP(rel=2)@10] > bestHyperparams2019['ccNormalized_zscore']['map']['value']:\n",
    "        bestHyperparams2019['ccNormalized_zscore']['map']['value'] =interpolationZscore[AP(rel=2)@10]\n",
    "        bestHyperparams2019['ccNormalized_zscore']['map']['alpha'] = alpha"
   ]
  },
  {
   "cell_type": "code",
   "execution_count": 16,
   "metadata": {},
   "outputs": [
    {
     "name": "stdout",
     "output_type": "stream",
     "text": [
      "{'precision': {'value': 0.6279069767441862, 'alpha': 0.1}, 'recall': {'value': 0.27300662836997697, 'alpha': 0.2}, 'fscore': {'value': 0.37969451880260424, 'alpha': 0.2}, 'rr': {'value': 0.901937984496124, 'alpha': 0.2}, 'ndcg': {'value': 0.7165204423861107, 'alpha': 0.1}, 'map': {'value': 0.21189662633253067, 'alpha': 0.1}}\n",
      "{'precision': {'value': 0.6348837209302324, 'alpha': 0.2}, 'recall': {'value': 0.27191141589433454, 'alpha': 0.1}, 'fscore': {'value': 0.38033293287532133, 'alpha': 0.1}, 'rr': {'value': 0.9085271317829459, 'alpha': 0.3}, 'ndcg': {'value': 0.7229942609361281, 'alpha': 0.2}, 'map': {'value': 0.2130699577564767, 'alpha': 0.2}}\n",
      "{'precision': {'value': 0.6372093023255815, 'alpha': 0.1}, 'recall': {'value': 0.2730182100148534, 'alpha': 0.1}, 'fscore': {'value': 0.38225551473042546, 'alpha': 0.1}, 'rr': {'value': 0.8988372093023256, 'alpha': 0.3}, 'ndcg': {'value': 0.7209484744376639, 'alpha': 0.2}, 'map': {'value': 0.2155405983113744, 'alpha': 0.1}}\n"
     ]
    }
   ],
   "source": [
    "print(bestHyperparams2019['ccUnnormalized'])\n",
    "print(bestHyperparams2019['ccNormalized_minimax'])\n",
    "print(bestHyperparams2019['ccNormalized_zscore'])"
   ]
  },
  {
   "attachments": {},
   "cell_type": "markdown",
   "metadata": {},
   "source": [
    "## Validation of the RRF\n"
   ]
  },
  {
   "cell_type": "code",
   "execution_count": null,
   "metadata": {},
   "outputs": [],
   "source": [
    "with open(\n",
    "    \"../testing/msmarco-test2019-queries.tsv\",\n",
    "    encoding=\"utf-8\",\n",
    "    newline=\"\"\n",
    ") as fp:\n",
    "    queries = {q_id: q for q_id, q in csv.reader(fp, delimiter=\"\\t\")}\n",
    "print(f\"loaded {len(queries)} queries\")\n",
    "\n",
    "# define dictionary to keep track of best results for tested hyperparameters\n",
    "bestHyperparams2019_rrf = {\n",
    "    'rrf': {'precision': {'value': -1, 'eta1': 0, 'eta2': 0}, \n",
    "            'recall': {'value': -1, 'eta1': 0, 'eta2': 0}, \n",
    "            'fscore': {'value': -1, 'eta1': 0, 'eta2': 0}, \n",
    "            'rr': {'value': -1, 'eta1': 0, 'eta2': 0}, \n",
    "            'ndcg': {'value': -1, 'eta1': 0, 'eta2': 0}, \n",
    "            'map': {'value': -1, 'eta1': 0, 'eta2': 0}},\n",
    "}\n",
    "\n",
    "explored = set()\n",
    "\n",
    "for i in tqdm(range(len(etas))):\n",
    "    for j in range(len(etas)):\n",
    "        if (etas[i],etas[j]) in explored:\n",
    "            continue\n",
    "        else:\n",
    "            explored.add((etas[i],etas[j]))\n",
    "            eta = etas[i]\n",
    "\n",
    "        result2 = in_memory_index.get_scores_rrf(\n",
    "            sparse_ranking_2019,\n",
    "            queries,\n",
    "            alpha=alpha,\n",
    "            cutoff=None,\n",
    "            early_stopping=False,\n",
    "            eta = etas[i],\n",
    "            eta2 = etas[j],\n",
    "        )\n",
    "\n",
    "        qrels = list(read_trec_qrels(\"../testing/2019qrels-pass.txt\"))\n",
    "\n",
    "        rrfRes = calc_aggregate([nDCG@10, RR(rel=2)@10,P(rel=2)@10,R(rel=2)@10,AP(rel=2)@10], qrels, result2[alpha].run)\n",
    "        fscoreRRRes = (2*rrfRes[P(rel=2)@10]*rrfRes[R(rel=2)@10])/(rrfRes[P(rel=2)@10]+rrfRes[R(rel=2)@10])\n",
    "\n",
    "\n",
    "        if rrfRes[P(rel=2)@10] > bestHyperparams2019_rrf['rrf']['precision']['value']:\n",
    "            bestHyperparams2019_rrf['rrf']['precision']['value'] = rrfRes[P(rel=2)@10]\n",
    "            bestHyperparams2019_rrf['rrf']['precision']['eta1'] = etas[i]\n",
    "            bestHyperparams2019_rrf['rrf']['precision']['eta2'] = etas[j]\n",
    "\n",
    "\n",
    "        if rrfRes[R(rel=2)@10] > bestHyperparams2019_rrf['rrf']['recall']['value']:\n",
    "            bestHyperparams2019_rrf['rrf']['recall']['value'] = rrfRes[R(rel=2)@10]\n",
    "            bestHyperparams2019_rrf['rrf']['recall']['eta1'] = etas[i]\n",
    "            bestHyperparams2019_rrf['rrf']['recall']['eta2'] = etas[j]\n",
    "\n",
    "\n",
    "        if rrfRes[nDCG@10] > bestHyperparams2019_rrf['rrf']['ndcg']['value']:\n",
    "            bestHyperparams2019_rrf['rrf']['ndcg']['value'] = rrfRes[nDCG@10]\n",
    "            bestHyperparams2019_rrf['rrf']['ndcg']['eta1'] = etas[i]\n",
    "            bestHyperparams2019_rrf['rrf']['ndcg']['eta2'] = etas[j]\n",
    "\n",
    "        if rrfRes[RR(rel=2)@10] > bestHyperparams2019_rrf['rrf']['rr']['value']:\n",
    "            bestHyperparams2019_rrf['rrf']['rr']['value'] = rrfRes[RR(rel=2)@10]\n",
    "            bestHyperparams2019_rrf['rrf']['rr']['eta1'] = etas[i]\n",
    "            bestHyperparams2019_rrf['rrf']['rr']['eta2'] = etas[j]\n",
    "\n",
    "        if fscoreRRRes > bestHyperparams2019_rrf['rrf']['fscore']['value']:\n",
    "            bestHyperparams2019_rrf['rrf']['fscore']['value'] = fscoreRRRes\n",
    "            bestHyperparams2019_rrf['rrf']['fscore']['eta1'] = etas[i]\n",
    "            bestHyperparams2019_rrf['rrf']['fscore']['eta2'] = etas[j]\n",
    "\n",
    "        if rrfRes[AP(rel=2)@10] > bestHyperparams2019_rrf['rrf']['map']['value']:\n",
    "            bestHyperparams2019_rrf['rrf']['map']['value'] = rrfRes[AP(rel=2)@10]\n",
    "            bestHyperparams2019_rrf['rrf']['map']['eta1'] = etas[i]\n",
    "            bestHyperparams2019_rrf['rrf']['map']['eta2'] = etas[j]"
   ]
  },
  {
   "cell_type": "code",
   "execution_count": 17,
   "metadata": {},
   "outputs": [
    {
     "name": "stdout",
     "output_type": "stream",
     "text": [
      "precision {'value': 0.6348837209302326, 'eta1': 40, 'eta2': 10}\n",
      "recall {'value': 0.26976473421199393, 'eta1': 40, 'eta2': 10}\n",
      "fscore {'value': 0.37864263683585114, 'eta1': 40, 'eta2': 10}\n",
      "rr {'value': 0.897674418604651, 'eta1': 20, 'eta2': 20}\n",
      "ndcg {'value': 0.7151248552748896, 'eta1': 80, 'eta2': 40}\n",
      "map {'value': 0.20941181623477223, 'eta1': 100, 'eta2': 10}\n"
     ]
    }
   ],
   "source": [
    "for key in bestHyperparams2019_rrf['rrf']:\n",
    "    print(key, bestHyperparams2019_rrf['rrf'][key])"
   ]
  },
  {
   "attachments": {},
   "cell_type": "markdown",
   "metadata": {},
   "source": [
    "# Testing hyperparameters found from validation on 2020 set"
   ]
  },
  {
   "attachments": {},
   "cell_type": "markdown",
   "metadata": {},
   "source": [
    "## Testing the convex combination parameters\n"
   ]
  },
  {
   "cell_type": "code",
   "execution_count": 19,
   "metadata": {},
   "outputs": [
    {
     "name": "stdout",
     "output_type": "stream",
     "text": [
      "loaded 200 queries\n",
      "\n",
      "TESTING RESULTS FOR BEST VALIDATION METRICS FOR ccUnnormalized\n",
      "Encoding queries for interpolation...\n"
     ]
    },
    {
     "name": "stderr",
     "output_type": "stream",
     "text": [
      "100%|██████████| 54/54 [00:00<00:00, 66.57it/s]\n"
     ]
    },
    {
     "name": "stdout",
     "output_type": "stream",
     "text": [
      "sparse_ranking_2020 None\n",
      "using best alpha=0.1 for precision\n",
      "Interpolation {R(rel=2)@10: 0.39120794049318314, P(rel=2)@10: 0.5333333333333333, AP(rel=2)@10: 0.29804239556403656, RR(rel=2)@10: 0.8148148148148148, nDCG@10: 0.6939603772252908} f-score:0.4513465019601673\n",
      "Encoding queries for interpolation...\n"
     ]
    },
    {
     "name": "stderr",
     "output_type": "stream",
     "text": [
      "100%|██████████| 54/54 [00:00<00:00, 54.56it/s]\n"
     ]
    },
    {
     "name": "stdout",
     "output_type": "stream",
     "text": [
      "sparse_ranking_2020 None\n",
      "using best alpha=0.2 for recall\n",
      "Interpolation {R(rel=2)@10: 0.373499948435731, P(rel=2)@10: 0.5203703703703703, AP(rel=2)@10: 0.28764618362522143, RR(rel=2)@10: 0.7975308641975309, nDCG@10: 0.6714497182268857} f-score:0.4348691357386391\n",
      "Encoding queries for interpolation...\n"
     ]
    },
    {
     "name": "stderr",
     "output_type": "stream",
     "text": [
      "100%|██████████| 54/54 [00:00<00:00, 60.35it/s]\n"
     ]
    },
    {
     "name": "stdout",
     "output_type": "stream",
     "text": [
      "sparse_ranking_2020 None\n",
      "using best alpha=0.2 for fscore\n",
      "Interpolation {R(rel=2)@10: 0.373499948435731, P(rel=2)@10: 0.5203703703703703, AP(rel=2)@10: 0.28764618362522143, RR(rel=2)@10: 0.7975308641975309, nDCG@10: 0.6714497182268857} f-score:0.4348691357386391\n",
      "Encoding queries for interpolation...\n"
     ]
    },
    {
     "name": "stderr",
     "output_type": "stream",
     "text": [
      "100%|██████████| 54/54 [00:00<00:00, 59.17it/s]\n"
     ]
    },
    {
     "name": "stdout",
     "output_type": "stream",
     "text": [
      "sparse_ranking_2020 None\n",
      "using best alpha=0.2 for rr\n",
      "Interpolation {R(rel=2)@10: 0.373499948435731, P(rel=2)@10: 0.5203703703703703, AP(rel=2)@10: 0.28764618362522143, RR(rel=2)@10: 0.7975308641975309, nDCG@10: 0.6714497182268857} f-score:0.4348691357386391\n",
      "Encoding queries for interpolation...\n"
     ]
    },
    {
     "name": "stderr",
     "output_type": "stream",
     "text": [
      "100%|██████████| 54/54 [00:01<00:00, 51.02it/s]\n"
     ]
    },
    {
     "name": "stdout",
     "output_type": "stream",
     "text": [
      "sparse_ranking_2020 None\n",
      "using best alpha=0.1 for ndcg\n",
      "Interpolation {R(rel=2)@10: 0.39120794049318314, P(rel=2)@10: 0.5333333333333333, AP(rel=2)@10: 0.29804239556403656, RR(rel=2)@10: 0.8148148148148148, nDCG@10: 0.6939603772252908} f-score:0.4513465019601673\n",
      "Encoding queries for interpolation...\n"
     ]
    },
    {
     "name": "stderr",
     "output_type": "stream",
     "text": [
      "100%|██████████| 54/54 [00:00<00:00, 60.29it/s]\n"
     ]
    },
    {
     "name": "stdout",
     "output_type": "stream",
     "text": [
      "sparse_ranking_2020 None\n",
      "using best alpha=0.1 for map\n",
      "Interpolation {R(rel=2)@10: 0.39120794049318314, P(rel=2)@10: 0.5333333333333333, AP(rel=2)@10: 0.29804239556403656, RR(rel=2)@10: 0.8148148148148148, nDCG@10: 0.6939603772252908} f-score:0.4513465019601673\n",
      "\n",
      "TESTING RESULTS FOR BEST VALIDATION METRICS FOR ccNormalized_minimax\n",
      "Encoding queries for interpolation...\n"
     ]
    },
    {
     "name": "stderr",
     "output_type": "stream",
     "text": [
      "100%|██████████| 54/54 [00:00<00:00, 65.00it/s]\n"
     ]
    },
    {
     "name": "stdout",
     "output_type": "stream",
     "text": [
      "sparse_ranking_2020 None\n",
      "using best alpha=0.2 for precision\n",
      "Interpolation {R(rel=2)@10: 0.373499948435731, P(rel=2)@10: 0.5203703703703703, AP(rel=2)@10: 0.28764618362522143, RR(rel=2)@10: 0.7975308641975309, nDCG@10: 0.6714497182268857} f-score:0.4348691357386391\n",
      "Encoding queries for interpolation...\n"
     ]
    },
    {
     "name": "stderr",
     "output_type": "stream",
     "text": [
      "100%|██████████| 54/54 [00:01<00:00, 49.60it/s]\n"
     ]
    },
    {
     "name": "stdout",
     "output_type": "stream",
     "text": [
      "sparse_ranking_2020 None\n",
      "using best alpha=0.1 for recall\n",
      "Interpolation {R(rel=2)@10: 0.39120794049318314, P(rel=2)@10: 0.5333333333333333, AP(rel=2)@10: 0.29804239556403656, RR(rel=2)@10: 0.8148148148148148, nDCG@10: 0.6939603772252908} f-score:0.4513465019601673\n",
      "Encoding queries for interpolation...\n"
     ]
    },
    {
     "name": "stderr",
     "output_type": "stream",
     "text": [
      "100%|██████████| 54/54 [00:00<00:00, 77.96it/s]\n"
     ]
    },
    {
     "name": "stdout",
     "output_type": "stream",
     "text": [
      "sparse_ranking_2020 None\n",
      "using best alpha=0.1 for fscore\n",
      "Interpolation {R(rel=2)@10: 0.39120794049318314, P(rel=2)@10: 0.5333333333333333, AP(rel=2)@10: 0.29804239556403656, RR(rel=2)@10: 0.8148148148148148, nDCG@10: 0.6939603772252908} f-score:0.4513465019601673\n",
      "Encoding queries for interpolation...\n"
     ]
    },
    {
     "name": "stderr",
     "output_type": "stream",
     "text": [
      "100%|██████████| 54/54 [00:00<00:00, 95.27it/s] \n"
     ]
    },
    {
     "name": "stdout",
     "output_type": "stream",
     "text": [
      "sparse_ranking_2020 None\n",
      "using best alpha=0.3 for rr\n",
      "Interpolation {R(rel=2)@10: 0.35446072456610184, P(rel=2)@10: 0.4870370370370371, AP(rel=2)@10: 0.2666838650083592, RR(rel=2)@10: 0.7861111111111113, nDCG@10: 0.6418605413650978} f-score:0.41030531254126534\n",
      "Encoding queries for interpolation...\n"
     ]
    },
    {
     "name": "stderr",
     "output_type": "stream",
     "text": [
      "100%|██████████| 54/54 [00:00<00:00, 63.39it/s]\n"
     ]
    },
    {
     "name": "stdout",
     "output_type": "stream",
     "text": [
      "sparse_ranking_2020 None\n",
      "using best alpha=0.2 for ndcg\n",
      "Interpolation {R(rel=2)@10: 0.373499948435731, P(rel=2)@10: 0.5203703703703703, AP(rel=2)@10: 0.28764618362522143, RR(rel=2)@10: 0.7975308641975309, nDCG@10: 0.6714497182268857} f-score:0.4348691357386391\n",
      "Encoding queries for interpolation...\n"
     ]
    },
    {
     "name": "stderr",
     "output_type": "stream",
     "text": [
      "100%|██████████| 54/54 [00:00<00:00, 56.72it/s]\n"
     ]
    },
    {
     "name": "stdout",
     "output_type": "stream",
     "text": [
      "sparse_ranking_2020 None\n",
      "using best alpha=0.2 for map\n",
      "Interpolation {R(rel=2)@10: 0.373499948435731, P(rel=2)@10: 0.5203703703703703, AP(rel=2)@10: 0.28764618362522143, RR(rel=2)@10: 0.7975308641975309, nDCG@10: 0.6714497182268857} f-score:0.4348691357386391\n",
      "\n",
      "TESTING RESULTS FOR BEST VALIDATION METRICS FOR ccNormalized_zscore\n",
      "Encoding queries for interpolation...\n"
     ]
    },
    {
     "name": "stderr",
     "output_type": "stream",
     "text": [
      "100%|██████████| 54/54 [00:00<00:00, 55.98it/s]\n"
     ]
    },
    {
     "name": "stdout",
     "output_type": "stream",
     "text": [
      "sparse_ranking_2020 None\n",
      "using best alpha=0.1 for precision\n",
      "Interpolation {R(rel=2)@10: 0.39120794049318314, P(rel=2)@10: 0.5333333333333333, AP(rel=2)@10: 0.29804239556403656, RR(rel=2)@10: 0.8148148148148148, nDCG@10: 0.6939603772252908} f-score:0.4513465019601673\n",
      "Encoding queries for interpolation...\n"
     ]
    },
    {
     "name": "stderr",
     "output_type": "stream",
     "text": [
      "100%|██████████| 54/54 [00:00<00:00, 78.38it/s]\n"
     ]
    },
    {
     "name": "stdout",
     "output_type": "stream",
     "text": [
      "sparse_ranking_2020 None\n",
      "using best alpha=0.1 for recall\n",
      "Interpolation {R(rel=2)@10: 0.39120794049318314, P(rel=2)@10: 0.5333333333333333, AP(rel=2)@10: 0.29804239556403656, RR(rel=2)@10: 0.8148148148148148, nDCG@10: 0.6939603772252908} f-score:0.4513465019601673\n",
      "Encoding queries for interpolation...\n"
     ]
    },
    {
     "name": "stderr",
     "output_type": "stream",
     "text": [
      "100%|██████████| 54/54 [00:00<00:00, 57.28it/s]\n"
     ]
    },
    {
     "name": "stdout",
     "output_type": "stream",
     "text": [
      "sparse_ranking_2020 None\n",
      "using best alpha=0.1 for fscore\n",
      "Interpolation {R(rel=2)@10: 0.39120794049318314, P(rel=2)@10: 0.5333333333333333, AP(rel=2)@10: 0.29804239556403656, RR(rel=2)@10: 0.8148148148148148, nDCG@10: 0.6939603772252908} f-score:0.4513465019601673\n",
      "Encoding queries for interpolation...\n"
     ]
    },
    {
     "name": "stderr",
     "output_type": "stream",
     "text": [
      "100%|██████████| 54/54 [00:00<00:00, 70.96it/s]\n"
     ]
    },
    {
     "name": "stdout",
     "output_type": "stream",
     "text": [
      "sparse_ranking_2020 None\n",
      "using best alpha=0.3 for rr\n",
      "Interpolation {R(rel=2)@10: 0.35446072456610184, P(rel=2)@10: 0.4870370370370371, AP(rel=2)@10: 0.2666838650083592, RR(rel=2)@10: 0.7861111111111113, nDCG@10: 0.6418605413650978} f-score:0.41030531254126534\n",
      "Encoding queries for interpolation...\n"
     ]
    },
    {
     "name": "stderr",
     "output_type": "stream",
     "text": [
      "100%|██████████| 54/54 [00:00<00:00, 63.97it/s]\n"
     ]
    },
    {
     "name": "stdout",
     "output_type": "stream",
     "text": [
      "sparse_ranking_2020 None\n",
      "using best alpha=0.2 for ndcg\n",
      "Interpolation {R(rel=2)@10: 0.373499948435731, P(rel=2)@10: 0.5203703703703703, AP(rel=2)@10: 0.28764618362522143, RR(rel=2)@10: 0.7975308641975309, nDCG@10: 0.6714497182268857} f-score:0.4348691357386391\n",
      "Encoding queries for interpolation...\n"
     ]
    },
    {
     "name": "stderr",
     "output_type": "stream",
     "text": [
      "100%|██████████| 54/54 [00:00<00:00, 62.19it/s]\n"
     ]
    },
    {
     "name": "stdout",
     "output_type": "stream",
     "text": [
      "sparse_ranking_2020 None\n",
      "using best alpha=0.1 for map\n",
      "Interpolation {R(rel=2)@10: 0.39120794049318314, P(rel=2)@10: 0.5333333333333333, AP(rel=2)@10: 0.29804239556403656, RR(rel=2)@10: 0.8148148148148148, nDCG@10: 0.6939603772252908} f-score:0.4513465019601673\n"
     ]
    }
   ],
   "source": [
    "with open(\n",
    "    \"../testing/msmarco-test2020-queries.tsv\",\n",
    "    encoding=\"utf-8\",\n",
    "    newline=\"\"\n",
    ") as fp:\n",
    "    queries = {q_id: q for q_id, q in csv.reader(fp, delimiter=\"\\t\")}\n",
    "print(f\"loaded {len(queries)} queries\")\n",
    "\n",
    "\n",
    "for key in bestHyperparams2019.keys():\n",
    "    print('\\n'+'TESTING RESULTS FOR BEST VALIDATION METRICS FOR {}'.format(key))\n",
    "    for metric in bestHyperparams2019[key].keys():\n",
    "        # print(f\"best {metric} for {key} is {bestHyperparams2019[key][metric]['value']} with alpha {bestHyperparams2019[key][metric]['alpha']}\")\n",
    "    \n",
    "        alpha = bestHyperparams2019[key][metric]['alpha']\n",
    "\n",
    "        result = in_memory_index.get_scores(\n",
    "            sparse_ranking_2020,\n",
    "            queries,\n",
    "            alpha=alpha*1.0,\n",
    "            cutoff=None,\n",
    "            early_stopping=False,\n",
    "            normalise= False if key == 'ccUnnormalized' else True\n",
    "        )\n",
    "        qrels = list(read_trec_qrels(\"../testing/2020qrels-pass.txt\"))\n",
    "        print('using best alpha={} for {}'.format(alpha, metric))\n",
    "        interpolation2 = calc_aggregate([nDCG@10, RR(rel=2)@10,P(rel=2)@10,R(rel=2)@10,AP(rel=2)@10], qrels, result[alpha].run)\n",
    "        fscoreInterpolation2 = (2*interpolation2[P(rel=2)@10]*interpolation2[R(rel=2)@10])/(interpolation2[P(rel=2)@10]+interpolation2[R(rel=2)@10])\n",
    "        print(\n",
    "            f\"Interpolation\",\n",
    "            interpolation2,\n",
    "            'f-score:{}'.format(fscoreInterpolation2)\n",
    "        )"
   ]
  },
  {
   "attachments": {},
   "cell_type": "markdown",
   "metadata": {},
   "source": [
    "## Testing RRF parameters"
   ]
  },
  {
   "cell_type": "code",
   "execution_count": 18,
   "metadata": {},
   "outputs": [
    {
     "name": "stdout",
     "output_type": "stream",
     "text": [
      "loaded 200 queries\n",
      "\n",
      "TESTING RESULTS FOR BEST VALIDATION METRICS FOR unnormalized\n",
      "Encoding queries for RRF...\n"
     ]
    },
    {
     "name": "stderr",
     "output_type": "stream",
     "text": [
      "100%|██████████| 54/54 [00:01<00:00, 36.51it/s]\n"
     ]
    },
    {
     "name": "stdout",
     "output_type": "stream",
     "text": [
      "using best eta1=40 and eta2=10 for precision\n",
      "RRF {R(rel=2)@10: 0.3702476168178881, P(rel=2)@10: 0.5037037037037038, AP(rel=2)@10: 0.2851841737423464, RR(rel=2)@10: 0.79320987654321, nDCG@10: 0.6793628703705971} f-score:0.4267860039786561\n",
      "Encoding queries for RRF...\n"
     ]
    },
    {
     "name": "stderr",
     "output_type": "stream",
     "text": [
      "100%|██████████| 54/54 [00:00<00:00, 59.93it/s]\n"
     ]
    },
    {
     "name": "stdout",
     "output_type": "stream",
     "text": [
      "using best eta1=40 and eta2=10 for recall\n",
      "RRF {R(rel=2)@10: 0.3702476168178881, P(rel=2)@10: 0.5037037037037038, AP(rel=2)@10: 0.2851841737423464, RR(rel=2)@10: 0.79320987654321, nDCG@10: 0.6793628703705971} f-score:0.4267860039786561\n",
      "Encoding queries for RRF...\n"
     ]
    },
    {
     "name": "stderr",
     "output_type": "stream",
     "text": [
      "100%|██████████| 54/54 [00:00<00:00, 62.24it/s]\n"
     ]
    },
    {
     "name": "stdout",
     "output_type": "stream",
     "text": [
      "using best eta1=40 and eta2=10 for fscore\n",
      "RRF {R(rel=2)@10: 0.3702476168178881, P(rel=2)@10: 0.5037037037037038, AP(rel=2)@10: 0.2851841737423464, RR(rel=2)@10: 0.79320987654321, nDCG@10: 0.6793628703705971} f-score:0.4267860039786561\n",
      "Encoding queries for RRF...\n"
     ]
    },
    {
     "name": "stderr",
     "output_type": "stream",
     "text": [
      "100%|██████████| 54/54 [00:00<00:00, 67.40it/s] \n"
     ]
    },
    {
     "name": "stdout",
     "output_type": "stream",
     "text": [
      "using best eta1=20 and eta2=20 for rr\n",
      "RRF {R(rel=2)@10: 0.3525888949678007, P(rel=2)@10: 0.4814814814814814, AP(rel=2)@10: 0.26808911791402357, RR(rel=2)@10: 0.809104938271605, nDCG@10: 0.6395099489434912} f-score:0.4070760173157598\n",
      "Encoding queries for RRF...\n"
     ]
    },
    {
     "name": "stderr",
     "output_type": "stream",
     "text": [
      "100%|██████████| 54/54 [00:00<00:00, 58.52it/s]\n"
     ]
    },
    {
     "name": "stdout",
     "output_type": "stream",
     "text": [
      "using best eta1=80 and eta2=40 for ndcg\n",
      "RRF {R(rel=2)@10: 0.3707075753764424, P(rel=2)@10: 0.5037037037037037, AP(rel=2)@10: 0.28120310355515377, RR(rel=2)@10: 0.807716049382716, nDCG@10: 0.6639475222194774} f-score:0.4270914229390197\n",
      "Encoding queries for RRF...\n"
     ]
    },
    {
     "name": "stderr",
     "output_type": "stream",
     "text": [
      "100%|██████████| 54/54 [00:00<00:00, 63.86it/s]\n"
     ]
    },
    {
     "name": "stdout",
     "output_type": "stream",
     "text": [
      "using best eta1=100 and eta2=10 for map\n",
      "RRF {R(rel=2)@10: 0.368343713885258, P(rel=2)@10: 0.5111111111111111, AP(rel=2)@10: 0.29184181741782134, RR(rel=2)@10: 0.8154320987654321, nDCG@10: 0.6829413068342426} f-score:0.4281392506442038\n"
     ]
    }
   ],
   "source": [
    "with open(\n",
    "    \"../testing/msmarco-test2020-queries.tsv\",\n",
    "    encoding=\"utf-8\",\n",
    "    newline=\"\"\n",
    ") as fp:\n",
    "    queries = {q_id: q for q_id, q in csv.reader(fp, delimiter=\"\\t\")}\n",
    "print(f\"loaded {len(queries)} queries\")\n",
    "\n",
    "\n",
    "for key in bestHyperparams2019_rrf.keys():\n",
    "    print('\\n'+'TESTING RESULTS FOR BEST VALIDATION METRICS FOR {}'.format('normalized' if key == 'ccNormalized' else 'unnormalized'))\n",
    "    for metric in bestHyperparams2019_rrf[key].keys():\n",
    "        # print(f\"best {metric} for {key} is {bestHyperparams2019[key][metric]['value']} with alpha {bestHyperparams2019[key][metric]['alpha']}\")\n",
    "        eta1 = bestHyperparams2019_rrf[key][metric]['eta1']\n",
    "        eta2 = bestHyperparams2019_rrf[key][metric]['eta2']\n",
    "        alpha = 0.0\n",
    "        result = in_memory_index.get_scores_rrf(\n",
    "            sparse_ranking_2020,\n",
    "            queries,\n",
    "            alpha=alpha,\n",
    "            cutoff=None,\n",
    "            early_stopping=False,\n",
    "            eta = eta1,\n",
    "            eta2 = eta2\n",
    "        )\n",
    "        qrels = list(read_trec_qrels(\"../testing/2020qrels-pass.txt\"))\n",
    "        print('using best eta1={} and eta2={} for {}'.format(eta1, eta2, metric))\n",
    "        interpolation2 = calc_aggregate([nDCG@10, RR(rel=2)@10,P(rel=2)@10,R(rel=2)@10,AP(rel=2)@10], qrels, result[alpha].run)\n",
    "        fscoreInterpolation2 = (2*interpolation2[P(rel=2)@10]*interpolation2[R(rel=2)@10])/(interpolation2[P(rel=2)@10]+interpolation2[R(rel=2)@10])\n",
    "        print(\n",
    "            f\"RRF\",\n",
    "            interpolation2,\n",
    "            'f-score:{}'.format(fscoreInterpolation2)\n",
    "        )"
   ]
  }
 ],
 "metadata": {
  "kernelspec": {
   "display_name": "Python 3",
   "language": "python",
   "name": "python3"
  },
  "language_info": {
   "codemirror_mode": {
    "name": "ipython",
    "version": 3
   },
   "file_extension": ".py",
   "mimetype": "text/x-python",
   "name": "python",
   "nbconvert_exporter": "python",
   "pygments_lexer": "ipython3",
   "version": "3.11.2"
  },
  "orig_nbformat": 4
 },
 "nbformat": 4,
 "nbformat_minor": 2
}
